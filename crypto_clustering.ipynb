{
 "cells": [
  {
   "cell_type": "markdown",
   "metadata": {},
   "source": [
    "# Clustering Crypto"
   ]
  },
  {
   "cell_type": "code",
   "execution_count": 160,
   "metadata": {},
   "outputs": [],
   "source": [
    "# Initial imports\n",
    "import pandas as pd\n",
    "import hvplot.pandas\n",
    "from path import Path\n",
    "import plotly.express as px\n",
    "from sklearn.preprocessing import StandardScaler, MinMaxScaler\n",
    "from sklearn.decomposition import PCA\n",
    "from sklearn.cluster import KMeans\n"
   ]
  },
  {
   "cell_type": "markdown",
   "metadata": {},
   "source": [
    "### Deliverable 1: Preprocessing the Data for PCA"
   ]
  },
  {
   "cell_type": "code",
   "execution_count": 161,
   "metadata": {},
   "outputs": [
    {
     "data": {
      "text/html": [
       "<div>\n",
       "<style scoped>\n",
       "    .dataframe tbody tr th:only-of-type {\n",
       "        vertical-align: middle;\n",
       "    }\n",
       "\n",
       "    .dataframe tbody tr th {\n",
       "        vertical-align: top;\n",
       "    }\n",
       "\n",
       "    .dataframe thead th {\n",
       "        text-align: right;\n",
       "    }\n",
       "</style>\n",
       "<table border=\"1\" class=\"dataframe\">\n",
       "  <thead>\n",
       "    <tr style=\"text-align: right;\">\n",
       "      <th></th>\n",
       "      <th>CoinName</th>\n",
       "      <th>Algorithm</th>\n",
       "      <th>IsTrading</th>\n",
       "      <th>ProofType</th>\n",
       "      <th>TotalCoinsMined</th>\n",
       "      <th>TotalCoinSupply</th>\n",
       "    </tr>\n",
       "  </thead>\n",
       "  <tbody>\n",
       "    <tr>\n",
       "      <th>42</th>\n",
       "      <td>42 Coin</td>\n",
       "      <td>Scrypt</td>\n",
       "      <td>True</td>\n",
       "      <td>PoW/PoS</td>\n",
       "      <td>4.199995e+01</td>\n",
       "      <td>42</td>\n",
       "    </tr>\n",
       "    <tr>\n",
       "      <th>365</th>\n",
       "      <td>365Coin</td>\n",
       "      <td>X11</td>\n",
       "      <td>True</td>\n",
       "      <td>PoW/PoS</td>\n",
       "      <td>NaN</td>\n",
       "      <td>2300000000</td>\n",
       "    </tr>\n",
       "    <tr>\n",
       "      <th>404</th>\n",
       "      <td>404Coin</td>\n",
       "      <td>Scrypt</td>\n",
       "      <td>True</td>\n",
       "      <td>PoW/PoS</td>\n",
       "      <td>1.055185e+09</td>\n",
       "      <td>532000000</td>\n",
       "    </tr>\n",
       "    <tr>\n",
       "      <th>611</th>\n",
       "      <td>SixEleven</td>\n",
       "      <td>SHA-256</td>\n",
       "      <td>True</td>\n",
       "      <td>PoW</td>\n",
       "      <td>NaN</td>\n",
       "      <td>611000</td>\n",
       "    </tr>\n",
       "    <tr>\n",
       "      <th>808</th>\n",
       "      <td>808</td>\n",
       "      <td>SHA-256</td>\n",
       "      <td>True</td>\n",
       "      <td>PoW/PoS</td>\n",
       "      <td>0.000000e+00</td>\n",
       "      <td>0</td>\n",
       "    </tr>\n",
       "  </tbody>\n",
       "</table>\n",
       "</div>"
      ],
      "text/plain": [
       "      CoinName Algorithm  IsTrading ProofType  TotalCoinsMined TotalCoinSupply\n",
       "42     42 Coin    Scrypt       True   PoW/PoS     4.199995e+01              42\n",
       "365    365Coin       X11       True   PoW/PoS              NaN      2300000000\n",
       "404    404Coin    Scrypt       True   PoW/PoS     1.055185e+09       532000000\n",
       "611  SixEleven   SHA-256       True       PoW              NaN          611000\n",
       "808        808   SHA-256       True   PoW/PoS     0.000000e+00               0"
      ]
     },
     "execution_count": 161,
     "metadata": {},
     "output_type": "execute_result"
    }
   ],
   "source": [
    "# Load the crypto_data.csv dataset.\n",
    "file_path = \"Resources/crypto_data.csv\"\n",
    "crypto_df = pd.read_csv(file_path,index_col=0)\n",
    "crypto_df.head()"
   ]
  },
  {
   "cell_type": "code",
   "execution_count": 162,
   "metadata": {},
   "outputs": [
    {
     "data": {
      "text/html": [
       "<div>\n",
       "<style scoped>\n",
       "    .dataframe tbody tr th:only-of-type {\n",
       "        vertical-align: middle;\n",
       "    }\n",
       "\n",
       "    .dataframe tbody tr th {\n",
       "        vertical-align: top;\n",
       "    }\n",
       "\n",
       "    .dataframe thead th {\n",
       "        text-align: right;\n",
       "    }\n",
       "</style>\n",
       "<table border=\"1\" class=\"dataframe\">\n",
       "  <thead>\n",
       "    <tr style=\"text-align: right;\">\n",
       "      <th></th>\n",
       "      <th>CoinName</th>\n",
       "      <th>Algorithm</th>\n",
       "      <th>IsTrading</th>\n",
       "      <th>ProofType</th>\n",
       "      <th>TotalCoinsMined</th>\n",
       "      <th>TotalCoinSupply</th>\n",
       "    </tr>\n",
       "  </thead>\n",
       "  <tbody>\n",
       "    <tr>\n",
       "      <th>42</th>\n",
       "      <td>42 Coin</td>\n",
       "      <td>Scrypt</td>\n",
       "      <td>True</td>\n",
       "      <td>PoW/PoS</td>\n",
       "      <td>4.199995e+01</td>\n",
       "      <td>42</td>\n",
       "    </tr>\n",
       "    <tr>\n",
       "      <th>365</th>\n",
       "      <td>365Coin</td>\n",
       "      <td>X11</td>\n",
       "      <td>True</td>\n",
       "      <td>PoW/PoS</td>\n",
       "      <td>NaN</td>\n",
       "      <td>2300000000</td>\n",
       "    </tr>\n",
       "    <tr>\n",
       "      <th>404</th>\n",
       "      <td>404Coin</td>\n",
       "      <td>Scrypt</td>\n",
       "      <td>True</td>\n",
       "      <td>PoW/PoS</td>\n",
       "      <td>1.055185e+09</td>\n",
       "      <td>532000000</td>\n",
       "    </tr>\n",
       "    <tr>\n",
       "      <th>611</th>\n",
       "      <td>SixEleven</td>\n",
       "      <td>SHA-256</td>\n",
       "      <td>True</td>\n",
       "      <td>PoW</td>\n",
       "      <td>NaN</td>\n",
       "      <td>611000</td>\n",
       "    </tr>\n",
       "    <tr>\n",
       "      <th>808</th>\n",
       "      <td>808</td>\n",
       "      <td>SHA-256</td>\n",
       "      <td>True</td>\n",
       "      <td>PoW/PoS</td>\n",
       "      <td>0.000000e+00</td>\n",
       "      <td>0</td>\n",
       "    </tr>\n",
       "    <tr>\n",
       "      <th>...</th>\n",
       "      <td>...</td>\n",
       "      <td>...</td>\n",
       "      <td>...</td>\n",
       "      <td>...</td>\n",
       "      <td>...</td>\n",
       "      <td>...</td>\n",
       "    </tr>\n",
       "    <tr>\n",
       "      <th>SERO</th>\n",
       "      <td>Super Zero</td>\n",
       "      <td>Ethash</td>\n",
       "      <td>True</td>\n",
       "      <td>PoW</td>\n",
       "      <td>NaN</td>\n",
       "      <td>1000000000</td>\n",
       "    </tr>\n",
       "    <tr>\n",
       "      <th>UOS</th>\n",
       "      <td>UOS</td>\n",
       "      <td>SHA-256</td>\n",
       "      <td>True</td>\n",
       "      <td>DPoI</td>\n",
       "      <td>NaN</td>\n",
       "      <td>1000000000</td>\n",
       "    </tr>\n",
       "    <tr>\n",
       "      <th>BDX</th>\n",
       "      <td>Beldex</td>\n",
       "      <td>CryptoNight</td>\n",
       "      <td>True</td>\n",
       "      <td>PoW</td>\n",
       "      <td>9.802226e+08</td>\n",
       "      <td>1400222610</td>\n",
       "    </tr>\n",
       "    <tr>\n",
       "      <th>ZEN</th>\n",
       "      <td>Horizen</td>\n",
       "      <td>Equihash</td>\n",
       "      <td>True</td>\n",
       "      <td>PoW</td>\n",
       "      <td>7.296538e+06</td>\n",
       "      <td>21000000</td>\n",
       "    </tr>\n",
       "    <tr>\n",
       "      <th>XBC</th>\n",
       "      <td>BitcoinPlus</td>\n",
       "      <td>Scrypt</td>\n",
       "      <td>True</td>\n",
       "      <td>PoS</td>\n",
       "      <td>1.283270e+05</td>\n",
       "      <td>1000000</td>\n",
       "    </tr>\n",
       "  </tbody>\n",
       "</table>\n",
       "<p>1144 rows × 6 columns</p>\n",
       "</div>"
      ],
      "text/plain": [
       "         CoinName    Algorithm  IsTrading ProofType  TotalCoinsMined  \\\n",
       "42        42 Coin       Scrypt       True   PoW/PoS     4.199995e+01   \n",
       "365       365Coin          X11       True   PoW/PoS              NaN   \n",
       "404       404Coin       Scrypt       True   PoW/PoS     1.055185e+09   \n",
       "611     SixEleven      SHA-256       True       PoW              NaN   \n",
       "808           808      SHA-256       True   PoW/PoS     0.000000e+00   \n",
       "...           ...          ...        ...       ...              ...   \n",
       "SERO   Super Zero       Ethash       True       PoW              NaN   \n",
       "UOS           UOS      SHA-256       True      DPoI              NaN   \n",
       "BDX        Beldex  CryptoNight       True       PoW     9.802226e+08   \n",
       "ZEN       Horizen     Equihash       True       PoW     7.296538e+06   \n",
       "XBC   BitcoinPlus       Scrypt       True       PoS     1.283270e+05   \n",
       "\n",
       "     TotalCoinSupply  \n",
       "42                42  \n",
       "365       2300000000  \n",
       "404        532000000  \n",
       "611           611000  \n",
       "808                0  \n",
       "...              ...  \n",
       "SERO      1000000000  \n",
       "UOS       1000000000  \n",
       "BDX       1400222610  \n",
       "ZEN         21000000  \n",
       "XBC          1000000  \n",
       "\n",
       "[1144 rows x 6 columns]"
      ]
     },
     "execution_count": 162,
     "metadata": {},
     "output_type": "execute_result"
    }
   ],
   "source": [
    "# Keep all the cryptocurrencies that are being traded\n",
    "crypto_df = crypto_df[crypto_df.IsTrading != False]\n",
    "crypto_df"
   ]
  },
  {
   "cell_type": "code",
   "execution_count": 163,
   "metadata": {},
   "outputs": [
    {
     "data": {
      "text/html": [
       "<div>\n",
       "<style scoped>\n",
       "    .dataframe tbody tr th:only-of-type {\n",
       "        vertical-align: middle;\n",
       "    }\n",
       "\n",
       "    .dataframe tbody tr th {\n",
       "        vertical-align: top;\n",
       "    }\n",
       "\n",
       "    .dataframe thead th {\n",
       "        text-align: right;\n",
       "    }\n",
       "</style>\n",
       "<table border=\"1\" class=\"dataframe\">\n",
       "  <thead>\n",
       "    <tr style=\"text-align: right;\">\n",
       "      <th></th>\n",
       "      <th>CoinName</th>\n",
       "      <th>Algorithm</th>\n",
       "      <th>ProofType</th>\n",
       "      <th>TotalCoinsMined</th>\n",
       "      <th>TotalCoinSupply</th>\n",
       "    </tr>\n",
       "  </thead>\n",
       "  <tbody>\n",
       "    <tr>\n",
       "      <th>42</th>\n",
       "      <td>42 Coin</td>\n",
       "      <td>Scrypt</td>\n",
       "      <td>PoW/PoS</td>\n",
       "      <td>4.199995e+01</td>\n",
       "      <td>42</td>\n",
       "    </tr>\n",
       "    <tr>\n",
       "      <th>365</th>\n",
       "      <td>365Coin</td>\n",
       "      <td>X11</td>\n",
       "      <td>PoW/PoS</td>\n",
       "      <td>NaN</td>\n",
       "      <td>2300000000</td>\n",
       "    </tr>\n",
       "    <tr>\n",
       "      <th>404</th>\n",
       "      <td>404Coin</td>\n",
       "      <td>Scrypt</td>\n",
       "      <td>PoW/PoS</td>\n",
       "      <td>1.055185e+09</td>\n",
       "      <td>532000000</td>\n",
       "    </tr>\n",
       "    <tr>\n",
       "      <th>611</th>\n",
       "      <td>SixEleven</td>\n",
       "      <td>SHA-256</td>\n",
       "      <td>PoW</td>\n",
       "      <td>NaN</td>\n",
       "      <td>611000</td>\n",
       "    </tr>\n",
       "    <tr>\n",
       "      <th>808</th>\n",
       "      <td>808</td>\n",
       "      <td>SHA-256</td>\n",
       "      <td>PoW/PoS</td>\n",
       "      <td>0.000000e+00</td>\n",
       "      <td>0</td>\n",
       "    </tr>\n",
       "  </tbody>\n",
       "</table>\n",
       "</div>"
      ],
      "text/plain": [
       "      CoinName Algorithm ProofType  TotalCoinsMined TotalCoinSupply\n",
       "42     42 Coin    Scrypt   PoW/PoS     4.199995e+01              42\n",
       "365    365Coin       X11   PoW/PoS              NaN      2300000000\n",
       "404    404Coin    Scrypt   PoW/PoS     1.055185e+09       532000000\n",
       "611  SixEleven   SHA-256       PoW              NaN          611000\n",
       "808        808   SHA-256   PoW/PoS     0.000000e+00               0"
      ]
     },
     "execution_count": 163,
     "metadata": {},
     "output_type": "execute_result"
    }
   ],
   "source": [
    "# Drop the IsTrading column\n",
    "crypto_df = crypto_df.drop(['IsTrading'], axis=1)\n",
    "crypto_df.head()"
   ]
  },
  {
   "cell_type": "code",
   "execution_count": 164,
   "metadata": {},
   "outputs": [
    {
     "data": {
      "text/html": [
       "<div>\n",
       "<style scoped>\n",
       "    .dataframe tbody tr th:only-of-type {\n",
       "        vertical-align: middle;\n",
       "    }\n",
       "\n",
       "    .dataframe tbody tr th {\n",
       "        vertical-align: top;\n",
       "    }\n",
       "\n",
       "    .dataframe thead th {\n",
       "        text-align: right;\n",
       "    }\n",
       "</style>\n",
       "<table border=\"1\" class=\"dataframe\">\n",
       "  <thead>\n",
       "    <tr style=\"text-align: right;\">\n",
       "      <th></th>\n",
       "      <th>CoinName</th>\n",
       "      <th>Algorithm</th>\n",
       "      <th>ProofType</th>\n",
       "      <th>TotalCoinsMined</th>\n",
       "      <th>TotalCoinSupply</th>\n",
       "    </tr>\n",
       "  </thead>\n",
       "  <tbody>\n",
       "    <tr>\n",
       "      <th>42</th>\n",
       "      <td>42 Coin</td>\n",
       "      <td>Scrypt</td>\n",
       "      <td>PoW/PoS</td>\n",
       "      <td>4.199995e+01</td>\n",
       "      <td>42</td>\n",
       "    </tr>\n",
       "    <tr>\n",
       "      <th>404</th>\n",
       "      <td>404Coin</td>\n",
       "      <td>Scrypt</td>\n",
       "      <td>PoW/PoS</td>\n",
       "      <td>1.055185e+09</td>\n",
       "      <td>532000000</td>\n",
       "    </tr>\n",
       "    <tr>\n",
       "      <th>808</th>\n",
       "      <td>808</td>\n",
       "      <td>SHA-256</td>\n",
       "      <td>PoW/PoS</td>\n",
       "      <td>0.000000e+00</td>\n",
       "      <td>0</td>\n",
       "    </tr>\n",
       "    <tr>\n",
       "      <th>1337</th>\n",
       "      <td>EliteCoin</td>\n",
       "      <td>X13</td>\n",
       "      <td>PoW/PoS</td>\n",
       "      <td>2.927942e+10</td>\n",
       "      <td>314159265359</td>\n",
       "    </tr>\n",
       "    <tr>\n",
       "      <th>BTC</th>\n",
       "      <td>Bitcoin</td>\n",
       "      <td>SHA-256</td>\n",
       "      <td>PoW</td>\n",
       "      <td>1.792718e+07</td>\n",
       "      <td>21000000</td>\n",
       "    </tr>\n",
       "    <tr>\n",
       "      <th>ETH</th>\n",
       "      <td>Ethereum</td>\n",
       "      <td>Ethash</td>\n",
       "      <td>PoW</td>\n",
       "      <td>1.076842e+08</td>\n",
       "      <td>0</td>\n",
       "    </tr>\n",
       "    <tr>\n",
       "      <th>LTC</th>\n",
       "      <td>Litecoin</td>\n",
       "      <td>Scrypt</td>\n",
       "      <td>PoW</td>\n",
       "      <td>6.303924e+07</td>\n",
       "      <td>84000000</td>\n",
       "    </tr>\n",
       "    <tr>\n",
       "      <th>DASH</th>\n",
       "      <td>Dash</td>\n",
       "      <td>X11</td>\n",
       "      <td>PoW/PoS</td>\n",
       "      <td>9.031294e+06</td>\n",
       "      <td>22000000</td>\n",
       "    </tr>\n",
       "    <tr>\n",
       "      <th>XMR</th>\n",
       "      <td>Monero</td>\n",
       "      <td>CryptoNight-V7</td>\n",
       "      <td>PoW</td>\n",
       "      <td>1.720114e+07</td>\n",
       "      <td>0</td>\n",
       "    </tr>\n",
       "    <tr>\n",
       "      <th>ETC</th>\n",
       "      <td>Ethereum Classic</td>\n",
       "      <td>Ethash</td>\n",
       "      <td>PoW</td>\n",
       "      <td>1.133597e+08</td>\n",
       "      <td>210000000</td>\n",
       "    </tr>\n",
       "  </tbody>\n",
       "</table>\n",
       "</div>"
      ],
      "text/plain": [
       "              CoinName       Algorithm ProofType  TotalCoinsMined  \\\n",
       "42             42 Coin          Scrypt   PoW/PoS     4.199995e+01   \n",
       "404            404Coin          Scrypt   PoW/PoS     1.055185e+09   \n",
       "808                808         SHA-256   PoW/PoS     0.000000e+00   \n",
       "1337         EliteCoin             X13   PoW/PoS     2.927942e+10   \n",
       "BTC            Bitcoin         SHA-256       PoW     1.792718e+07   \n",
       "ETH           Ethereum          Ethash       PoW     1.076842e+08   \n",
       "LTC           Litecoin          Scrypt       PoW     6.303924e+07   \n",
       "DASH              Dash             X11   PoW/PoS     9.031294e+06   \n",
       "XMR             Monero  CryptoNight-V7       PoW     1.720114e+07   \n",
       "ETC   Ethereum Classic          Ethash       PoW     1.133597e+08   \n",
       "\n",
       "     TotalCoinSupply  \n",
       "42                42  \n",
       "404        532000000  \n",
       "808                0  \n",
       "1337    314159265359  \n",
       "BTC         21000000  \n",
       "ETH                0  \n",
       "LTC         84000000  \n",
       "DASH        22000000  \n",
       "XMR                0  \n",
       "ETC        210000000  "
      ]
     },
     "execution_count": 164,
     "metadata": {},
     "output_type": "execute_result"
    }
   ],
   "source": [
    "# Remove rows that have at least one null value\n",
    "crypto_df = crypto_df.dropna()\n",
    "crypto_df.head(10)"
   ]
  },
  {
   "cell_type": "code",
   "execution_count": 165,
   "metadata": {},
   "outputs": [
    {
     "data": {
      "text/html": [
       "<div>\n",
       "<style scoped>\n",
       "    .dataframe tbody tr th:only-of-type {\n",
       "        vertical-align: middle;\n",
       "    }\n",
       "\n",
       "    .dataframe tbody tr th {\n",
       "        vertical-align: top;\n",
       "    }\n",
       "\n",
       "    .dataframe thead th {\n",
       "        text-align: right;\n",
       "    }\n",
       "</style>\n",
       "<table border=\"1\" class=\"dataframe\">\n",
       "  <thead>\n",
       "    <tr style=\"text-align: right;\">\n",
       "      <th></th>\n",
       "      <th>CoinName</th>\n",
       "      <th>Algorithm</th>\n",
       "      <th>ProofType</th>\n",
       "      <th>TotalCoinsMined</th>\n",
       "      <th>TotalCoinSupply</th>\n",
       "    </tr>\n",
       "  </thead>\n",
       "  <tbody>\n",
       "    <tr>\n",
       "      <th>42</th>\n",
       "      <td>42 Coin</td>\n",
       "      <td>Scrypt</td>\n",
       "      <td>PoW/PoS</td>\n",
       "      <td>4.199995e+01</td>\n",
       "      <td>42</td>\n",
       "    </tr>\n",
       "    <tr>\n",
       "      <th>404</th>\n",
       "      <td>404Coin</td>\n",
       "      <td>Scrypt</td>\n",
       "      <td>PoW/PoS</td>\n",
       "      <td>1.055185e+09</td>\n",
       "      <td>532000000</td>\n",
       "    </tr>\n",
       "    <tr>\n",
       "      <th>1337</th>\n",
       "      <td>EliteCoin</td>\n",
       "      <td>X13</td>\n",
       "      <td>PoW/PoS</td>\n",
       "      <td>2.927942e+10</td>\n",
       "      <td>314159265359</td>\n",
       "    </tr>\n",
       "    <tr>\n",
       "      <th>BTC</th>\n",
       "      <td>Bitcoin</td>\n",
       "      <td>SHA-256</td>\n",
       "      <td>PoW</td>\n",
       "      <td>1.792718e+07</td>\n",
       "      <td>21000000</td>\n",
       "    </tr>\n",
       "    <tr>\n",
       "      <th>ETH</th>\n",
       "      <td>Ethereum</td>\n",
       "      <td>Ethash</td>\n",
       "      <td>PoW</td>\n",
       "      <td>1.076842e+08</td>\n",
       "      <td>0</td>\n",
       "    </tr>\n",
       "    <tr>\n",
       "      <th>LTC</th>\n",
       "      <td>Litecoin</td>\n",
       "      <td>Scrypt</td>\n",
       "      <td>PoW</td>\n",
       "      <td>6.303924e+07</td>\n",
       "      <td>84000000</td>\n",
       "    </tr>\n",
       "    <tr>\n",
       "      <th>DASH</th>\n",
       "      <td>Dash</td>\n",
       "      <td>X11</td>\n",
       "      <td>PoW/PoS</td>\n",
       "      <td>9.031294e+06</td>\n",
       "      <td>22000000</td>\n",
       "    </tr>\n",
       "    <tr>\n",
       "      <th>XMR</th>\n",
       "      <td>Monero</td>\n",
       "      <td>CryptoNight-V7</td>\n",
       "      <td>PoW</td>\n",
       "      <td>1.720114e+07</td>\n",
       "      <td>0</td>\n",
       "    </tr>\n",
       "    <tr>\n",
       "      <th>ETC</th>\n",
       "      <td>Ethereum Classic</td>\n",
       "      <td>Ethash</td>\n",
       "      <td>PoW</td>\n",
       "      <td>1.133597e+08</td>\n",
       "      <td>210000000</td>\n",
       "    </tr>\n",
       "    <tr>\n",
       "      <th>ZEC</th>\n",
       "      <td>ZCash</td>\n",
       "      <td>Equihash</td>\n",
       "      <td>PoW</td>\n",
       "      <td>7.383056e+06</td>\n",
       "      <td>21000000</td>\n",
       "    </tr>\n",
       "  </tbody>\n",
       "</table>\n",
       "</div>"
      ],
      "text/plain": [
       "              CoinName       Algorithm ProofType  TotalCoinsMined  \\\n",
       "42             42 Coin          Scrypt   PoW/PoS     4.199995e+01   \n",
       "404            404Coin          Scrypt   PoW/PoS     1.055185e+09   \n",
       "1337         EliteCoin             X13   PoW/PoS     2.927942e+10   \n",
       "BTC            Bitcoin         SHA-256       PoW     1.792718e+07   \n",
       "ETH           Ethereum          Ethash       PoW     1.076842e+08   \n",
       "LTC           Litecoin          Scrypt       PoW     6.303924e+07   \n",
       "DASH              Dash             X11   PoW/PoS     9.031294e+06   \n",
       "XMR             Monero  CryptoNight-V7       PoW     1.720114e+07   \n",
       "ETC   Ethereum Classic          Ethash       PoW     1.133597e+08   \n",
       "ZEC              ZCash        Equihash       PoW     7.383056e+06   \n",
       "\n",
       "     TotalCoinSupply  \n",
       "42                42  \n",
       "404        532000000  \n",
       "1337    314159265359  \n",
       "BTC         21000000  \n",
       "ETH                0  \n",
       "LTC         84000000  \n",
       "DASH        22000000  \n",
       "XMR                0  \n",
       "ETC        210000000  \n",
       "ZEC         21000000  "
      ]
     },
     "execution_count": 165,
     "metadata": {},
     "output_type": "execute_result"
    }
   ],
   "source": [
    "# Filter the crypto_df DataFrame so it only has rows where coins have been mined.\n",
    "crypto_df = crypto_df[crypto_df.TotalCoinsMined != 0]\n",
    "crypto_df.head(10)"
   ]
  },
  {
   "cell_type": "code",
   "execution_count": 166,
   "metadata": {},
   "outputs": [
    {
     "data": {
      "text/html": [
       "<div>\n",
       "<style scoped>\n",
       "    .dataframe tbody tr th:only-of-type {\n",
       "        vertical-align: middle;\n",
       "    }\n",
       "\n",
       "    .dataframe tbody tr th {\n",
       "        vertical-align: top;\n",
       "    }\n",
       "\n",
       "    .dataframe thead th {\n",
       "        text-align: right;\n",
       "    }\n",
       "</style>\n",
       "<table border=\"1\" class=\"dataframe\">\n",
       "  <thead>\n",
       "    <tr style=\"text-align: right;\">\n",
       "      <th></th>\n",
       "      <th>CoinName</th>\n",
       "    </tr>\n",
       "  </thead>\n",
       "  <tbody>\n",
       "    <tr>\n",
       "      <th>42</th>\n",
       "      <td>42 Coin</td>\n",
       "    </tr>\n",
       "    <tr>\n",
       "      <th>404</th>\n",
       "      <td>404Coin</td>\n",
       "    </tr>\n",
       "    <tr>\n",
       "      <th>1337</th>\n",
       "      <td>EliteCoin</td>\n",
       "    </tr>\n",
       "    <tr>\n",
       "      <th>BTC</th>\n",
       "      <td>Bitcoin</td>\n",
       "    </tr>\n",
       "    <tr>\n",
       "      <th>ETH</th>\n",
       "      <td>Ethereum</td>\n",
       "    </tr>\n",
       "    <tr>\n",
       "      <th>LTC</th>\n",
       "      <td>Litecoin</td>\n",
       "    </tr>\n",
       "    <tr>\n",
       "      <th>DASH</th>\n",
       "      <td>Dash</td>\n",
       "    </tr>\n",
       "    <tr>\n",
       "      <th>XMR</th>\n",
       "      <td>Monero</td>\n",
       "    </tr>\n",
       "    <tr>\n",
       "      <th>ETC</th>\n",
       "      <td>Ethereum Classic</td>\n",
       "    </tr>\n",
       "    <tr>\n",
       "      <th>ZEC</th>\n",
       "      <td>ZCash</td>\n",
       "    </tr>\n",
       "  </tbody>\n",
       "</table>\n",
       "</div>"
      ],
      "text/plain": [
       "              CoinName\n",
       "42             42 Coin\n",
       "404            404Coin\n",
       "1337         EliteCoin\n",
       "BTC            Bitcoin\n",
       "ETH           Ethereum\n",
       "LTC           Litecoin\n",
       "DASH              Dash\n",
       "XMR             Monero\n",
       "ETC   Ethereum Classic\n",
       "ZEC              ZCash"
      ]
     },
     "execution_count": 166,
     "metadata": {},
     "output_type": "execute_result"
    }
   ],
   "source": [
    "# Create a new DataFrame that holds only the cryptocurrency names, and use the crypto_df DataFrame index\n",
    "# as the index for this new DataFrame\n",
    "CoinName_df = pd.DataFrame(crypto_df[['CoinName']])\n",
    "CoinName_df.head(10)"
   ]
  },
  {
   "cell_type": "code",
   "execution_count": 167,
   "metadata": {},
   "outputs": [
    {
     "data": {
      "text/html": [
       "<div>\n",
       "<style scoped>\n",
       "    .dataframe tbody tr th:only-of-type {\n",
       "        vertical-align: middle;\n",
       "    }\n",
       "\n",
       "    .dataframe tbody tr th {\n",
       "        vertical-align: top;\n",
       "    }\n",
       "\n",
       "    .dataframe thead th {\n",
       "        text-align: right;\n",
       "    }\n",
       "</style>\n",
       "<table border=\"1\" class=\"dataframe\">\n",
       "  <thead>\n",
       "    <tr style=\"text-align: right;\">\n",
       "      <th></th>\n",
       "      <th>Algorithm</th>\n",
       "      <th>ProofType</th>\n",
       "      <th>TotalCoinsMined</th>\n",
       "      <th>TotalCoinSupply</th>\n",
       "    </tr>\n",
       "  </thead>\n",
       "  <tbody>\n",
       "    <tr>\n",
       "      <th>42</th>\n",
       "      <td>Scrypt</td>\n",
       "      <td>PoW/PoS</td>\n",
       "      <td>4.199995e+01</td>\n",
       "      <td>42</td>\n",
       "    </tr>\n",
       "    <tr>\n",
       "      <th>404</th>\n",
       "      <td>Scrypt</td>\n",
       "      <td>PoW/PoS</td>\n",
       "      <td>1.055185e+09</td>\n",
       "      <td>532000000</td>\n",
       "    </tr>\n",
       "    <tr>\n",
       "      <th>1337</th>\n",
       "      <td>X13</td>\n",
       "      <td>PoW/PoS</td>\n",
       "      <td>2.927942e+10</td>\n",
       "      <td>314159265359</td>\n",
       "    </tr>\n",
       "    <tr>\n",
       "      <th>BTC</th>\n",
       "      <td>SHA-256</td>\n",
       "      <td>PoW</td>\n",
       "      <td>1.792718e+07</td>\n",
       "      <td>21000000</td>\n",
       "    </tr>\n",
       "    <tr>\n",
       "      <th>ETH</th>\n",
       "      <td>Ethash</td>\n",
       "      <td>PoW</td>\n",
       "      <td>1.076842e+08</td>\n",
       "      <td>0</td>\n",
       "    </tr>\n",
       "    <tr>\n",
       "      <th>LTC</th>\n",
       "      <td>Scrypt</td>\n",
       "      <td>PoW</td>\n",
       "      <td>6.303924e+07</td>\n",
       "      <td>84000000</td>\n",
       "    </tr>\n",
       "    <tr>\n",
       "      <th>DASH</th>\n",
       "      <td>X11</td>\n",
       "      <td>PoW/PoS</td>\n",
       "      <td>9.031294e+06</td>\n",
       "      <td>22000000</td>\n",
       "    </tr>\n",
       "    <tr>\n",
       "      <th>XMR</th>\n",
       "      <td>CryptoNight-V7</td>\n",
       "      <td>PoW</td>\n",
       "      <td>1.720114e+07</td>\n",
       "      <td>0</td>\n",
       "    </tr>\n",
       "    <tr>\n",
       "      <th>ETC</th>\n",
       "      <td>Ethash</td>\n",
       "      <td>PoW</td>\n",
       "      <td>1.133597e+08</td>\n",
       "      <td>210000000</td>\n",
       "    </tr>\n",
       "    <tr>\n",
       "      <th>ZEC</th>\n",
       "      <td>Equihash</td>\n",
       "      <td>PoW</td>\n",
       "      <td>7.383056e+06</td>\n",
       "      <td>21000000</td>\n",
       "    </tr>\n",
       "  </tbody>\n",
       "</table>\n",
       "</div>"
      ],
      "text/plain": [
       "           Algorithm ProofType  TotalCoinsMined TotalCoinSupply\n",
       "42            Scrypt   PoW/PoS     4.199995e+01              42\n",
       "404           Scrypt   PoW/PoS     1.055185e+09       532000000\n",
       "1337             X13   PoW/PoS     2.927942e+10    314159265359\n",
       "BTC          SHA-256       PoW     1.792718e+07        21000000\n",
       "ETH           Ethash       PoW     1.076842e+08               0\n",
       "LTC           Scrypt       PoW     6.303924e+07        84000000\n",
       "DASH             X11   PoW/PoS     9.031294e+06        22000000\n",
       "XMR   CryptoNight-V7       PoW     1.720114e+07               0\n",
       "ETC           Ethash       PoW     1.133597e+08       210000000\n",
       "ZEC         Equihash       PoW     7.383056e+06        21000000"
      ]
     },
     "execution_count": 167,
     "metadata": {},
     "output_type": "execute_result"
    }
   ],
   "source": [
    "# Remove the CoinName column from the crypto_df DataFrame\n",
    "# since it's not going to be used on the clustering algorithm.\n",
    "crypto_df = crypto_df.drop(['CoinName'], axis=1)\n",
    "crypto_df.head(10)"
   ]
  },
  {
   "cell_type": "code",
   "execution_count": 168,
   "metadata": {},
   "outputs": [
    {
     "data": {
      "text/html": [
       "<div>\n",
       "<style scoped>\n",
       "    .dataframe tbody tr th:only-of-type {\n",
       "        vertical-align: middle;\n",
       "    }\n",
       "\n",
       "    .dataframe tbody tr th {\n",
       "        vertical-align: top;\n",
       "    }\n",
       "\n",
       "    .dataframe thead th {\n",
       "        text-align: right;\n",
       "    }\n",
       "</style>\n",
       "<table border=\"1\" class=\"dataframe\">\n",
       "  <thead>\n",
       "    <tr style=\"text-align: right;\">\n",
       "      <th></th>\n",
       "      <th>TotalCoinsMined</th>\n",
       "      <th>TotalCoinSupply</th>\n",
       "      <th>Algorithm_1GB AES Pattern Search</th>\n",
       "      <th>Algorithm_536</th>\n",
       "      <th>Algorithm_Argon2d</th>\n",
       "      <th>Algorithm_BLAKE256</th>\n",
       "      <th>Algorithm_Blake</th>\n",
       "      <th>Algorithm_Blake2S</th>\n",
       "      <th>Algorithm_Blake2b</th>\n",
       "      <th>Algorithm_C11</th>\n",
       "      <th>...</th>\n",
       "      <th>ProofType_PoW/PoS</th>\n",
       "      <th>ProofType_PoW/PoS</th>\n",
       "      <th>ProofType_PoW/PoW</th>\n",
       "      <th>ProofType_PoW/nPoS</th>\n",
       "      <th>ProofType_Pos</th>\n",
       "      <th>ProofType_Proof of Authority</th>\n",
       "      <th>ProofType_Proof of Trust</th>\n",
       "      <th>ProofType_TPoS</th>\n",
       "      <th>ProofType_Zero-Knowledge Proof</th>\n",
       "      <th>ProofType_dPoW/PoW</th>\n",
       "    </tr>\n",
       "  </thead>\n",
       "  <tbody>\n",
       "    <tr>\n",
       "      <th>42</th>\n",
       "      <td>4.199995e+01</td>\n",
       "      <td>42</td>\n",
       "      <td>0</td>\n",
       "      <td>0</td>\n",
       "      <td>0</td>\n",
       "      <td>0</td>\n",
       "      <td>0</td>\n",
       "      <td>0</td>\n",
       "      <td>0</td>\n",
       "      <td>0</td>\n",
       "      <td>...</td>\n",
       "      <td>1</td>\n",
       "      <td>0</td>\n",
       "      <td>0</td>\n",
       "      <td>0</td>\n",
       "      <td>0</td>\n",
       "      <td>0</td>\n",
       "      <td>0</td>\n",
       "      <td>0</td>\n",
       "      <td>0</td>\n",
       "      <td>0</td>\n",
       "    </tr>\n",
       "    <tr>\n",
       "      <th>404</th>\n",
       "      <td>1.055185e+09</td>\n",
       "      <td>532000000</td>\n",
       "      <td>0</td>\n",
       "      <td>0</td>\n",
       "      <td>0</td>\n",
       "      <td>0</td>\n",
       "      <td>0</td>\n",
       "      <td>0</td>\n",
       "      <td>0</td>\n",
       "      <td>0</td>\n",
       "      <td>...</td>\n",
       "      <td>1</td>\n",
       "      <td>0</td>\n",
       "      <td>0</td>\n",
       "      <td>0</td>\n",
       "      <td>0</td>\n",
       "      <td>0</td>\n",
       "      <td>0</td>\n",
       "      <td>0</td>\n",
       "      <td>0</td>\n",
       "      <td>0</td>\n",
       "    </tr>\n",
       "    <tr>\n",
       "      <th>1337</th>\n",
       "      <td>2.927942e+10</td>\n",
       "      <td>314159265359</td>\n",
       "      <td>0</td>\n",
       "      <td>0</td>\n",
       "      <td>0</td>\n",
       "      <td>0</td>\n",
       "      <td>0</td>\n",
       "      <td>0</td>\n",
       "      <td>0</td>\n",
       "      <td>0</td>\n",
       "      <td>...</td>\n",
       "      <td>1</td>\n",
       "      <td>0</td>\n",
       "      <td>0</td>\n",
       "      <td>0</td>\n",
       "      <td>0</td>\n",
       "      <td>0</td>\n",
       "      <td>0</td>\n",
       "      <td>0</td>\n",
       "      <td>0</td>\n",
       "      <td>0</td>\n",
       "    </tr>\n",
       "    <tr>\n",
       "      <th>BTC</th>\n",
       "      <td>1.792718e+07</td>\n",
       "      <td>21000000</td>\n",
       "      <td>0</td>\n",
       "      <td>0</td>\n",
       "      <td>0</td>\n",
       "      <td>0</td>\n",
       "      <td>0</td>\n",
       "      <td>0</td>\n",
       "      <td>0</td>\n",
       "      <td>0</td>\n",
       "      <td>...</td>\n",
       "      <td>0</td>\n",
       "      <td>0</td>\n",
       "      <td>0</td>\n",
       "      <td>0</td>\n",
       "      <td>0</td>\n",
       "      <td>0</td>\n",
       "      <td>0</td>\n",
       "      <td>0</td>\n",
       "      <td>0</td>\n",
       "      <td>0</td>\n",
       "    </tr>\n",
       "    <tr>\n",
       "      <th>ETH</th>\n",
       "      <td>1.076842e+08</td>\n",
       "      <td>0</td>\n",
       "      <td>0</td>\n",
       "      <td>0</td>\n",
       "      <td>0</td>\n",
       "      <td>0</td>\n",
       "      <td>0</td>\n",
       "      <td>0</td>\n",
       "      <td>0</td>\n",
       "      <td>0</td>\n",
       "      <td>...</td>\n",
       "      <td>0</td>\n",
       "      <td>0</td>\n",
       "      <td>0</td>\n",
       "      <td>0</td>\n",
       "      <td>0</td>\n",
       "      <td>0</td>\n",
       "      <td>0</td>\n",
       "      <td>0</td>\n",
       "      <td>0</td>\n",
       "      <td>0</td>\n",
       "    </tr>\n",
       "    <tr>\n",
       "      <th>LTC</th>\n",
       "      <td>6.303924e+07</td>\n",
       "      <td>84000000</td>\n",
       "      <td>0</td>\n",
       "      <td>0</td>\n",
       "      <td>0</td>\n",
       "      <td>0</td>\n",
       "      <td>0</td>\n",
       "      <td>0</td>\n",
       "      <td>0</td>\n",
       "      <td>0</td>\n",
       "      <td>...</td>\n",
       "      <td>0</td>\n",
       "      <td>0</td>\n",
       "      <td>0</td>\n",
       "      <td>0</td>\n",
       "      <td>0</td>\n",
       "      <td>0</td>\n",
       "      <td>0</td>\n",
       "      <td>0</td>\n",
       "      <td>0</td>\n",
       "      <td>0</td>\n",
       "    </tr>\n",
       "    <tr>\n",
       "      <th>DASH</th>\n",
       "      <td>9.031294e+06</td>\n",
       "      <td>22000000</td>\n",
       "      <td>0</td>\n",
       "      <td>0</td>\n",
       "      <td>0</td>\n",
       "      <td>0</td>\n",
       "      <td>0</td>\n",
       "      <td>0</td>\n",
       "      <td>0</td>\n",
       "      <td>0</td>\n",
       "      <td>...</td>\n",
       "      <td>1</td>\n",
       "      <td>0</td>\n",
       "      <td>0</td>\n",
       "      <td>0</td>\n",
       "      <td>0</td>\n",
       "      <td>0</td>\n",
       "      <td>0</td>\n",
       "      <td>0</td>\n",
       "      <td>0</td>\n",
       "      <td>0</td>\n",
       "    </tr>\n",
       "    <tr>\n",
       "      <th>XMR</th>\n",
       "      <td>1.720114e+07</td>\n",
       "      <td>0</td>\n",
       "      <td>0</td>\n",
       "      <td>0</td>\n",
       "      <td>0</td>\n",
       "      <td>0</td>\n",
       "      <td>0</td>\n",
       "      <td>0</td>\n",
       "      <td>0</td>\n",
       "      <td>0</td>\n",
       "      <td>...</td>\n",
       "      <td>0</td>\n",
       "      <td>0</td>\n",
       "      <td>0</td>\n",
       "      <td>0</td>\n",
       "      <td>0</td>\n",
       "      <td>0</td>\n",
       "      <td>0</td>\n",
       "      <td>0</td>\n",
       "      <td>0</td>\n",
       "      <td>0</td>\n",
       "    </tr>\n",
       "    <tr>\n",
       "      <th>ETC</th>\n",
       "      <td>1.133597e+08</td>\n",
       "      <td>210000000</td>\n",
       "      <td>0</td>\n",
       "      <td>0</td>\n",
       "      <td>0</td>\n",
       "      <td>0</td>\n",
       "      <td>0</td>\n",
       "      <td>0</td>\n",
       "      <td>0</td>\n",
       "      <td>0</td>\n",
       "      <td>...</td>\n",
       "      <td>0</td>\n",
       "      <td>0</td>\n",
       "      <td>0</td>\n",
       "      <td>0</td>\n",
       "      <td>0</td>\n",
       "      <td>0</td>\n",
       "      <td>0</td>\n",
       "      <td>0</td>\n",
       "      <td>0</td>\n",
       "      <td>0</td>\n",
       "    </tr>\n",
       "    <tr>\n",
       "      <th>ZEC</th>\n",
       "      <td>7.383056e+06</td>\n",
       "      <td>21000000</td>\n",
       "      <td>0</td>\n",
       "      <td>0</td>\n",
       "      <td>0</td>\n",
       "      <td>0</td>\n",
       "      <td>0</td>\n",
       "      <td>0</td>\n",
       "      <td>0</td>\n",
       "      <td>0</td>\n",
       "      <td>...</td>\n",
       "      <td>0</td>\n",
       "      <td>0</td>\n",
       "      <td>0</td>\n",
       "      <td>0</td>\n",
       "      <td>0</td>\n",
       "      <td>0</td>\n",
       "      <td>0</td>\n",
       "      <td>0</td>\n",
       "      <td>0</td>\n",
       "      <td>0</td>\n",
       "    </tr>\n",
       "  </tbody>\n",
       "</table>\n",
       "<p>10 rows × 100 columns</p>\n",
       "</div>"
      ],
      "text/plain": [
       "      TotalCoinsMined TotalCoinSupply  Algorithm_1GB AES Pattern Search  \\\n",
       "42       4.199995e+01              42                                 0   \n",
       "404      1.055185e+09       532000000                                 0   \n",
       "1337     2.927942e+10    314159265359                                 0   \n",
       "BTC      1.792718e+07        21000000                                 0   \n",
       "ETH      1.076842e+08               0                                 0   \n",
       "LTC      6.303924e+07        84000000                                 0   \n",
       "DASH     9.031294e+06        22000000                                 0   \n",
       "XMR      1.720114e+07               0                                 0   \n",
       "ETC      1.133597e+08       210000000                                 0   \n",
       "ZEC      7.383056e+06        21000000                                 0   \n",
       "\n",
       "      Algorithm_536  Algorithm_Argon2d  Algorithm_BLAKE256  Algorithm_Blake  \\\n",
       "42                0                  0                   0                0   \n",
       "404               0                  0                   0                0   \n",
       "1337              0                  0                   0                0   \n",
       "BTC               0                  0                   0                0   \n",
       "ETH               0                  0                   0                0   \n",
       "LTC               0                  0                   0                0   \n",
       "DASH              0                  0                   0                0   \n",
       "XMR               0                  0                   0                0   \n",
       "ETC               0                  0                   0                0   \n",
       "ZEC               0                  0                   0                0   \n",
       "\n",
       "      Algorithm_Blake2S  Algorithm_Blake2b  Algorithm_C11  ...  \\\n",
       "42                    0                  0              0  ...   \n",
       "404                   0                  0              0  ...   \n",
       "1337                  0                  0              0  ...   \n",
       "BTC                   0                  0              0  ...   \n",
       "ETH                   0                  0              0  ...   \n",
       "LTC                   0                  0              0  ...   \n",
       "DASH                  0                  0              0  ...   \n",
       "XMR                   0                  0              0  ...   \n",
       "ETC                   0                  0              0  ...   \n",
       "ZEC                   0                  0              0  ...   \n",
       "\n",
       "      ProofType_PoW/PoS  ProofType_PoW/PoS   ProofType_PoW/PoW  \\\n",
       "42                    1                   0                  0   \n",
       "404                   1                   0                  0   \n",
       "1337                  1                   0                  0   \n",
       "BTC                   0                   0                  0   \n",
       "ETH                   0                   0                  0   \n",
       "LTC                   0                   0                  0   \n",
       "DASH                  1                   0                  0   \n",
       "XMR                   0                   0                  0   \n",
       "ETC                   0                   0                  0   \n",
       "ZEC                   0                   0                  0   \n",
       "\n",
       "      ProofType_PoW/nPoS  ProofType_Pos  ProofType_Proof of Authority  \\\n",
       "42                     0              0                             0   \n",
       "404                    0              0                             0   \n",
       "1337                   0              0                             0   \n",
       "BTC                    0              0                             0   \n",
       "ETH                    0              0                             0   \n",
       "LTC                    0              0                             0   \n",
       "DASH                   0              0                             0   \n",
       "XMR                    0              0                             0   \n",
       "ETC                    0              0                             0   \n",
       "ZEC                    0              0                             0   \n",
       "\n",
       "      ProofType_Proof of Trust  ProofType_TPoS  \\\n",
       "42                           0               0   \n",
       "404                          0               0   \n",
       "1337                         0               0   \n",
       "BTC                          0               0   \n",
       "ETH                          0               0   \n",
       "LTC                          0               0   \n",
       "DASH                         0               0   \n",
       "XMR                          0               0   \n",
       "ETC                          0               0   \n",
       "ZEC                          0               0   \n",
       "\n",
       "      ProofType_Zero-Knowledge Proof  ProofType_dPoW/PoW  \n",
       "42                                 0                   0  \n",
       "404                                0                   0  \n",
       "1337                               0                   0  \n",
       "BTC                                0                   0  \n",
       "ETH                                0                   0  \n",
       "LTC                                0                   0  \n",
       "DASH                               0                   0  \n",
       "XMR                                0                   0  \n",
       "ETC                                0                   0  \n",
       "ZEC                                0                   0  \n",
       "\n",
       "[10 rows x 100 columns]"
      ]
     },
     "execution_count": 168,
     "metadata": {},
     "output_type": "execute_result"
    }
   ],
   "source": [
    "# Use the get_dummies() method to create variables for the two text features, Algorithm\n",
    "# and ProofType, and store the resulting data in a new DataFrame named X.\n",
    "X = pd.get_dummies(crypto_df, columns = [\"Algorithm\",\"ProofType\"])\n",
    "X.head(10)"
   ]
  },
  {
   "cell_type": "code",
   "execution_count": 169,
   "metadata": {},
   "outputs": [
    {
     "data": {
      "text/plain": [
       "array([[-0.11674788, -0.15286468, -0.0433555 , ..., -0.0433555 ,\n",
       "        -0.0433555 , -0.0433555 ],\n",
       "       [-0.09358885, -0.14499604, -0.0433555 , ..., -0.0433555 ,\n",
       "        -0.0433555 , -0.0433555 ],\n",
       "       [ 0.52587231,  4.4937636 , -0.0433555 , ..., -0.0433555 ,\n",
       "        -0.0433555 , -0.0433555 ],\n",
       "       ...,\n",
       "       [-0.09523411, -0.13215444, -0.0433555 , ..., -0.0433555 ,\n",
       "        -0.0433555 , -0.0433555 ],\n",
       "       [-0.11658774, -0.15255408, -0.0433555 , ..., -0.0433555 ,\n",
       "        -0.0433555 , -0.0433555 ],\n",
       "       [-0.11674507, -0.15284989, -0.0433555 , ..., -0.0433555 ,\n",
       "        -0.0433555 , -0.0433555 ]])"
      ]
     },
     "execution_count": 169,
     "metadata": {},
     "output_type": "execute_result"
    }
   ],
   "source": [
    "# Use the StandardScaler fit_transform() function to standardize the features from the X DataFrame\n",
    "data_scaler = StandardScaler()\n",
    "X = data_scaler.fit_transform(X)\n",
    "X"
   ]
  },
  {
   "cell_type": "markdown",
   "metadata": {},
   "source": [
    "### Deliverable 2: Reducing Data Dimensions Using PCA"
   ]
  },
  {
   "cell_type": "code",
   "execution_count": 170,
   "metadata": {},
   "outputs": [
    {
     "data": {
      "text/plain": [
       "array([[-0.33772464,  1.01243127, -0.56021314],\n",
       "       [-0.32097024,  1.01286006, -0.5603564 ],\n",
       "       [ 2.32062882,  1.7808187 , -0.61466943],\n",
       "       ...,\n",
       "       [ 0.33679561, -2.17548417,  0.44368783],\n",
       "       [-0.17328706, -1.96000813,  0.4276179 ],\n",
       "       [-0.28275275,  0.86112147, -0.23539396]])"
      ]
     },
     "execution_count": 170,
     "metadata": {},
     "output_type": "execute_result"
    }
   ],
   "source": [
    "# Using PCA to reduce dimension to three principal components.\n",
    "pca = PCA(n_components=3)\n",
    "pcs = pca.fit_transform(X)\n",
    "pcs"
   ]
  },
  {
   "cell_type": "code",
   "execution_count": 173,
   "metadata": {},
   "outputs": [
    {
     "data": {
      "text/html": [
       "<div>\n",
       "<style scoped>\n",
       "    .dataframe tbody tr th:only-of-type {\n",
       "        vertical-align: middle;\n",
       "    }\n",
       "\n",
       "    .dataframe tbody tr th {\n",
       "        vertical-align: top;\n",
       "    }\n",
       "\n",
       "    .dataframe thead th {\n",
       "        text-align: right;\n",
       "    }\n",
       "</style>\n",
       "<table border=\"1\" class=\"dataframe\">\n",
       "  <thead>\n",
       "    <tr style=\"text-align: right;\">\n",
       "      <th></th>\n",
       "      <th>P1</th>\n",
       "      <th>P2</th>\n",
       "      <th>P3</th>\n",
       "    </tr>\n",
       "  </thead>\n",
       "  <tbody>\n",
       "    <tr>\n",
       "      <th>42</th>\n",
       "      <td>-0.337725</td>\n",
       "      <td>1.012431</td>\n",
       "      <td>-0.560213</td>\n",
       "    </tr>\n",
       "    <tr>\n",
       "      <th>404</th>\n",
       "      <td>-0.320970</td>\n",
       "      <td>1.012860</td>\n",
       "      <td>-0.560356</td>\n",
       "    </tr>\n",
       "    <tr>\n",
       "      <th>1337</th>\n",
       "      <td>2.320629</td>\n",
       "      <td>1.780819</td>\n",
       "      <td>-0.614669</td>\n",
       "    </tr>\n",
       "    <tr>\n",
       "      <th>BTC</th>\n",
       "      <td>-0.145377</td>\n",
       "      <td>-1.426914</td>\n",
       "      <td>0.129918</td>\n",
       "    </tr>\n",
       "    <tr>\n",
       "      <th>ETH</th>\n",
       "      <td>-0.150493</td>\n",
       "      <td>-2.051660</td>\n",
       "      <td>0.359429</td>\n",
       "    </tr>\n",
       "    <tr>\n",
       "      <th>LTC</th>\n",
       "      <td>-0.162367</td>\n",
       "      <td>-1.144863</td>\n",
       "      <td>-0.006955</td>\n",
       "    </tr>\n",
       "    <tr>\n",
       "      <th>DASH</th>\n",
       "      <td>-0.402005</td>\n",
       "      <td>1.262917</td>\n",
       "      <td>-0.520097</td>\n",
       "    </tr>\n",
       "    <tr>\n",
       "      <th>XMR</th>\n",
       "      <td>-0.151874</td>\n",
       "      <td>-2.240551</td>\n",
       "      <td>0.391957</td>\n",
       "    </tr>\n",
       "    <tr>\n",
       "      <th>ETC</th>\n",
       "      <td>-0.148925</td>\n",
       "      <td>-2.051718</td>\n",
       "      <td>0.359435</td>\n",
       "    </tr>\n",
       "    <tr>\n",
       "      <th>ZEC</th>\n",
       "      <td>-0.173286</td>\n",
       "      <td>-1.960008</td>\n",
       "      <td>0.427618</td>\n",
       "    </tr>\n",
       "  </tbody>\n",
       "</table>\n",
       "</div>"
      ],
      "text/plain": [
       "            P1        P2        P3\n",
       "42   -0.337725  1.012431 -0.560213\n",
       "404  -0.320970  1.012860 -0.560356\n",
       "1337  2.320629  1.780819 -0.614669\n",
       "BTC  -0.145377 -1.426914  0.129918\n",
       "ETH  -0.150493 -2.051660  0.359429\n",
       "LTC  -0.162367 -1.144863 -0.006955\n",
       "DASH -0.402005  1.262917 -0.520097\n",
       "XMR  -0.151874 -2.240551  0.391957\n",
       "ETC  -0.148925 -2.051718  0.359435\n",
       "ZEC  -0.173286 -1.960008  0.427618"
      ]
     },
     "execution_count": 173,
     "metadata": {},
     "output_type": "execute_result"
    }
   ],
   "source": [
    "# Create a new DataFrame named pcs_df that includes the following columns, PC 1, PC 2, and PC 3,\n",
    "# and uses the index of the crypto_df DataFrame as the index.\n",
    "\n",
    "pcs_df = pd.DataFrame(\n",
    "    data=pcs, columns=[\"P1\", \"P2\", \"P3\"],\n",
    "    index=crypto_df.index\n",
    ")\n",
    "pcs_df.head(10)"
   ]
  },
  {
   "cell_type": "markdown",
   "metadata": {},
   "source": [
    "### Deliverable 3: Clustering Crytocurrencies Using K-Means\n",
    "\n",
    "#### Finding the Best Value for `k` Using the Elbow Curve"
   ]
  },
  {
   "cell_type": "code",
   "execution_count": 176,
   "metadata": {},
   "outputs": [
    {
     "data": {},
     "metadata": {},
     "output_type": "display_data"
    },
    {
     "data": {
      "application/vnd.holoviews_exec.v0+json": "",
      "text/html": [
       "<div id='1474'>\n",
       "\n",
       "\n",
       "\n",
       "\n",
       "\n",
       "  <div class=\"bk-root\" id=\"60500515-0d39-490c-9513-da247d22d83c\" data-root-id=\"1474\"></div>\n",
       "</div>\n",
       "<script type=\"application/javascript\">(function(root) {\n",
       "  function embed_document(root) {\n",
       "    var docs_json = {\"de8b1819-3e95-41c7-971e-330760839d07\":{\"defs\":[{\"extends\":null,\"module\":null,\"name\":\"ReactiveHTML1\",\"overrides\":[],\"properties\":[]},{\"extends\":null,\"module\":null,\"name\":\"FlexBox1\",\"overrides\":[],\"properties\":[{\"default\":\"flex-start\",\"kind\":null,\"name\":\"align_content\"},{\"default\":\"flex-start\",\"kind\":null,\"name\":\"align_items\"},{\"default\":\"row\",\"kind\":null,\"name\":\"flex_direction\"},{\"default\":\"wrap\",\"kind\":null,\"name\":\"flex_wrap\"},{\"default\":\"flex-start\",\"kind\":null,\"name\":\"justify_content\"}]},{\"extends\":null,\"module\":null,\"name\":\"TemplateActions1\",\"overrides\":[],\"properties\":[{\"default\":0,\"kind\":null,\"name\":\"open_modal\"},{\"default\":0,\"kind\":null,\"name\":\"close_modal\"}]},{\"extends\":null,\"module\":null,\"name\":\"MaterialTemplateActions1\",\"overrides\":[],\"properties\":[{\"default\":0,\"kind\":null,\"name\":\"open_modal\"},{\"default\":0,\"kind\":null,\"name\":\"close_modal\"}]}],\"roots\":{\"references\":[{\"attributes\":{},\"id\":\"1496\",\"type\":\"SaveTool\"},{\"attributes\":{},\"id\":\"1497\",\"type\":\"PanTool\"},{\"attributes\":{},\"id\":\"1498\",\"type\":\"WheelZoomTool\"},{\"attributes\":{\"overlay\":{\"id\":\"1501\"}},\"id\":\"1499\",\"type\":\"BoxZoomTool\"},{\"attributes\":{\"margin\":[5,5,5,5],\"name\":\"HSpacer02344\",\"sizing_mode\":\"stretch_width\"},\"id\":\"1545\",\"type\":\"Spacer\"},{\"attributes\":{},\"id\":\"1500\",\"type\":\"ResetTool\"},{\"attributes\":{\"below\":[{\"id\":\"1488\"}],\"center\":[{\"id\":\"1491\"},{\"id\":\"1495\"}],\"height\":300,\"left\":[{\"id\":\"1492\"}],\"margin\":[5,5,5,5],\"min_border_bottom\":10,\"min_border_left\":10,\"min_border_right\":10,\"min_border_top\":10,\"renderers\":[{\"id\":\"1515\"}],\"sizing_mode\":\"fixed\",\"title\":{\"id\":\"1480\"},\"toolbar\":{\"id\":\"1502\"},\"width\":700,\"x_range\":{\"id\":\"1476\"},\"x_scale\":{\"id\":\"1484\"},\"y_range\":{\"id\":\"1477\"},\"y_scale\":{\"id\":\"1486\"}},\"id\":\"1479\",\"subtype\":\"Figure\",\"type\":\"Plot\"},{\"attributes\":{\"bottom_units\":\"screen\",\"coordinates\":null,\"fill_alpha\":0.5,\"fill_color\":\"lightgrey\",\"group\":null,\"left_units\":\"screen\",\"level\":\"overlay\",\"line_alpha\":1.0,\"line_color\":\"black\",\"line_dash\":[4,4],\"line_width\":2,\"right_units\":\"screen\",\"syncable\":false,\"top_units\":\"screen\"},\"id\":\"1501\",\"type\":\"BoxAnnotation\"},{\"attributes\":{},\"id\":\"1520\",\"type\":\"BasicTickFormatter\"},{\"attributes\":{\"ticks\":[1,2,3,4,5,6,7,8,9,10]},\"id\":\"1518\",\"type\":\"FixedTicker\"},{\"attributes\":{\"line_color\":\"#30a2da\",\"line_width\":2,\"x\":{\"field\":\"k\"},\"y\":{\"field\":\"inertia\"}},\"id\":\"1512\",\"type\":\"Line\"},{\"attributes\":{\"line_alpha\":0.1,\"line_color\":\"#30a2da\",\"line_width\":2,\"x\":{\"field\":\"k\"},\"y\":{\"field\":\"inertia\"}},\"id\":\"1513\",\"type\":\"Line\"},{\"attributes\":{\"end\":10.0,\"reset_end\":10.0,\"reset_start\":1.0,\"start\":1.0,\"tags\":[[[\"k\",\"k\",null]]]},\"id\":\"1476\",\"type\":\"Range1d\"},{\"attributes\":{\"callback\":null,\"renderers\":[{\"id\":\"1515\"}],\"tags\":[\"hv_created\"],\"tooltips\":[[\"k\",\"@{k}\"],[\"inertia\",\"@{inertia}\"]]},\"id\":\"1478\",\"type\":\"HoverTool\"},{\"attributes\":{\"margin\":[5,5,5,5],\"name\":\"HSpacer02343\",\"sizing_mode\":\"stretch_width\"},\"id\":\"1475\",\"type\":\"Spacer\"},{\"attributes\":{\"tools\":[{\"id\":\"1478\"},{\"id\":\"1496\"},{\"id\":\"1497\"},{\"id\":\"1498\"},{\"id\":\"1499\"},{\"id\":\"1500\"}]},\"id\":\"1502\",\"type\":\"Toolbar\"},{\"attributes\":{\"end\":4000.019993893891,\"reset_end\":4000.019993893891,\"reset_start\":-253.61030934777025,\"start\":-253.61030934777025,\"tags\":[[[\"inertia\",\"inertia\",null]]]},\"id\":\"1477\",\"type\":\"Range1d\"},{\"attributes\":{},\"id\":\"1526\",\"type\":\"AllLabels\"},{\"attributes\":{},\"id\":\"1533\",\"type\":\"UnionRenderers\"},{\"attributes\":{\"coordinates\":null,\"group\":null,\"text\":\"Elbow Curve\",\"text_color\":\"black\",\"text_font_size\":\"12pt\"},\"id\":\"1480\",\"type\":\"Title\"},{\"attributes\":{\"children\":[{\"id\":\"1475\"},{\"id\":\"1479\"},{\"id\":\"1545\"}],\"margin\":[0,0,0,0],\"name\":\"Row02339\",\"tags\":[\"embedded\"]},\"id\":\"1474\",\"type\":\"Row\"},{\"attributes\":{},\"id\":\"1510\",\"type\":\"Selection\"},{\"attributes\":{},\"id\":\"1484\",\"type\":\"LinearScale\"},{\"attributes\":{\"data\":{\"inertia\":{\"__ndarray__\":\"g9C2Ahp7rEB6tMfQT0yjQEAVRhbUHZdALdqes0vnf0BELA1OnBd0QG3580orH3BA4qE8HMbmaEAr1hvCPxdkQMqhSLRYP19AjsCt7vc2WUA=\",\"dtype\":\"float64\",\"order\":\"little\",\"shape\":[10]},\"k\":[1,2,3,4,5,6,7,8,9,10]},\"selected\":{\"id\":\"1510\"},\"selection_policy\":{\"id\":\"1533\"}},\"id\":\"1509\",\"type\":\"ColumnDataSource\"},{\"attributes\":{\"line_alpha\":0.2,\"line_color\":\"#30a2da\",\"line_width\":2,\"x\":{\"field\":\"k\"},\"y\":{\"field\":\"inertia\"}},\"id\":\"1514\",\"type\":\"Line\"},{\"attributes\":{\"axis\":{\"id\":\"1488\"},\"coordinates\":null,\"grid_line_color\":null,\"group\":null,\"ticker\":null},\"id\":\"1491\",\"type\":\"Grid\"},{\"attributes\":{},\"id\":\"1521\",\"type\":\"AllLabels\"},{\"attributes\":{},\"id\":\"1486\",\"type\":\"LinearScale\"},{\"attributes\":{\"line_color\":\"#30a2da\",\"line_width\":2,\"x\":{\"field\":\"k\"},\"y\":{\"field\":\"inertia\"}},\"id\":\"1517\",\"type\":\"Line\"},{\"attributes\":{},\"id\":\"1525\",\"type\":\"BasicTickFormatter\"},{\"attributes\":{\"axis_label\":\"k\",\"coordinates\":null,\"formatter\":{\"id\":\"1520\"},\"group\":null,\"major_label_policy\":{\"id\":\"1521\"},\"ticker\":{\"id\":\"1518\"}},\"id\":\"1488\",\"type\":\"LinearAxis\"},{\"attributes\":{\"axis_label\":\"inertia\",\"coordinates\":null,\"formatter\":{\"id\":\"1525\"},\"group\":null,\"major_label_policy\":{\"id\":\"1526\"},\"ticker\":{\"id\":\"1493\"}},\"id\":\"1492\",\"type\":\"LinearAxis\"},{\"attributes\":{\"coordinates\":null,\"data_source\":{\"id\":\"1509\"},\"glyph\":{\"id\":\"1512\"},\"group\":null,\"hover_glyph\":null,\"muted_glyph\":{\"id\":\"1514\"},\"nonselection_glyph\":{\"id\":\"1513\"},\"selection_glyph\":{\"id\":\"1517\"},\"view\":{\"id\":\"1516\"}},\"id\":\"1515\",\"type\":\"GlyphRenderer\"},{\"attributes\":{\"source\":{\"id\":\"1509\"}},\"id\":\"1516\",\"type\":\"CDSView\"},{\"attributes\":{},\"id\":\"1493\",\"type\":\"BasicTicker\"},{\"attributes\":{\"axis\":{\"id\":\"1492\"},\"coordinates\":null,\"dimension\":1,\"grid_line_color\":null,\"group\":null,\"ticker\":null},\"id\":\"1495\",\"type\":\"Grid\"}],\"root_ids\":[\"1474\"]},\"title\":\"Bokeh Application\",\"version\":\"2.4.2\"}};\n",
       "    var render_items = [{\"docid\":\"de8b1819-3e95-41c7-971e-330760839d07\",\"root_ids\":[\"1474\"],\"roots\":{\"1474\":\"60500515-0d39-490c-9513-da247d22d83c\"}}];\n",
       "    root.Bokeh.embed.embed_items_notebook(docs_json, render_items);\n",
       "  }\n",
       "  if (root.Bokeh !== undefined && root.Bokeh.Panel !== undefined) {\n",
       "    embed_document(root);\n",
       "  } else {\n",
       "    var attempts = 0;\n",
       "    var timer = setInterval(function(root) {\n",
       "      if (root.Bokeh !== undefined && root.Bokeh.Panel !== undefined) {\n",
       "        clearInterval(timer);\n",
       "        embed_document(root);\n",
       "      } else if (document.readyState == \"complete\") {\n",
       "        attempts++;\n",
       "        if (attempts > 200) {\n",
       "          clearInterval(timer);\n",
       "          console.log(\"Bokeh: ERROR: Unable to run BokehJS code because BokehJS library is missing\");\n",
       "        }\n",
       "      }\n",
       "    }, 25, root)\n",
       "  }\n",
       "})(window);</script>"
      ],
      "text/plain": [
       ":Curve   [k]   (inertia)"
      ]
     },
     "execution_count": 176,
     "metadata": {
      "application/vnd.holoviews_exec.v0+json": {
       "id": "1474"
      }
     },
     "output_type": "execute_result"
    }
   ],
   "source": [
    "# Create an elbow curve to find the best value for K.\n",
    "# Find the best value for K\n",
    "inertia = []\n",
    "k = list(range(1, 11))\n",
    "\n",
    "# Calculate the inertia for the range of K values\n",
    "for i in k:\n",
    "    km = KMeans(n_clusters=i, random_state=0)\n",
    "    km.fit(pcs_df)\n",
    "    inertia.append(km.inertia_)\n",
    "\n",
    "# Create the elbow curve\n",
    "elbow_data = {\"k\": k, \"inertia\": inertia}\n",
    "df_elbow = pd.DataFrame(elbow_data)\n",
    "df_elbow.hvplot.line(x=\"k\", y=\"inertia\", xticks=k, title=\"Elbow Curve\")\n"
   ]
  },
  {
   "cell_type": "markdown",
   "metadata": {},
   "source": [
    "Running K-Means with `k=4`"
   ]
  },
  {
   "cell_type": "code",
   "execution_count": 177,
   "metadata": {},
   "outputs": [
    {
     "data": {
      "text/html": [
       "<div>\n",
       "<style scoped>\n",
       "    .dataframe tbody tr th:only-of-type {\n",
       "        vertical-align: middle;\n",
       "    }\n",
       "\n",
       "    .dataframe tbody tr th {\n",
       "        vertical-align: top;\n",
       "    }\n",
       "\n",
       "    .dataframe thead th {\n",
       "        text-align: right;\n",
       "    }\n",
       "</style>\n",
       "<table border=\"1\" class=\"dataframe\">\n",
       "  <thead>\n",
       "    <tr style=\"text-align: right;\">\n",
       "      <th></th>\n",
       "      <th>P1</th>\n",
       "      <th>P2</th>\n",
       "      <th>P3</th>\n",
       "      <th>class</th>\n",
       "    </tr>\n",
       "  </thead>\n",
       "  <tbody>\n",
       "    <tr>\n",
       "      <th>42</th>\n",
       "      <td>-0.337725</td>\n",
       "      <td>1.012431</td>\n",
       "      <td>-0.560213</td>\n",
       "      <td>0</td>\n",
       "    </tr>\n",
       "    <tr>\n",
       "      <th>404</th>\n",
       "      <td>-0.320970</td>\n",
       "      <td>1.012860</td>\n",
       "      <td>-0.560356</td>\n",
       "      <td>0</td>\n",
       "    </tr>\n",
       "    <tr>\n",
       "      <th>1337</th>\n",
       "      <td>2.320629</td>\n",
       "      <td>1.780819</td>\n",
       "      <td>-0.614669</td>\n",
       "      <td>0</td>\n",
       "    </tr>\n",
       "    <tr>\n",
       "      <th>BTC</th>\n",
       "      <td>-0.145377</td>\n",
       "      <td>-1.426914</td>\n",
       "      <td>0.129918</td>\n",
       "      <td>1</td>\n",
       "    </tr>\n",
       "    <tr>\n",
       "      <th>ETH</th>\n",
       "      <td>-0.150493</td>\n",
       "      <td>-2.051660</td>\n",
       "      <td>0.359429</td>\n",
       "      <td>1</td>\n",
       "    </tr>\n",
       "  </tbody>\n",
       "</table>\n",
       "</div>"
      ],
      "text/plain": [
       "            P1        P2        P3  class\n",
       "42   -0.337725  1.012431 -0.560213      0\n",
       "404  -0.320970  1.012860 -0.560356      0\n",
       "1337  2.320629  1.780819 -0.614669      0\n",
       "BTC  -0.145377 -1.426914  0.129918      1\n",
       "ETH  -0.150493 -2.051660  0.359429      1"
      ]
     },
     "execution_count": 177,
     "metadata": {},
     "output_type": "execute_result"
    }
   ],
   "source": [
    "# Initialize the K-means model\n",
    "model = KMeans(n_clusters=4, random_state=0)\n",
    "\n",
    "# Fit the model\n",
    "model.fit(pcs_df)\n",
    "\n",
    "# Predict clusters\n",
    "predictions = model.predict(pcs_df)\n",
    "\n",
    "# Add the predicted class columns\n",
    "pcs_df[\"class\"] = model.labels_\n",
    "pcs_df.head()"
   ]
  },
  {
   "cell_type": "code",
   "execution_count": 185,
   "metadata": {},
   "outputs": [
    {
     "name": "stdout",
     "output_type": "stream",
     "text": [
      "(533, 9)\n"
     ]
    },
    {
     "data": {
      "text/html": [
       "<div>\n",
       "<style scoped>\n",
       "    .dataframe tbody tr th:only-of-type {\n",
       "        vertical-align: middle;\n",
       "    }\n",
       "\n",
       "    .dataframe tbody tr th {\n",
       "        vertical-align: top;\n",
       "    }\n",
       "\n",
       "    .dataframe thead th {\n",
       "        text-align: right;\n",
       "    }\n",
       "</style>\n",
       "<table border=\"1\" class=\"dataframe\">\n",
       "  <thead>\n",
       "    <tr style=\"text-align: right;\">\n",
       "      <th></th>\n",
       "      <th>Algorithm</th>\n",
       "      <th>ProofType</th>\n",
       "      <th>TotalCoinsMined</th>\n",
       "      <th>TotalCoinSupply</th>\n",
       "      <th>P1</th>\n",
       "      <th>P2</th>\n",
       "      <th>P3</th>\n",
       "      <th>CoinName</th>\n",
       "      <th>class</th>\n",
       "    </tr>\n",
       "  </thead>\n",
       "  <tbody>\n",
       "    <tr>\n",
       "      <th>42</th>\n",
       "      <td>Scrypt</td>\n",
       "      <td>PoW/PoS</td>\n",
       "      <td>4.199995e+01</td>\n",
       "      <td>42</td>\n",
       "      <td>-0.337725</td>\n",
       "      <td>1.012431</td>\n",
       "      <td>-0.560213</td>\n",
       "      <td>42 Coin</td>\n",
       "      <td>0</td>\n",
       "    </tr>\n",
       "    <tr>\n",
       "      <th>404</th>\n",
       "      <td>Scrypt</td>\n",
       "      <td>PoW/PoS</td>\n",
       "      <td>1.055185e+09</td>\n",
       "      <td>532000000</td>\n",
       "      <td>-0.320970</td>\n",
       "      <td>1.012860</td>\n",
       "      <td>-0.560356</td>\n",
       "      <td>404Coin</td>\n",
       "      <td>0</td>\n",
       "    </tr>\n",
       "    <tr>\n",
       "      <th>1337</th>\n",
       "      <td>X13</td>\n",
       "      <td>PoW/PoS</td>\n",
       "      <td>2.927942e+10</td>\n",
       "      <td>314159265359</td>\n",
       "      <td>2.320629</td>\n",
       "      <td>1.780819</td>\n",
       "      <td>-0.614669</td>\n",
       "      <td>EliteCoin</td>\n",
       "      <td>0</td>\n",
       "    </tr>\n",
       "    <tr>\n",
       "      <th>BTC</th>\n",
       "      <td>SHA-256</td>\n",
       "      <td>PoW</td>\n",
       "      <td>1.792718e+07</td>\n",
       "      <td>21000000</td>\n",
       "      <td>-0.145377</td>\n",
       "      <td>-1.426914</td>\n",
       "      <td>0.129918</td>\n",
       "      <td>Bitcoin</td>\n",
       "      <td>1</td>\n",
       "    </tr>\n",
       "    <tr>\n",
       "      <th>ETH</th>\n",
       "      <td>Ethash</td>\n",
       "      <td>PoW</td>\n",
       "      <td>1.076842e+08</td>\n",
       "      <td>0</td>\n",
       "      <td>-0.150493</td>\n",
       "      <td>-2.051660</td>\n",
       "      <td>0.359429</td>\n",
       "      <td>Ethereum</td>\n",
       "      <td>1</td>\n",
       "    </tr>\n",
       "    <tr>\n",
       "      <th>LTC</th>\n",
       "      <td>Scrypt</td>\n",
       "      <td>PoW</td>\n",
       "      <td>6.303924e+07</td>\n",
       "      <td>84000000</td>\n",
       "      <td>-0.162367</td>\n",
       "      <td>-1.144863</td>\n",
       "      <td>-0.006955</td>\n",
       "      <td>Litecoin</td>\n",
       "      <td>1</td>\n",
       "    </tr>\n",
       "    <tr>\n",
       "      <th>DASH</th>\n",
       "      <td>X11</td>\n",
       "      <td>PoW/PoS</td>\n",
       "      <td>9.031294e+06</td>\n",
       "      <td>22000000</td>\n",
       "      <td>-0.402005</td>\n",
       "      <td>1.262917</td>\n",
       "      <td>-0.520097</td>\n",
       "      <td>Dash</td>\n",
       "      <td>0</td>\n",
       "    </tr>\n",
       "    <tr>\n",
       "      <th>XMR</th>\n",
       "      <td>CryptoNight-V7</td>\n",
       "      <td>PoW</td>\n",
       "      <td>1.720114e+07</td>\n",
       "      <td>0</td>\n",
       "      <td>-0.151874</td>\n",
       "      <td>-2.240551</td>\n",
       "      <td>0.391957</td>\n",
       "      <td>Monero</td>\n",
       "      <td>1</td>\n",
       "    </tr>\n",
       "    <tr>\n",
       "      <th>ETC</th>\n",
       "      <td>Ethash</td>\n",
       "      <td>PoW</td>\n",
       "      <td>1.133597e+08</td>\n",
       "      <td>210000000</td>\n",
       "      <td>-0.148925</td>\n",
       "      <td>-2.051718</td>\n",
       "      <td>0.359435</td>\n",
       "      <td>Ethereum Classic</td>\n",
       "      <td>1</td>\n",
       "    </tr>\n",
       "    <tr>\n",
       "      <th>ZEC</th>\n",
       "      <td>Equihash</td>\n",
       "      <td>PoW</td>\n",
       "      <td>7.383056e+06</td>\n",
       "      <td>21000000</td>\n",
       "      <td>-0.173286</td>\n",
       "      <td>-1.960008</td>\n",
       "      <td>0.427618</td>\n",
       "      <td>ZCash</td>\n",
       "      <td>1</td>\n",
       "    </tr>\n",
       "  </tbody>\n",
       "</table>\n",
       "</div>"
      ],
      "text/plain": [
       "           Algorithm ProofType  TotalCoinsMined TotalCoinSupply        P1  \\\n",
       "42            Scrypt   PoW/PoS     4.199995e+01              42 -0.337725   \n",
       "404           Scrypt   PoW/PoS     1.055185e+09       532000000 -0.320970   \n",
       "1337             X13   PoW/PoS     2.927942e+10    314159265359  2.320629   \n",
       "BTC          SHA-256       PoW     1.792718e+07        21000000 -0.145377   \n",
       "ETH           Ethash       PoW     1.076842e+08               0 -0.150493   \n",
       "LTC           Scrypt       PoW     6.303924e+07        84000000 -0.162367   \n",
       "DASH             X11   PoW/PoS     9.031294e+06        22000000 -0.402005   \n",
       "XMR   CryptoNight-V7       PoW     1.720114e+07               0 -0.151874   \n",
       "ETC           Ethash       PoW     1.133597e+08       210000000 -0.148925   \n",
       "ZEC         Equihash       PoW     7.383056e+06        21000000 -0.173286   \n",
       "\n",
       "            P2        P3          CoinName  class  \n",
       "42    1.012431 -0.560213           42 Coin      0  \n",
       "404   1.012860 -0.560356           404Coin      0  \n",
       "1337  1.780819 -0.614669         EliteCoin      0  \n",
       "BTC  -1.426914  0.129918           Bitcoin      1  \n",
       "ETH  -2.051660  0.359429          Ethereum      1  \n",
       "LTC  -1.144863 -0.006955          Litecoin      1  \n",
       "DASH  1.262917 -0.520097              Dash      0  \n",
       "XMR  -2.240551  0.391957            Monero      1  \n",
       "ETC  -2.051718  0.359435  Ethereum Classic      1  \n",
       "ZEC  -1.960008  0.427618             ZCash      1  "
      ]
     },
     "execution_count": 185,
     "metadata": {},
     "output_type": "execute_result"
    }
   ],
   "source": [
    "# Create a new DataFrame including predicted clusters and cryptocurrencies features.\n",
    "# Concatentate the crypto_df and pcs_df DataFrames on the same columns.\n",
    "#  Add a new column, \"CoinName\" to the clustered_df DataFrame that holds the names of the cryptocurrencies. \n",
    "#  Add a new column, \"Class\" to the clustered_df DataFrame that holds the predictions.\n",
    "\n",
    "clustered_df = pd.concat([crypto_df,pcs_df,CoinName_df],axis=1)\n",
    "columns_titles = [\"Algorithm\",\"ProofType\",\"TotalCoinsMined\",\"TotalCoinSupply\",\"P1\",\"P2\",\"P3\",\"CoinName\",\"class\"]\n",
    "clustered_df=clustered_df.reindex(columns=columns_titles)\n",
    "\n",
    "# Print the shape of the clustered_df\n",
    "print(clustered_df.shape)\n",
    "clustered_df.head(10)"
   ]
  },
  {
   "cell_type": "markdown",
   "metadata": {},
   "source": [
    "### Deliverable 4: Visualizing Cryptocurrencies Results\n",
    "\n",
    "#### 3D-Scatter with Clusters"
   ]
  },
  {
   "cell_type": "code",
   "execution_count": 193,
   "metadata": {},
   "outputs": [
    {
     "data": {
      "application/vnd.plotly.v1+json": {
       "config": {
        "plotlyServerURL": "https://plot.ly"
       },
       "data": [
        {
         "customdata": [
          [
           "Scrypt"
          ],
          [
           "Scrypt"
          ],
          [
           "X13"
          ],
          [
           "SHA-256"
          ],
          [
           "Ethash"
          ],
          [
           "Scrypt"
          ],
          [
           "X11"
          ],
          [
           "CryptoNight-V7"
          ],
          [
           "Ethash"
          ],
          [
           "Equihash"
          ],
          [
           "SHA-512"
          ],
          [
           "Multiple"
          ],
          [
           "SHA-256"
          ],
          [
           "SHA-256"
          ],
          [
           "Scrypt"
          ],
          [
           "X15"
          ],
          [
           "X11"
          ],
          [
           "Scrypt"
          ],
          [
           "Scrypt"
          ],
          [
           "Scrypt"
          ],
          [
           "Multiple"
          ],
          [
           "Scrypt"
          ],
          [
           "SHA-256"
          ],
          [
           "Scrypt"
          ],
          [
           "Scrypt"
          ],
          [
           "Scrypt"
          ],
          [
           "Quark"
          ],
          [
           "Groestl"
          ],
          [
           "Scrypt"
          ],
          [
           "Scrypt"
          ],
          [
           "Scrypt"
          ],
          [
           "Scrypt"
          ],
          [
           "Scrypt"
          ],
          [
           "X11"
          ],
          [
           "Scrypt"
          ],
          [
           "Groestl"
          ],
          [
           "Multiple"
          ],
          [
           "SHA-256"
          ],
          [
           "Scrypt"
          ],
          [
           "Scrypt"
          ],
          [
           "Scrypt"
          ],
          [
           "Scrypt"
          ],
          [
           "PoS"
          ],
          [
           "Scrypt"
          ],
          [
           "Scrypt"
          ],
          [
           "NeoScrypt"
          ],
          [
           "Scrypt"
          ],
          [
           "Scrypt"
          ],
          [
           "Scrypt"
          ],
          [
           "Scrypt"
          ],
          [
           "X11"
          ],
          [
           "Scrypt"
          ],
          [
           "X11"
          ],
          [
           "SHA-256"
          ],
          [
           "Scrypt"
          ],
          [
           "Scrypt"
          ],
          [
           "Scrypt"
          ],
          [
           "SHA3"
          ],
          [
           "Scrypt"
          ],
          [
           "HybridScryptHash256"
          ],
          [
           "Scrypt"
          ],
          [
           "Scrypt"
          ],
          [
           "SHA-256"
          ],
          [
           "Scrypt"
          ],
          [
           "X13"
          ],
          [
           "Scrypt"
          ],
          [
           "SHA-256"
          ],
          [
           "Scrypt"
          ],
          [
           "X13"
          ],
          [
           "NeoScrypt"
          ],
          [
           "Scrypt"
          ],
          [
           "Scrypt"
          ],
          [
           "Scrypt"
          ],
          [
           "Scrypt"
          ],
          [
           "Scrypt"
          ],
          [
           "Scrypt"
          ],
          [
           "X11"
          ],
          [
           "X11"
          ],
          [
           "SHA-256"
          ],
          [
           "Multiple"
          ],
          [
           "SHA-256"
          ],
          [
           "PHI1612"
          ],
          [
           "X11"
          ],
          [
           "SHA-256"
          ],
          [
           "SHA-256"
          ],
          [
           "SHA-256"
          ],
          [
           "X11"
          ],
          [
           "Scrypt"
          ],
          [
           "Scrypt"
          ],
          [
           "Scrypt"
          ],
          [
           "Scrypt"
          ],
          [
           "Lyra2REv2"
          ],
          [
           "Scrypt"
          ],
          [
           "X11"
          ],
          [
           "Multiple"
          ],
          [
           "SHA-256"
          ],
          [
           "X13"
          ],
          [
           "Scrypt"
          ],
          [
           "CryptoNight"
          ],
          [
           "CryptoNight"
          ],
          [
           "Shabal256"
          ],
          [
           "Counterparty"
          ],
          [
           "Scrypt"
          ],
          [
           "SHA-256"
          ],
          [
           "Groestl"
          ],
          [
           "Scrypt"
          ],
          [
           "Scrypt"
          ],
          [
           "Scrypt"
          ],
          [
           "X13"
          ],
          [
           "Scrypt"
          ],
          [
           "Scrypt"
          ],
          [
           "Scrypt"
          ],
          [
           "Scrypt"
          ],
          [
           "X13"
          ],
          [
           "Scrypt"
          ],
          [
           "Stanford Folding"
          ],
          [
           "X11"
          ],
          [
           "Multiple"
          ],
          [
           "QuBit"
          ],
          [
           "Scrypt"
          ],
          [
           "Scrypt"
          ],
          [
           "Scrypt"
          ],
          [
           "M7 POW"
          ],
          [
           "Scrypt"
          ],
          [
           "SHA-256"
          ],
          [
           "Scrypt"
          ],
          [
           "X11"
          ],
          [
           "SHA3"
          ],
          [
           "X11"
          ],
          [
           "Lyra2RE"
          ],
          [
           "SHA-256"
          ],
          [
           "QUAIT"
          ],
          [
           "X11"
          ],
          [
           "X11"
          ],
          [
           "Scrypt"
          ],
          [
           "Scrypt"
          ],
          [
           "Scrypt"
          ],
          [
           "Ethash"
          ],
          [
           "X13"
          ],
          [
           "Blake2b"
          ],
          [
           "SHA-256"
          ],
          [
           "X15"
          ],
          [
           "X11"
          ],
          [
           "SHA-256"
          ],
          [
           "BLAKE256"
          ],
          [
           "Scrypt"
          ],
          [
           "1GB AES Pattern Search"
          ],
          [
           "SHA-256"
          ],
          [
           "X11"
          ],
          [
           "Scrypt"
          ],
          [
           "SHA-256"
          ],
          [
           "SHA-256"
          ],
          [
           "NIST5"
          ],
          [
           "Scrypt"
          ],
          [
           "Scrypt"
          ],
          [
           "X11"
          ],
          [
           "Dagger"
          ],
          [
           "Scrypt"
          ],
          [
           "X11GOST"
          ],
          [
           "X11"
          ],
          [
           "Scrypt"
          ],
          [
           "SHA-256"
          ],
          [
           "Scrypt"
          ],
          [
           "PoS"
          ],
          [
           "Scrypt"
          ],
          [
           "X11"
          ],
          [
           "X11"
          ],
          [
           "SHA-256"
          ],
          [
           "SHA-256"
          ],
          [
           "NIST5"
          ],
          [
           "X11"
          ],
          [
           "Scrypt"
          ],
          [
           "POS 3.0"
          ],
          [
           "Scrypt"
          ],
          [
           "Scrypt"
          ],
          [
           "Scrypt"
          ],
          [
           "X13"
          ],
          [
           "X11"
          ],
          [
           "X11"
          ],
          [
           "Equihash"
          ],
          [
           "X11"
          ],
          [
           "Scrypt"
          ],
          [
           "CryptoNight"
          ],
          [
           "SHA-256"
          ],
          [
           "SHA-256"
          ],
          [
           "X11"
          ],
          [
           "Scrypt"
          ],
          [
           "Multiple"
          ],
          [
           "Scrypt"
          ],
          [
           "Scrypt"
          ],
          [
           "Scrypt"
          ],
          [
           "SHA-256"
          ],
          [
           "Scrypt"
          ],
          [
           "Scrypt"
          ],
          [
           "SHA-256D"
          ],
          [
           "PoS"
          ],
          [
           "Scrypt"
          ],
          [
           "X11"
          ],
          [
           "Lyra2Z"
          ],
          [
           "PoS"
          ],
          [
           "X13"
          ],
          [
           "X14"
          ],
          [
           "PoS"
          ],
          [
           "SHA-256D"
          ],
          [
           "Ethash"
          ],
          [
           "Equihash"
          ],
          [
           "DPoS"
          ],
          [
           "X11"
          ],
          [
           "Scrypt"
          ],
          [
           "X11"
          ],
          [
           "X13"
          ],
          [
           "X11"
          ],
          [
           "PoS"
          ],
          [
           "Scrypt"
          ],
          [
           "Scrypt"
          ],
          [
           "X11"
          ],
          [
           "PoS"
          ],
          [
           "X11"
          ],
          [
           "SHA-256"
          ],
          [
           "Scrypt"
          ],
          [
           "X11"
          ],
          [
           "Scrypt"
          ],
          [
           "Scrypt"
          ],
          [
           "X11"
          ],
          [
           "CryptoNight"
          ],
          [
           "Scrypt"
          ],
          [
           "Scrypt"
          ],
          [
           "Scrypt"
          ],
          [
           "Scrypt"
          ],
          [
           "Quark"
          ],
          [
           "QuBit"
          ],
          [
           "Scrypt"
          ],
          [
           "CryptoNight"
          ],
          [
           "Lyra2RE"
          ],
          [
           "Scrypt"
          ],
          [
           "SHA-256"
          ],
          [
           "X11"
          ],
          [
           "Scrypt"
          ],
          [
           "X11"
          ],
          [
           "Scrypt"
          ],
          [
           "CryptoNight-V7"
          ],
          [
           "Scrypt"
          ],
          [
           "Scrypt"
          ],
          [
           "Scrypt"
          ],
          [
           "X13"
          ],
          [
           "X11"
          ],
          [
           "Equihash"
          ],
          [
           "Scrypt"
          ],
          [
           "Scrypt"
          ],
          [
           "Lyra2RE"
          ],
          [
           "Scrypt"
          ],
          [
           "Dagger-Hashimoto"
          ],
          [
           "X11"
          ],
          [
           "Blake2S"
          ],
          [
           "X11"
          ],
          [
           "Scrypt"
          ],
          [
           "PoS"
          ],
          [
           "X11"
          ],
          [
           "NIST5"
          ],
          [
           "PoS"
          ],
          [
           "X11"
          ],
          [
           "Scrypt"
          ],
          [
           "Scrypt"
          ],
          [
           "Scrypt"
          ],
          [
           "SHA-256"
          ],
          [
           "X11"
          ],
          [
           "Scrypt"
          ],
          [
           "Scrypt"
          ],
          [
           "SHA-256"
          ],
          [
           "PoS"
          ],
          [
           "Scrypt"
          ],
          [
           "X15"
          ],
          [
           "SHA-256"
          ],
          [
           "Scrypt"
          ],
          [
           "POS 3.0"
          ],
          [
           "CryptoNight-V7"
          ],
          [
           "536"
          ],
          [
           "Argon2d"
          ],
          [
           "Blake2b"
          ],
          [
           "Cloverhash"
          ],
          [
           "CryptoNight"
          ],
          [
           "NIST5"
          ],
          [
           "X11"
          ],
          [
           "NIST5"
          ],
          [
           "Skein"
          ],
          [
           "Scrypt"
          ],
          [
           "X13"
          ],
          [
           "Scrypt"
          ],
          [
           "X11"
          ],
          [
           "X11"
          ],
          [
           "Scrypt"
          ],
          [
           "CryptoNight"
          ],
          [
           "X13"
          ],
          [
           "Time Travel"
          ],
          [
           "Scrypt"
          ],
          [
           "Keccak"
          ],
          [
           "SkunkHash v2 Raptor"
          ],
          [
           "X11"
          ],
          [
           "Skein"
          ],
          [
           "SHA-256"
          ],
          [
           "X11"
          ],
          [
           "Scrypt"
          ],
          [
           "VeChainThor Authority"
          ],
          [
           "Scrypt"
          ],
          [
           "PoS"
          ],
          [
           "Scrypt"
          ],
          [
           "Scrypt"
          ],
          [
           "Scrypt"
          ],
          [
           "Scrypt"
          ],
          [
           "Scrypt"
          ],
          [
           "Scrypt"
          ],
          [
           "Scrypt"
          ],
          [
           "CryptoNight"
          ],
          [
           "SHA-512"
          ],
          [
           "Ouroboros"
          ],
          [
           "X11"
          ],
          [
           "Equihash"
          ],
          [
           "NeoScrypt"
          ],
          [
           "X11"
          ],
          [
           "Scrypt"
          ],
          [
           "NeoScrypt"
          ],
          [
           "Lyra2REv2"
          ],
          [
           "Equihash"
          ],
          [
           "Scrypt"
          ],
          [
           "SHA-256"
          ],
          [
           "NIST5"
          ],
          [
           "PHI1612"
          ],
          [
           "Dagger"
          ],
          [
           "Scrypt"
          ],
          [
           "Quark"
          ],
          [
           "Scrypt"
          ],
          [
           "POS 2.0"
          ],
          [
           "Scrypt"
          ],
          [
           "SHA-256"
          ],
          [
           "X11"
          ],
          [
           "NeoScrypt"
          ],
          [
           "Ethash"
          ],
          [
           "NeoScrypt"
          ],
          [
           "X11"
          ],
          [
           "DPoS"
          ],
          [
           "NIST5"
          ],
          [
           "X13"
          ],
          [
           "Multiple"
          ],
          [
           "Scrypt"
          ],
          [
           "CryptoNight"
          ],
          [
           "CryptoNight"
          ],
          [
           "Ethash"
          ],
          [
           "NIST5"
          ],
          [
           "Quark"
          ],
          [
           "X11"
          ],
          [
           "CryptoNight-V7"
          ],
          [
           "Scrypt"
          ],
          [
           "Scrypt"
          ],
          [
           "Scrypt"
          ],
          [
           "X11"
          ],
          [
           "BLAKE256"
          ],
          [
           "X11"
          ],
          [
           "NeoScrypt"
          ],
          [
           "Quark"
          ],
          [
           "NeoScrypt"
          ],
          [
           "Scrypt"
          ],
          [
           "Scrypt"
          ],
          [
           "Scrypt"
          ],
          [
           "X11"
          ],
          [
           "X11"
          ],
          [
           "SHA-256"
          ],
          [
           "C11"
          ],
          [
           "POS 3.0"
          ],
          [
           "Ethash"
          ],
          [
           "Scrypt"
          ],
          [
           "CryptoNight"
          ],
          [
           "SkunkHash"
          ],
          [
           "Scrypt"
          ],
          [
           "CryptoNight"
          ],
          [
           "Scrypt"
          ],
          [
           "Dagger"
          ],
          [
           "Lyra2REv2"
          ],
          [
           "X13"
          ],
          [
           "Proof-of-BibleHash"
          ],
          [
           "SHA-256 + Hive"
          ],
          [
           "Scrypt"
          ],
          [
           "Scrypt"
          ],
          [
           "X11"
          ],
          [
           "C11"
          ],
          [
           "Proof-of-Authority"
          ],
          [
           "X11"
          ],
          [
           "XEVAN"
          ],
          [
           "Scrypt"
          ],
          [
           "VBFT"
          ],
          [
           "Ethash"
          ],
          [
           "CryptoNight"
          ],
          [
           "Scrypt"
          ],
          [
           "IMesh"
          ],
          [
           "NIST5"
          ],
          [
           "Scrypt"
          ],
          [
           "Scrypt"
          ],
          [
           "Equihash"
          ],
          [
           "Scrypt"
          ],
          [
           "Lyra2Z"
          ],
          [
           "Green Protocol"
          ],
          [
           "PoS"
          ],
          [
           "Scrypt"
          ],
          [
           "Semux BFT consensus"
          ],
          [
           "X11"
          ],
          [
           "Quark"
          ],
          [
           "PoS"
          ],
          [
           "CryptoNight"
          ],
          [
           "X16R"
          ],
          [
           "Scrypt"
          ],
          [
           "NIST5"
          ],
          [
           "Lyra2RE"
          ],
          [
           "XEVAN"
          ],
          [
           "Tribus"
          ],
          [
           "Scrypt"
          ],
          [
           "Lyra2Z"
          ],
          [
           "CryptoNight"
          ],
          [
           "CryptoNight Heavy"
          ],
          [
           "CryptoNight"
          ],
          [
           "Scrypt"
          ],
          [
           "Scrypt"
          ],
          [
           "Jump Consistent Hash"
          ],
          [
           "SHA-256D"
          ],
          [
           "CryptoNight"
          ],
          [
           "Scrypt"
          ],
          [
           "X15"
          ],
          [
           "Scrypt"
          ],
          [
           "Quark"
          ],
          [
           "SHA-256"
          ],
          [
           "DPoS"
          ],
          [
           "X16R"
          ],
          [
           "HMQ1725"
          ],
          [
           "X11"
          ],
          [
           "X16R"
          ],
          [
           "Quark"
          ],
          [
           "Quark"
          ],
          [
           "Scrypt"
          ],
          [
           "Lyra2REv2"
          ],
          [
           "Quark"
          ],
          [
           "Scrypt"
          ],
          [
           "Scrypt"
          ],
          [
           "CryptoNight-V7"
          ],
          [
           "Cryptonight-GPU"
          ],
          [
           "XEVAN"
          ],
          [
           "CryptoNight Heavy"
          ],
          [
           "X11"
          ],
          [
           "X11"
          ],
          [
           "Scrypt"
          ],
          [
           "PoS"
          ],
          [
           "SHA-256"
          ],
          [
           "Keccak"
          ],
          [
           "X11"
          ],
          [
           "X11"
          ],
          [
           "Scrypt"
          ],
          [
           "SHA-512"
          ],
          [
           "X16R"
          ],
          [
           "ECC 256K1"
          ],
          [
           "Equihash"
          ],
          [
           "XEVAN"
          ],
          [
           "Lyra2Z"
          ],
          [
           "SHA-256"
          ],
          [
           "XEVAN"
          ],
          [
           "X11"
          ],
          [
           "CryptoNight"
          ],
          [
           "Quark"
          ],
          [
           "Blake"
          ],
          [
           "Blake"
          ],
          [
           "Equihash"
          ],
          [
           "Exosis"
          ],
          [
           "Scrypt"
          ],
          [
           "Scrypt"
          ],
          [
           "Equihash"
          ],
          [
           "Quark"
          ],
          [
           "Equihash"
          ],
          [
           "Quark"
          ],
          [
           "Scrypt"
          ],
          [
           "QuBit"
          ],
          [
           "X11"
          ],
          [
           "Scrypt"
          ],
          [
           "XEVAN"
          ],
          [
           "SHA-256D"
          ],
          [
           "X11"
          ],
          [
           "SHA-256"
          ],
          [
           "X13"
          ],
          [
           "SHA-256"
          ],
          [
           "X11"
          ],
          [
           "DPoS"
          ],
          [
           "Scrypt"
          ],
          [
           "Scrypt"
          ],
          [
           "X11"
          ],
          [
           "NeoScrypt"
          ],
          [
           "Scrypt"
          ],
          [
           "Blake"
          ],
          [
           "Scrypt"
          ],
          [
           "SHA-256"
          ],
          [
           "Scrypt"
          ],
          [
           "X11"
          ],
          [
           "Scrypt"
          ],
          [
           "Scrypt"
          ],
          [
           "SHA-256"
          ],
          [
           "X11"
          ],
          [
           "SHA-256"
          ],
          [
           "Scrypt"
          ],
          [
           "Scrypt"
          ],
          [
           "Scrypt"
          ],
          [
           "Groestl"
          ],
          [
           "X11"
          ],
          [
           "Scrypt"
          ],
          [
           "PoS"
          ],
          [
           "Scrypt"
          ],
          [
           "Scrypt"
          ],
          [
           "X11"
          ],
          [
           "SHA-256"
          ],
          [
           "DPoS"
          ],
          [
           "Scrypt"
          ],
          [
           "Scrypt"
          ],
          [
           "NeoScrypt"
          ],
          [
           "SHA3-256"
          ],
          [
           "Multiple"
          ],
          [
           "X13"
          ],
          [
           "Equihash+Scrypt"
          ],
          [
           "DPoS"
          ],
          [
           "Ethash"
          ],
          [
           "DPoS"
          ],
          [
           "SHA-256"
          ],
          [
           "Leased POS"
          ],
          [
           "PoS"
          ],
          [
           "TRC10"
          ],
          [
           "PoS"
          ],
          [
           "SHA-256"
          ],
          [
           "Scrypt"
          ],
          [
           "CryptoNight"
          ],
          [
           "Equihash"
          ],
          [
           "Scrypt"
          ]
         ],
         "hovertemplate": "<b>%{hovertext}</b><br><br>P3=%{x}<br>P2=%{y}<br>P1=%{z}<br>Algorithm=%{customdata[0]}<br>class=%{marker.color}<extra></extra>",
         "hovertext": [
          "42 Coin",
          "404Coin",
          "EliteCoin",
          "Bitcoin",
          "Ethereum",
          "Litecoin",
          "Dash",
          "Monero",
          "Ethereum Classic",
          "ZCash",
          "Bitshares",
          "DigiByte",
          "BitcoinDark",
          "PayCoin",
          "ProsperCoin",
          "KoboCoin",
          "Spreadcoin",
          "Argentum",
          "Aurora Coin",
          "BlueCoin",
          "MyriadCoin",
          "MoonCoin",
          "ZetaCoin",
          "SexCoin",
          "Quatloo",
          "EnergyCoin",
          "QuarkCoin",
          "Riecoin",
          "Digitalcoin ",
          "BitBar",
          "Catcoin",
          "CryptoBullion",
          "CannaCoin",
          "CryptCoin",
          "CasinoCoin",
          "Diamond",
          "Verge",
          "DevCoin",
          "EarthCoin",
          "E-Gulden",
          "Einsteinium",
          "Emerald",
          "Exclusive Coin",
          "FlutterCoin",
          "Franko",
          "FeatherCoin",
          "GrandCoin",
          "GlobalCoin",
          "GoldCoin",
          "HoboNickels",
          "HyperStake",
          "Infinite Coin",
          "IOCoin",
          "IXcoin",
          "KrugerCoin",
          "LuckyCoin",
          "Litebar ",
          "MaxCoin",
          "MegaCoin",
          "MediterraneanCoin",
          "MintCoin",
          "MinCoin",
          "MazaCoin",
          "Nautilus Coin",
          "NavCoin",
          "NobleCoin",
          "Namecoin",
          "NyanCoin",
          "OpalCoin",
          "Orbitcoin",
          "PotCoin",
          "PhoenixCoin",
          "Reddcoin",
          "RonPaulCoin",
          "StableCoin",
          "SmartCoin",
          "SuperCoin",
          "SyncCoin",
          "SysCoin",
          "TeslaCoin",
          "TigerCoin",
          "TittieCoin",
          "TorCoin",
          "TerraCoin",
          "UnbreakableCoin",
          "Unobtanium",
          "UroCoin",
          "UnitaryStatus Dollar",
          "UltraCoin",
          "ViaCoin",
          "VeriCoin",
          "Vertcoin",
          "WorldCoin",
          "X11 Coin",
          "Crypti",
          "JouleCoin",
          "StealthCoin",
          "ZCC Coin",
          "ByteCoin",
          "DigitalNote ",
          "BurstCoin",
          "StorjCoin",
          "MonaCoin",
          "Neutron",
          "FairCoin",
          "Gulden",
          "RubyCoin",
          "PesetaCoin",
          "Kore",
          "Wild Beast Coin",
          "Dnotes",
          "Flo",
          "8BIT Coin",
          "Sativa Coin",
          "ArtByte",
          "Folding Coin",
          "Ucoin",
          "Unitus",
          "CypherPunkCoin",
          "OmniCron",
          "Vtorrent",
          "GreenCoin",
          "Cryptonite",
          "MasterCoin",
          "SoonCoin",
          "1Credit",
          "IslaCoin",
          "Nexus",
          "MarsCoin ",
          "Crypto",
          "Anarchists Prime",
          "Droidz",
          "BowsCoin",
          "Squall Coin",
          "Song Coin",
          "BitZeny",
          "Diggits",
          "Expanse",
          "Paycon",
          "Siacoin",
          "Emercoin",
          "EverGreenCoin",
          "MindCoin",
          "I0coin",
          "Decred",
          "Revolution VR",
          "HOdlcoin",
          "EDRCoin",
          "Hitcoin",
          "Gamecredits",
          "DubaiCoin",
          "CarpeDiemCoin",
          "PWR Coin",
          "BillaryCoin",
          "GPU Coin",
          "Adzcoin",
          "SoilCoin",
          "YoCoin",
          "SibCoin",
          "EuropeCoin",
          "ZeitCoin",
          "SwingCoin",
          "SafeExchangeCoin",
          "Nebuchadnezzar",
          "Francs",
          "BolivarCoin",
          "Ratecoin",
          "Revenu",
          "Clockcoin",
          "VIP Tokens",
          "BitSend",
          "Omni",
          "Let it Ride",
          "PutinCoin",
          "iBankCoin",
          "Frankywillcoin",
          "MudraCoin",
          "PizzaCoin",
          "Lutetium Coin",
          "Komodo",
          "GoldBlocks",
          "CarterCoin",
          "Karbo",
          "BitTokens",
          "ZayedCoin",
          "MustangCoin",
          "ZoneCoin",
          "Circuits of Value",
          "RootCoin",
          "DopeCoin",
          "BitCurrency",
          "DollarCoin",
          "Swiscoin",
          "Shilling",
          "BuzzCoin",
          "Opair",
          "PesoBit",
          "Halloween Coin",
          "ZCoin",
          "CoffeeCoin",
          "RoyalCoin",
          "GanjaCoin V2",
          "TeamUP",
          "LanaCoin",
          "Elementrem",
          "ZClassic",
          "ARK",
          "InsaneCoin",
          "KiloCoin",
          "ArtexCoin",
          "EmberCoin",
          "XenixCoin",
          "FreeCoin",
          "PLNCoin",
          "AquariusCoin",
          "Kurrent",
          "Creatio",
          "Eternity",
          "Eurocoin",
          "BitcoinFast",
          "Stakenet",
          "BitConnect Coin",
          "MoneyCoin",
          "Enigma",
          "Cannabis Industry Coin",
          "Russiacoin",
          "PandaCoin",
          "GameUnits",
          "GAKHcoin",
          "Allsafe",
          "LiteCreed",
          "OsmiumCoin",
          "Bikercoins",
          "HexxCoin",
          "Klingon Empire Darsek",
          "Internet of People",
          "KushCoin",
          "Printerium",
          "PacCoin",
          "Impeach",
          "Citadel",
          "Zilbercoin",
          "FirstCoin",
          "BeaverCoin",
          "FindCoin",
          "VaultCoin",
          "Zero",
          "OpenChat",
          "Canada eCoin",
          "Zoin",
          "RenosCoin",
          "DubaiCoin",
          "VirtacoinPlus",
          "TajCoin",
          "Impact",
          "EB3coin",
          "Atmos",
          "HappyCoin",
          "Coinonat",
          "MacronCoin",
          "Condensate",
          "Independent Money System",
          "ArgusCoin",
          "LomoCoin",
          "ProCurrency",
          "GoldReserve",
          "BenjiRolls",
          "GrowthCoin",
          "ILCoin",
          "Phreak",
          "Degas Coin",
          "HTML5 Coin",
          "Ultimate Secure Cash",
          "EquiTrader",
          "QTUM",
          "Quantum Resistant Ledger",
          "Espers",
          "Dynamic",
          "Nano",
          "ChanCoin",
          "Dinastycoin",
          "Denarius",
          "DigitalPrice",
          "Virta Unique Coin",
          "Bitcoin Planet",
          "Unify",
          "BritCoin",
          "SocialCoin",
          "ArcticCoin",
          "DAS",
          "Linda",
          "LeviarCoin",
          "DeepOnion",
          "Bitcore",
          "gCn Coin",
          "SmartCash",
          "Signatum",
          "Onix",
          "Cream",
          "Bitcoin Cash",
          "Monoeci",
          "Draftcoin",
          "Vechain",
          "Sojourn Coin",
          "Stakecoin",
          "NewYorkCoin",
          "FrazCoin",
          "Kronecoin",
          "AdCoin",
          "Linx",
          "CoinonatX",
          "Ethereum Dark",
          "Sumokoin",
          "Obsidian",
          "Cardano",
          "Regalcoin",
          "BitcoinZ",
          "TrezarCoin",
          "Elements",
          "TerraNovaCoin",
          "VIVO Coin",
          "Rupee",
          "Bitcoin Gold",
          "WomenCoin",
          "Theresa May Coin",
          "NamoCoin",
          "LUXCoin",
          "Pirl",
          "Xios",
          "Bitcloud 2.0",
          "eBoost",
          "KekCoin",
          "BlackholeCoin",
          "Infinity Economics",
          "Pura",
          "Innova",
          "Ellaism",
          "GoByte",
          "Magnet",
          "Lamden Tau",
          "Electra",
          "Bitcoin Diamond",
          "SHIELD",
          "Cash & Back Coin",
          "UltraNote",
          "BitCoal",
          "DaxxCoin",
          "Bulwark",
          "Kalkulus",
          "AC3",
          "Lethean",
          "GermanCoin",
          "LiteCoin Ultra",
          "PopularCoin",
          "PhantomX",
          "Photon",
          "Sucre",
          "SparksPay",
          "Digiwage",
          "GunCoin",
          "IrishCoin",
          "Trollcoin",
          "Litecoin Plus",
          "Monkey Project",
          "Pioneer Coin",
          "UnitedBitcoin",
          "Interzone",
          "TokenPay",
          "1717 Masonic Commemorative Token",
          "My Big Coin",
          "TurtleCoin",
          "MUNcoin",
          "Unified Society USDEX",
          "Niobio Cash",
          "ShareChain",
          "Travelflex",
          "KREDS",
          "Tokyo Coin",
          "BiblePay",
          "LitecoinCash",
          "BitFlip",
          "LottoCoin",
          "Crypto Improvement Fund",
          "Stipend",
          "Poa Network",
          "Pushi",
          "Ellerium",
          "Velox",
          "Ontology",
          "Callisto Network",
          "BitTube",
          "Poseidon",
          "Aidos Kuneen",
          "Bitspace",
          "Briacoin",
          "Ignition",
          "Bitrolium",
          "MedicCoin",
          "Alpenschillling",
          "Bitcoin Green",
          "Deviant Coin",
          "Abjcoin",
          "Semux",
          "FuturoCoin",
          "Carebit",
          "Zealium",
          "Monero Classic",
          "Proton",
          "iDealCash",
          "Jumpcoin",
          "Infinex",
          "Bitcoin Incognito",
          "KEYCO",
          "HollyWoodCoin",
          "GINcoin",
          "PlatinCoin",
          "Loki",
          "Newton Coin",
          "Swisscoin",
          "Xt3ch",
          "MassGrid",
          "TheVig",
          "PluraCoin",
          "EmaratCoin",
          "Dekado",
          "Lynx",
          "Poseidon Quark",
          "BitcoinWSpectrum",
          "Muse",
          "Motion",
          "PlusOneCoin",
          "Axe",
          "Trivechain",
          "Dystem",
          "Giant",
          "Peony Coin",
          "Absolute Coin",
          "Vitae",
          "HexCoin",
          "TPCash",
          "Webchain",
          "Ryo",
          "Urals Coin",
          "Qwertycoin",
          "ARENON",
          "EUNO",
          "MMOCoin",
          "Ketan",
          "Project Pai",
          "XDNA",
          "PAXEX",
          "Azart",
          "ThunderStake",
          "Kcash",
          "Xchange",
          "Acute Angle Cloud",
          "CrypticCoin",
          "Bettex coin",
          "Actinium",
          "Bitcoin SV",
          "BitMoney",
          "Junson Ming Chan Coin",
          "FREDEnergy",
          "HerbCoin",
          "Universal Molecule",
          "Lithium",
          "PirateCash",
          "Exosis",
          "Block-Logic",
          "Oduwa",
          "Beam",
          "Galilel",
          "Bithereum",
          "Crypto Sports",
          "Credit",
          "SLICE",
          "Dash Platinum",
          "Nasdacoin",
          "Beetle Coin",
          "Titan Coin",
          "Award",
          "BLAST",
          "Bitcoin Rhodium",
          "GlobalToken",
          "Insane Coin",
          "ALAX",
          "LiteDoge",
          "SolarCoin",
          "TruckCoin",
          "UFO Coin",
          "OrangeCoin",
          "BlakeCoin",
          "BitstarCoin",
          "NeosCoin",
          "HyperCoin",
          "PinkCoin",
          "Crypto Escudo",
          "AudioCoin",
          "IncaKoin",
          "Piggy Coin",
          "Crown Coin",
          "Genstake",
          "SmileyCoin",
          "XiaoMiCoin",
          "Groestlcoin",
          "CapriCoin",
          " ClubCoin",
          "Radium",
          "Bata",
          "Pakcoin",
          "Creditbit ",
          "OKCash",
          "Lisk",
          "HiCoin",
          "WhiteCoin",
          "FriendshipCoin",
          "Fiii",
          "JoinCoin",
          "Triangles Coin",
          "Vollar",
          "EOS",
          "Reality Clash",
          "Oxycoin",
          "TigerCash",
          "Waves",
          "Particl",
          "BitTorrent",
          "Nxt",
          "ZEPHYR",
          "Gapcoin",
          "Beldex",
          "Horizen",
          "BitcoinPlus"
         ],
         "legendgroup": "",
         "marker": {
          "color": [
           0,
           0,
           0,
           1,
           1,
           1,
           0,
           1,
           1,
           1,
           0,
           1,
           0,
           0,
           1,
           0,
           1,
           1,
           0,
           0,
           1,
           1,
           1,
           1,
           1,
           0,
           1,
           1,
           1,
           0,
           1,
           0,
           1,
           1,
           0,
           0,
           1,
           1,
           1,
           1,
           1,
           1,
           0,
           0,
           1,
           1,
           1,
           1,
           1,
           0,
           0,
           1,
           0,
           1,
           1,
           1,
           1,
           0,
           1,
           1,
           0,
           1,
           0,
           0,
           0,
           1,
           1,
           1,
           0,
           0,
           0,
           0,
           0,
           1,
           1,
           1,
           0,
           0,
           1,
           0,
           1,
           0,
           0,
           1,
           1,
           1,
           1,
           0,
           0,
           1,
           0,
           1,
           1,
           0,
           0,
           1,
           0,
           0,
           1,
           1,
           0,
           0,
           1,
           0,
           0,
           1,
           0,
           1,
           0,
           1,
           0,
           1,
           0,
           0,
           1,
           1,
           0,
           1,
           1,
           1,
           0,
           1,
           1,
           1,
           1,
           1,
           0,
           0,
           1,
           1,
           1,
           0,
           1,
           0,
           1,
           1,
           0,
           1,
           0,
           1,
           0,
           0,
           1,
           1,
           0,
           1,
           1,
           0,
           0,
           1,
           0,
           1,
           0,
           0,
           0,
           1,
           1,
           1,
           1,
           0,
           0,
           0,
           0,
           0,
           1,
           1,
           0,
           0,
           0,
           0,
           0,
           1,
           0,
           0,
           0,
           0,
           0,
           1,
           0,
           1,
           0,
           0,
           1,
           0,
           1,
           0,
           0,
           1,
           0,
           1,
           0,
           1,
           0,
           1,
           0,
           0,
           0,
           0,
           1,
           0,
           0,
           0,
           0,
           0,
           1,
           1,
           0,
           0,
           1,
           1,
           0,
           0,
           0,
           0,
           0,
           1,
           0,
           0,
           0,
           0,
           0,
           0,
           0,
           0,
           1,
           0,
           0,
           0,
           0,
           0,
           0,
           1,
           1,
           1,
           0,
           0,
           0,
           0,
           1,
           0,
           1,
           0,
           0,
           1,
           0,
           1,
           1,
           0,
           1,
           1,
           0,
           1,
           0,
           0,
           0,
           1,
           0,
           0,
           1,
           0,
           0,
           0,
           0,
           0,
           0,
           0,
           1,
           0,
           1,
           0,
           0,
           0,
           0,
           1,
           0,
           1,
           0,
           1,
           1,
           1,
           1,
           0,
           1,
           0,
           0,
           1,
           0,
           1,
           1,
           1,
           0,
           1,
           0,
           1,
           1,
           1,
           0,
           1,
           0,
           1,
           0,
           0,
           0,
           1,
           0,
           1,
           1,
           1,
           1,
           1,
           0,
           0,
           1,
           0,
           0,
           0,
           1,
           0,
           1,
           0,
           1,
           0,
           1,
           0,
           0,
           0,
           0,
           1,
           0,
           0,
           1,
           0,
           0,
           0,
           1,
           1,
           1,
           1,
           0,
           0,
           0,
           0,
           1,
           0,
           1,
           1,
           1,
           0,
           0,
           1,
           1,
           0,
           0,
           1,
           0,
           1,
           1,
           1,
           0,
           1,
           1,
           0,
           0,
           0,
           1,
           1,
           1,
           0,
           0,
           0,
           1,
           1,
           0,
           1,
           1,
           1,
           1,
           0,
           3,
           3,
           1,
           1,
           1,
           0,
           3,
           0,
           0,
           0,
           0,
           1,
           1,
           1,
           1,
           0,
           0,
           0,
           1,
           0,
           1,
           0,
           0,
           0,
           0,
           1,
           0,
           0,
           1,
           0,
           0,
           1,
           1,
           0,
           1,
           0,
           1,
           1,
           1,
           1,
           0,
           0,
           1,
           0,
           1,
           0,
           0,
           0,
           0,
           0,
           0,
           1,
           1,
           1,
           0,
           0,
           0,
           0,
           0,
           0,
           1,
           0,
           1,
           1,
           1,
           1,
           0,
           0,
           0,
           0,
           1,
           0,
           0,
           1,
           0,
           0,
           1,
           3,
           1,
           0,
           1,
           1,
           0,
           0,
           1,
           0,
           1,
           1,
           0,
           1,
           1,
           0,
           1,
           0,
           1,
           0,
           0,
           1,
           0,
           0,
           0,
           0,
           0,
           1,
           1,
           1,
           0,
           0,
           0,
           1,
           0,
           1,
           0,
           1,
           0,
           0,
           0,
           0,
           1,
           0,
           0,
           0,
           1,
           0,
           1,
           0,
           1,
           0,
           0,
           0,
           1,
           1,
           0,
           0,
           0,
           0,
           0,
           0,
           3,
           1,
           0,
           1,
           0,
           1,
           0,
           0,
           3,
           0,
           2,
           0,
           0,
           0,
           1,
           1,
           0
          ],
          "coloraxis": "coloraxis",
          "symbol": "circle"
         },
         "mode": "markers",
         "name": "",
         "scene": "scene",
         "showlegend": false,
         "type": "scatter3d",
         "x": [
          -0.5602131377715266,
          -0.5603563971823676,
          -0.6146694263612754,
          0.12991802802612426,
          0.3594291510829246,
          -0.006955211343689607,
          -0.5200974668767256,
          0.39195661454296415,
          0.35943546889884703,
          0.4276178899889022,
          -0.13317281375804702,
          0.36455797181090055,
          -0.4233440899465351,
          -0.09852688928592036,
          -0.006948603614994373,
          -0.6049067355851704,
          0.03316683871019568,
          -0.0069481172043767735,
          -0.5602153389767737,
          -0.5603103704901536,
          0.365394830043411,
          0.006192185489357376,
          0.129899818369985,
          -0.006959615056744152,
          -0.0069461434285069176,
          -0.5602319688670452,
          0.039673711644617096,
          0.07582384194054607,
          -0.0069519087703918065,
          -0.5602131271718633,
          -0.006948825746326145,
          -0.5602132625520418,
          -0.0069487097077462635,
          0.033167711764441415,
          -0.2848007890365389,
          -0.4774365045944578,
          0.36371370397361685,
          0.12776590019693096,
          -0.008405187704842996,
          -0.006950920673440798,
          -0.00697167239569638,
          -0.006950327925706674,
          -0.08609595790436152,
          -0.3003375780612615,
          -0.0069482299420863805,
          0.17261708263626968,
          -0.007035114927669273,
          -0.006956093404309561,
          -0.006952341916249614,
          -0.5602226909696455,
          -0.19553452125560133,
          -0.017711058062716434,
          -0.5200987858530663,
          0.1299175441494667,
          -0.006962531331776421,
          -0.0069507124853119195,
          -0.006948562364212987,
          -0.624785748841509,
          -0.0069528403473782105,
          0.4269546097004064,
          -0.2386523754865549,
          -0.00694898553179506,
          -0.42350880923731093,
          -0.23539589588709875,
          -0.6209498429204156,
          -0.0067971899636974946,
          0.12991851627930645,
          -0.006988124596211467,
          -0.6209420494871236,
          -0.38062754681454775,
          -0.560232839332502,
          -0.5602211014361504,
          -0.5646990131646745,
          -0.006947889905203912,
          -0.006943589893387859,
          -0.0069506038513884785,
          -0.1952854329918121,
          -0.5200968379000049,
          0.12986423841644748,
          0.1371303328052299,
          0.12991499937428969,
          -0.23801433207757136,
          -0.5200967146525395,
          0.12991798029482804,
          0.12992244164611857,
          0.12992003043049705,
          0.03316767569483872,
          -0.5603265471617878,
          -0.5602174027332852,
          -0.006951195061296444,
          -0.47964652410759495,
          0.15103304419916233,
          -0.006957659058576399,
          -0.5200977131599502,
          0.13712389021868743,
          0.12991559479416584,
          -0.6209447942665892,
          -0.5602015628918421,
          0.4219365058049645,
          0.44307526835260685,
          -0.18511430978651267,
          -0.14874194688060585,
          -0.006955277494732026,
          -0.4233483049985422,
          -0.477444288559457,
          -0.0069544577043778606,
          -0.2353981334826753,
          -0.00696378876868105,
          -0.6209396290900228,
          -0.006948377480868894,
          -0.23540358790817675,
          -0.006966264809350866,
          -0.5602133623759263,
          -0.6209404740120053,
          -0.007035493444504402,
          0.26946958244816244,
          -0.19527740088091397,
          0.3655747627203974,
          0.18341946082137728,
          -0.006949875838396984,
          -0.5602142291164286,
          -0.0073117112711054534,
          0.3283859017021635,
          -0.006948513168600569,
          0.12991886421368906,
          -0.0038001783149139326,
          -0.5200970693814841,
          -0.4301893834550416,
          0.033164059156769995,
          0.27242482092050363,
          0.1299196356862647,
          -0.643206244331113,
          0.033166151577279986,
          -0.0960513729478334,
          -0.006946228232790241,
          -0.006951455029886914,
          -0.23540585369233166,
          0.3594446015027632,
          -0.6209415452225941,
          0.3790438954375555,
          -0.423317014215594,
          -0.6049159747138593,
          0.03316597988511553,
          0.1299175582077633,
          -0.5397999528719394,
          -0.006973387547718513,
          0.38834713228376144,
          -0.42334445426171136,
          -0.520870946060846,
          -0.006956251400393922,
          -0.42334507110189623,
          0.12733345616560768,
          -0.5734782061801318,
          -0.560213077500597,
          -0.23539260300765466,
          0.03316383215642488,
          0.4024990354017856,
          -0.006942775921263278,
          0.41487711543356137,
          -0.5200852896520614,
          -0.23766350406115716,
          -0.423343946539869,
          -0.28030391536924293,
          -0.08609746479191745,
          -0.006948760633763683,
          0.03316662659605262,
          -0.5201148608564318,
          -0.4233372067787489,
          -0.42332922962338515,
          -0.5719470663458907,
          -0.5200958129372899,
          -0.006948512808636948,
          -0.04034278445005405,
          -0.5602691166033145,
          -0.560212313282353,
          -0.5602250177536854,
          -0.2961144872208077,
          0.03316850509795845,
          -0.19535572520837344,
          0.6731403779249582,
          -0.5200975083229573,
          -0.5602166631281014,
          0.44378905754603853,
          -0.423344018057622,
          0.12991943035461967,
          -0.5200968357246646,
          -0.5602128142322901,
          0.3654727705781197,
          -0.5602134346088289,
          -0.006959475185056879,
          -0.23541992572768713,
          0.12991902315390483,
          -0.15985807201900804,
          -0.006949114426116295,
          -0.6993104890818922,
          -0.08610388515810462,
          -0.56021826745777,
          -0.5200860083510971,
          0.3488272749989966,
          -0.08611647666713189,
          -0.29612086320953185,
          -0.7673271886195788,
          -0.08608751507995507,
          -0.6969078333903749,
          0.3594425157348603,
          0.42761816075918757,
          0.2127268132085273,
          -0.5200986179646054,
          -0.006636273361103295,
          0.033058881941152196,
          -0.6350180116569856,
          -0.5200972955288465,
          -0.08610102878806364,
          -0.5602144339680232,
          -0.5602120753456095,
          0.03316627262486917,
          -0.08609746479191745,
          -0.5200957132851133,
          -0.42334586114949513,
          -0.5602151062396087,
          -0.2634898800238811,
          -0.5602138751708531,
          -0.5601925420681861,
          -0.5200967913133911,
          0.4437904812848087,
          -0.5602094920163418,
          -0.23945539666362728,
          -0.5602132243383435,
          -0.5602135316818381,
          -0.18874165354362774,
          -0.36984619104047595,
          -0.006948483494882762,
          0.443789336018373,
          0.2724247276251888,
          -0.5601996947648267,
          -0.42334431348608637,
          -0.5200973836131338,
          -0.5602142623227411,
          0.036507729087457794,
          -0.5602124343572162,
          0.39196389890821376,
          -0.23539253880351516,
          -0.3581052697885975,
          -0.0069488012917802095,
          -0.2961222917456124,
          0.03319743121261458,
          0.42761782371129214,
          -0.5603319376380776,
          -0.0069602956001499705,
          0.2724225532613383,
          -0.23539831205581685,
          0.598366678991157,
          -0.520095429883487,
          -0.8872665380627262,
          -0.5201100022020967,
          -0.006821366057329487,
          -0.0861083206614639,
          -0.5200967089144002,
          -0.018672576239498886,
          -0.08614282624624026,
          -0.5200983448429659,
          -0.5602132334353551,
          -0.5602123347805502,
          -0.5601789938988488,
          -0.09597433871102665,
          -0.5200980965081637,
          -0.006950326706933237,
          -0.23537069465222032,
          0.1298039615124557,
          -0.08609580511837113,
          -0.560212812950254,
          -0.6080566235685503,
          -0.09852021726032115,
          -0.006948068015553641,
          -0.04034990579772218,
          0.3919522758973345,
          -0.7152204617424474,
          0.2799942985250586,
          0.38409985992926804,
          0.43396239139723797,
          0.44358146797506065,
          -0.5719376726805532,
          0.03316590550078029,
          -0.5719429015450925,
          -0.6894296547189339,
          -0.006950554661335518,
          -0.620941958093882,
          -0.006946663820577198,
          0.03316592865129441,
          0.03316810584818696,
          -0.5598861764645462,
          0.44378959319064215,
          -0.6209424373009215,
          0.38032697014867,
          -0.025055095691242767,
          0.04785536561380368,
          -0.03947127597761368,
          0.03318676160057675,
          -0.6894358562379812,
          0.1299180175572938,
          -0.5200984357634024,
          -0.23539623393141818,
          -2.9625141081214355,
          -0.0065891998552975286,
          -0.0860935929014083,
          -0.028831355837733535,
          -0.006949240082064398,
          -0.006948235840044012,
          -0.006950013147840949,
          -0.00695017684812897,
          -0.5602144765174887,
          -0.5602136367259911,
          0.4437915851251242,
          -0.13287720905789746,
          -0.04323490883083663,
          -0.5200970250984911,
          0.4275394558729429,
          -0.38064144222825286,
          0.03281586546935351,
          -0.5602127739214726,
          0.17263780165877485,
          -0.07741038502399512,
          0.42761638743642516,
          -0.5667729088798138,
          -0.4233553091714505,
          -0.571982089648753,
          -0.5626631719329181,
          0.40249902949855065,
          -0.5602127480843907,
          -0.5135575768920001,
          -0.0069603180318745204,
          -0.07970606020859872,
          -0.5602151355068539,
          -0.0995946803539022,
          0.03315302599551345,
          0.17263807955924457,
          0.359453258672854,
          0.1726377109329333,
          -0.5200977551782228,
          0.21271211926960643,
          -0.575256410290483,
          -0.6209606283993889,
          0.3655335972920408,
          -0.5602229332119293,
          0.44374813532570356,
          0.443789651496467,
          0.35970812573752625,
          -0.24711929114754733,
          -0.18874246758490415,
          0.033174391639487266,
          0.3919259290805246,
          -0.5592536778721522,
          -0.5602092930489019,
          -0.007383940749286328,
          -0.5201020393047375,
          0.011941117716016626,
          0.03316789087236433,
          0.17263703300014804,
          -0.18874062837559116,
          0.17260875021735061,
          -0.006953209298065455,
          -0.5602727778747777,
          -0.5602133841221264,
          -0.19527762946363336,
          0.03316735018476552,
          0.1299176569007655,
          0.01482659323581102,
          -0.0403402989319516,
          0.13099990259693176,
          -0.1689507270551377,
          0.4698788193039021,
          0.349854274691715,
          -0.5602411348730288,
          0.44378091600019404,
          -0.008136438290165185,
          0.4024858804180691,
          0.15097712890807544,
          -0.29612843029180635,
          14.745948762956912,
          6.512406463021147,
          -0.006948975264907267,
          -0.008535964410382658,
          0.033152637809288066,
          -0.5384381283861875,
          9.557400597959292,
          -0.5200963139661188,
          -0.45521503332115365,
          -0.2353936431081149,
          -0.02793595267008741,
          0.35963017168596556,
          0.44381188358004614,
          -0.006948343771637829,
          0.3268975897730814,
          -0.5719377753804805,
          -0.5602131645051065,
          -0.5602131475580651,
          0.4276097777116379,
          -0.23541776547335502,
          0.34883378324615716,
          0.08186191342809436,
          -0.08609542496201453,
          -0.5602136230721328,
          0.2888692250461511,
          0.03316641620797622,
          -0.5135742603907824,
          -0.0860940459024044,
          0.4437880910832952,
          -0.05971870621062179,
          -0.5602527271959671,
          -0.01867518379526371,
          0.2724247917716195,
          -0.031172457257875853,
          0.39896060426801366,
          -0.23539900690099022,
          0.34882699103653747,
          0.44381043167766976,
          0.3136716525010824,
          0.44376756409925616,
          -0.5614248964563117,
          -0.23539363555305853,
          0.36849219880512485,
          -0.6970007628272372,
          0.44373842821857656,
          -0.5602135683911371,
          -0.2800971943921616,
          -0.30678342933448133,
          -0.18871872981505383,
          -0.09853089675476172,
          0.04790405223299333,
          0.16872547389033668,
          0.45929294518431363,
          0.0331678150308476,
          -0.38454156152892083,
          -0.1887409225385814,
          -0.5135604510110757,
          -0.23481649317681647,
          -0.40222694147911914,
          -0.1887472429601317,
          -0.006947899902377953,
          -0.5601797442799301,
          0.3920167482413529,
          0.3403671103719631,
          0.09805260562495256,
          0.30474844163483467,
          -0.19527874019720387,
          -0.5200998353406003,
          -0.23540156646088733,
          -0.08608932975514945,
          0.12967057288872608,
          -0.5052257050192037,
          -0.1952749409559695,
          0.03316794841574285,
          -0.5597593654037132,
          -0.1806139745691569,
          0.16872789138940425,
          16.346689732327807,
          0.42723031817102003,
          -0.13039718591638944,
          0.3488284888867842,
          0.12991801802783126,
          -0.172182666408715,
          -0.19791114051302464,
          0.44378071578327366,
          -0.5135632770575074,
          0.36769932102696223,
          0.36769440375962864,
          0.19917429803862247,
          0.4220097277523761,
          -0.006949732405577172,
          -0.5602146804028899,
          0.4276218333201528,
          -0.5135618649759393,
          0.42761550946888915,
          -0.18874039593916891,
          -0.5623704113373327,
          0.18342187896898202,
          -0.19527710906171106,
          -0.5602134072896645,
          -0.45523035376175314,
          -0.6969651582702651,
          -0.5200848248035764,
          0.1299142407072344,
          -0.06767513928029525,
          0.12991285412478604,
          -0.5200994493461631,
          0.21262029289962886,
          -0.5613595244642693,
          -0.0035999230937659873,
          -0.5201339565041884,
          0.17218914244296202,
          -0.5602068349465441,
          0.3679319338725876,
          -0.5602144297276975,
          -0.09852543498802627,
          -0.5602146115351551,
          -0.5201464985056434,
          -0.0070336072327497196,
          -0.5600038957357006,
          -0.4260832849008433,
          -0.5201382462062706,
          0.12991797240922232,
          -0.5602218056758247,
          -0.009764370107447054,
          -0.5602613182233135,
          0.07582092639589748,
          -0.5201205327351305,
          -0.560223518751411,
          -0.08609536553906146,
          -0.006949041616171511,
          -0.006952874598680297,
          -0.2675746439219654,
          -0.4233524793832716,
          0.21272620095165456,
          -0.23658170750252322,
          -0.5602414336074599,
          -0.38062529547080476,
          15.555607303131644,
          0.36558431218653087,
          -0.6209397476918762,
          0.409604351313419,
          0.21258292879378113,
          0.3594427197849108,
          0.21256734555430482,
          -0.09864428138305498,
          11.406025636673707,
          -0.0860962138389771,
          0.0029738433108484116,
          -0.06525831955008335,
          0.0660697938568887,
          -0.5602068674244847,
          0.44368783457368505,
          0.42761790322802024,
          -0.23539395912142794
         ],
         "y": [
          1.012431271640336,
          1.012860059161528,
          1.780818703650751,
          -1.4269140927547777,
          -2.0516599519640897,
          -1.1448626121210195,
          1.2629174549546867,
          -2.2405508360487394,
          -2.0517179129457097,
          -1.9600080803403837,
          1.2143341853125778,
          -1.7927471806255004,
          0.7303807223128845,
          0.5790798235664077,
          -1.1448759560662765,
          1.9033792851478328,
          -0.8943850994289747,
          -1.1448849067088696,
          1.0124364224652422,
          1.0127826950744903,
          -1.7925936561199225,
          -1.256598432641285,
          -1.4268731676076445,
          -1.1448744629051923,
          -1.1448980621687668,
          1.012499331948658,
          -0.3750511167096611,
          -1.2150462296590037,
          -1.144868554477001,
          1.0124311497022815,
          -1.1448751532279415,
          1.0124315553649297,
          -1.1448742578741276,
          -0.8943879203248913,
          0.3525012432544923,
          0.9422556683386446,
          -1.7889522674624516,
          -1.4226449314945289,
          -1.1418661353435213,
          -1.1448675816360272,
          -1.1448392134694079,
          -1.1448715639507692,
          1.6753005116344537,
          0.03750208006469829,
          -1.144875673353165,
          -1.6041702315246609,
          -1.144797395926107,
          -1.1448570823453685,
          -1.1448710168033582,
          1.0124457268377305,
          1.1125375885592683,
          -1.1211289439486947,
          1.2629222220659235,
          -1.4269123439032125,
          -1.1448665022012812,
          -1.1448681668096028,
          -1.144872818291094,
          1.86054257377285,
          -1.1448641561341033,
          -2.2781237338720723,
          0.8728983687020077,
          -1.144872735747396,
          0.7305750782279543,
          0.8611259284005812,
          1.8560672897577062,
          -1.1479287481901563,
          -1.4269158574242244,
          -1.1447859748163565,
          1.856039122335516,
          0.553117115197291,
          1.0124322244078725,
          1.012443661816679,
          1.0286443501922633,
          -1.1448785355924285,
          -1.1449323818640174,
          -1.1448737782802774,
          1.1116373211127872,
          1.2629188614594102,
          -1.4268647071638512,
          0.21306456901365192,
          -1.4269074974831863,
          1.693943397741165,
          1.2629167434741682,
          -1.4269174329229781,
          -1.4269399136452818,
          -1.4269178590828855,
          -0.8943847790908221,
          1.0125735287794726,
          1.0124299592359864,
          -1.144866924470565,
          0.22940608455259162,
          -1.3025878011521073,
          -1.1448841118183937,
          1.262921105047705,
          0.213104581189625,
          -1.4269093129369783,
          1.8560490426567826,
          1.0122221666029774,
          -2.1274911683308537,
          -2.1747086962076625,
          0.5803943191951632,
          1.6132403704084572,
          -1.1448659057880757,
          0.7303882621235721,
          0.9422845341849592,
          -1.145132299723108,
          0.8611367220692148,
          -1.1448453919058355,
          1.8560283671671336,
          -1.1448737002775942,
          0.8610728004673639,
          -1.144835374684381,
          1.012432083424007,
          1.8560317554681052,
          -1.1447256722796713,
          -2.2191585970359347,
          1.111604945639342,
          -1.7929094368808647,
          -1.6623986393769405,
          -1.144868409176132,
          1.0124318706309907,
          -1.1452327865306864,
          -2.1988799739135367,
          -1.144872873901574,
          -1.4269171149463313,
          -1.1716405303742443,
          1.2629196982587925,
          1.847240895121105,
          -0.8943772279427434,
          -2.413471583696406,
          -1.4269253830241286,
          1.7815888053167417,
          -0.8943827832288395,
          1.0343419899111026,
          -1.144916195567688,
          -1.1449039552884552,
          0.8611478977901538,
          -2.051718621597662,
          1.8560289362707207,
          -2.057210070520724,
          0.7301192732566463,
          1.9034668234797496,
          -0.8943813263376695,
          -1.4269123947134226,
          1.0478137775770306,
          -1.1448179948481643,
          -2.313050842543094,
          0.7303820390392879,
          1.2612756501501965,
          -1.144858853095274,
          0.7303861920654513,
          -1.421186728511528,
          1.5250370168900762,
          1.0124240284510104,
          0.8610797579554864,
          -0.8943849383034366,
          -2.2547435351481537,
          -1.1449216663423318,
          -2.227242807246423,
          1.2628128914805226,
          0.8527645572568102,
          0.7303771931357527,
          0.3425800245369808,
          1.6753026124934116,
          -1.1448752212905435,
          -0.8943851691479053,
          1.2629714558211234,
          0.7303222694420125,
          0.7302428763037194,
          1.5194880392344878,
          1.2628919065511948,
          -1.1448728746957428,
          1.7362917458797469,
          1.0122990521292268,
          1.0124208760768008,
          1.0124574818292478,
          1.704665730972414,
          -0.8943919585248445,
          1.1117814780737978,
          -1.0526677168070868,
          1.2629129211770098,
          1.0124289588226565,
          -2.1756174767799203,
          0.7303806297588535,
          -1.4269172769864067,
          1.2629183519528753,
          1.0124265896143916,
          -1.7927415363352808,
          1.0124323444918302,
          -1.1448666049102083,
          0.8612154847072917,
          -1.4269159561887754,
          0.1099510868493663,
          -1.1448756153015323,
          2.005944855949033,
          1.6753167846983372,
          1.0124498116197826,
          1.2626288151312393,
          -2.2703486480543016,
          1.6753679807843649,
          1.7047218113027867,
          1.984078370362551,
          1.6752196487213902,
          1.9993509337529747,
          -2.051712638581816,
          -1.9600090589721029,
          1.5492285595053883,
          1.2629202771107124,
          -1.1476739885096312,
          -0.8940752064473357,
          1.9067709993451856,
          1.2629198710640694,
          1.675310475553387,
          1.0124295098204568,
          1.0124204064115856,
          -0.8944178457242111,
          1.6753026124934116,
          1.2629047607548511,
          0.730387458425581,
          1.0124328662572617,
          0.8197659789440654,
          1.0124292532187125,
          1.0122479973979706,
          1.262917856898342,
          -2.1756244625046453,
          1.0123940080180938,
          0.8703619013250141,
          1.0124294100047218,
          1.0124321407042536,
          1.630873375788382,
          0.4948959285175347,
          -1.1448733315494686,
          -2.175620992306666,
          -2.413461914631434,
          1.0122990499868554,
          0.7303816975114042,
          1.2629192693222644,
          1.01243199064693,
          -0.9231836222725338,
          1.0124250605315157,
          -2.2406081086188245,
          0.8611073016168442,
          0.14221969067725262,
          -1.1448722909607112,
          1.7047249630079004,
          -0.8946595935202505,
          -1.9600071717143817,
          1.0126933736285268,
          -1.1448469126716636,
          -2.4134558959111985,
          0.861131608951419,
          -2.0580200787958565,
          1.2628970456492408,
          1.649477438200338,
          1.26294804095757,
          -1.146001393931473,
          1.6753267454672873,
          1.262901668387689,
          -0.6378446758874986,
          1.6754029973639801,
          1.2628406728330608,
          1.0124280692377978,
          1.0124235854995747,
          1.0121405966029218,
          0.5573110670910381,
          1.2629167197311044,
          -1.1448721572148846,
          0.8607030102019742,
          -1.4269164914069166,
          1.6752949413117697,
          1.0124125342565484,
          1.899767967462346,
          0.579024331884883,
          -1.1448864226538247,
          1.7363063607259304,
          -2.240552718500794,
          1.7918353810231316,
          -2.4507257426239186,
          -2.0755405132336024,
          -2.1993720016927405,
          -2.1752000643636067,
          1.5194674698145496,
          -0.894395108218274,
          1.519467968484239,
          2.0985532972053864,
          -1.144868616254986,
          1.8560337739016197,
          -1.1448919995781632,
          -0.8943885010689684,
          -0.894389495185842,
          1.0028860251594216,
          -2.17562677263701,
          1.8560373628820306,
          -2.3221817633962774,
          -1.112885145998188,
          -1.302287297308898,
          1.7923201970970044,
          -0.8946377579195152,
          2.0985757110503123,
          -1.4269140549178128,
          1.26292304641945,
          0.8611269451220538,
          0.9496258999267813,
          -1.1479277592270827,
          1.6752816600621443,
          -1.0657826895531457,
          -1.1448734884441596,
          -1.1448878233403534,
          -1.1448840760327263,
          -1.1448834843788362,
          1.012428039073539,
          1.012432372457724,
          -2.1756398078703962,
          1.2138527784479038,
          1.7468510109167392,
          1.2629150219047305,
          -1.9632337681573113,
          0.5531010591060209,
          -0.8934143356644016,
          1.0124273248791527,
          -1.604193428674721,
          0.7034093512748253,
          -1.960002649738962,
          1.0319581661869788,
          0.7304082243039678,
          1.5194289519487847,
          1.8450120733692594,
          -2.2547646412060907,
          1.012426350539296,
          1.7821403020306796,
          -1.144846831597786,
          1.6419055370025413,
          1.012436018321093,
          0.5814357443855139,
          -0.8943903760882672,
          -1.6041974439461857,
          -2.051793918586784,
          -1.6041939036673067,
          1.2628980899443292,
          1.5492189406377757,
          1.526445776644126,
          1.8560711443726614,
          -1.7928710532478136,
          1.0124315480146842,
          -2.189685895679968,
          -2.1756200416420244,
          -2.0543409415884644,
          1.3681577506442404,
          1.6308754815850517,
          -0.8945010509885617,
          -2.2406071148924607,
          1.0006000166417375,
          1.012392285276713,
          -1.1441353784505737,
          1.262929297281347,
          -1.1190345928201564,
          -0.8943888687527853,
          -1.604189646926535,
          1.6308521071687236,
          -1.6041675484396392,
          -1.1448665026053892,
          1.0124962824617836,
          1.01243149293812,
          1.1116056045240819,
          -0.8943874498379073,
          -1.4269126119110616,
          -1.2530749155877383,
          1.7362841843935342,
          -0.04572435915806339,
          0.3691108521086072,
          -2.437181272032847,
          -2.2828021145758943,
          1.0124936534305442,
          -2.1756425813833826,
          -1.142252016276006,
          -2.254707698675142,
          -1.302555656124,
          1.7046157624113236,
          2.944830941060495,
          0.9197417071173993,
          -1.1448777909703036,
          -1.1422142686386956,
          -0.8944140636649152,
          0.9042300891028333,
          2.1814899483158294,
          1.2629127862350664,
          1.4989850853134175,
          0.8610997511842382,
          1.5976982801069428,
          -2.0534737492549167,
          -2.175865573612111,
          -1.1448768952053252,
          -2.169272516728337,
          1.519461150176771,
          1.0124308664576653,
          1.012430470665754,
          -1.9599869567919415,
          0.861124041743071,
          -2.2704187720602866,
          1.9308006546351133,
          1.6752838656408202,
          1.012428007529668,
          1.6091014401032124,
          -0.8943969540421445,
          1.7822006003788171,
          1.675280219537792,
          -2.1756153888136405,
          0.7983268585990136,
          1.0117176062763165,
          -0.6378306930707014,
          -2.4134648696370626,
          1.2704251783172777,
          -2.1719707940737343,
          0.8611355297883279,
          -2.2703457984940276,
          -2.1757934179488037,
          -2.3557901043729856,
          -2.2063158982848363,
          1.015104712021158,
          0.8611131055205071,
          -2.110955484946217,
          2.000925609561586,
          -2.1756000875161607,
          1.0124187772903954,
          1.7521479709049053,
          0.1467365278737098,
          1.6306843069005161,
          0.579079627533453,
          1.5605459197218636,
          -1.2076591368972438,
          -1.9846669549607,
          -0.8943887953671585,
          0.9496435033327854,
          1.6308697301296784,
          1.7821832823125905,
          0.8562110016612073,
          0.8547047435611114,
          1.6308793593464541,
          -1.1448786843380585,
          1.012143308668312,
          -2.2410608977355557,
          -2.3718275324432483,
          -0.6583549417862683,
          -2.3543706862111886,
          1.1116039317958242,
          1.2629213316022905,
          0.861105639376377,
          1.6752414290305218,
          -1.4263674832616593,
          0.855128466165356,
          1.111582673211607,
          -0.8943899465357243,
          1.0077803550415936,
          0.5653051759421146,
          -1.2076809087837894,
          3.4364806183181473,
          -1.959875041925422,
          1.3476819327066631,
          -2.270363506484133,
          -1.4269140566184522,
          1.1041334817902655,
          1.1211272865144852,
          -2.176937200708147,
          1.7821853253550923,
          -2.3291469184152493,
          -2.329115782734712,
          0.045965573267318816,
          -2.047651191638543,
          -1.1448884361162002,
          1.012433334422899,
          -1.9600627785417206,
          1.782186070185077,
          -1.9600011301805553,
          1.6308691031414715,
          1.0077163638714908,
          -1.6624241062214293,
          1.111603941112723,
          1.0124181950292743,
          1.4989668581957234,
          1.999977300183591,
          1.2628051896625716,
          -1.4269075970672664,
          -0.30127353160677955,
          -1.4269199817453793,
          1.262923281932139,
          1.5494671889018052,
          1.0107201321866335,
          -1.173384653172284,
          1.263053017570027,
          -1.6032364275660551,
          1.012375037552064,
          -2.331140949778159,
          1.012426865651353,
          0.5790731455696623,
          1.0124365981986978,
          1.2630147122449449,
          -1.1447324895219377,
          1.0099186779300033,
          0.7402527583073065,
          1.2629012511023137,
          -1.426917404422422,
          1.012460090569173,
          -1.1430590835384549,
          1.0125384996711413,
          -1.2150392048306053,
          1.2629697084329623,
          1.0124420278275372,
          1.6752968652429805,
          -1.1448716966917625,
          -1.1448874502150495,
          0.6645037371475948,
          0.7303971603872607,
          1.5492249315361002,
          0.8637402721603694,
          1.01248335873587,
          0.5530995445290396,
          3.4963046031271015,
          -1.7929444194035637,
          1.8560307829978318,
          -2.2386591964642744,
          1.5497695026764542,
          -2.0517130887668453,
          1.5498258244115541,
          0.579338928397452,
          3.1280365594171986,
          1.6752999924091867,
          2.096153220781844,
          1.7018928908618194,
          0.5682649994192472,
          1.012366791409149,
          -2.1754841748434868,
          -1.9600081281898871,
          0.8611214676103817
         ],
         "z": [
          -0.33772464324320045,
          -0.3209702427256663,
          2.3206288187737183,
          -0.14537651975001922,
          -0.1504932262159084,
          -0.16236743269212844,
          -0.402005319650863,
          -0.15187442335741064,
          -0.1489249204499741,
          -0.1732859993688164,
          -0.33942997933130553,
          0.1756140295460289,
          -0.3195573365150233,
          -0.2645304730998401,
          -0.16352031635388387,
          -0.2534058847908552,
          -0.22800994665252922,
          -0.16313440435037607,
          -0.33738227610857463,
          -0.32992148601764654,
          -0.07931339138757015,
          2.5765735112398196,
          -0.1424446786020995,
          -0.16037352876536862,
          -0.16293703447567293,
          -0.3362134033165962,
          -0.21836285239503667,
          -0.2010067292360053,
          -0.1629866016797558,
          -0.33772055305462434,
          -0.1635024897845645,
          -0.33770474722100846,
          -0.16358947862864923,
          -0.22809977634400844,
          0.7031969828496559,
          -0.37612643546622176,
          0.19944081318397744,
          0.23466189702478563,
          0.08658028572903927,
          -0.16333436688569516,
          -0.15891382444845206,
          -0.1632732287758109,
          -0.3250408563602575,
          -0.2690334670248591,
          -0.16364679910060526,
          -0.17229591206858275,
          -0.14274593133314809,
          -0.1624350002605822,
          -0.1627138729910917,
          -0.3357720763936789,
          -0.3266974140184391,
          1.5953395411930724,
          -0.4018994686528404,
          -0.1453376874941531,
          -0.15998709463898847,
          -0.16336095698240577,
          -0.16371781800551335,
          -0.2359931643117435,
          -0.1629727759157573,
          -0.1393869311762505,
          -0.02126694786313225,
          -0.16359837414916906,
          -0.282647884987959,
          -0.28244730588270744,
          -0.2800325565520089,
          -0.0276416151873101,
          -0.1454157032330416,
          -0.15722579247254304,
          -0.2806579981666269,
          -0.35117337080790784,
          -0.33199289525383274,
          -0.33611705530816344,
          0.02227755869650906,
          -0.1635775932672893,
          -0.1616595863562954,
          -0.16306134102976982,
          -0.34668734144300917,
          -0.4022732017101539,
          -0.13249164540746802,
          -0.2316392399502017,
          -0.14487639987112355,
          -0.3186355933958948,
          -0.4021842774688132,
          -0.1451651566432775,
          -0.14514765562536067,
          -0.14574227940942105,
          -0.22827476672091773,
          -0.31281126520905705,
          -0.3363941200317995,
          -0.16329258160026972,
          -0.3056488360069277,
          -0.1904283387820049,
          -0.1603781061871931,
          -0.4021486161290799,
          -0.23211045727976523,
          -0.14494406701588175,
          -0.2804377230662414,
          -0.3287710526688533,
          3.891553916230353,
          0.4709428367734508,
          0.09244695299583451,
          -0.30502745666989983,
          -0.16215340545594345,
          -0.3187644734113826,
          -0.3755450390664584,
          -0.14665543973857412,
          -0.2824276323930523,
          -0.16086489400570864,
          -0.28073365077604345,
          -0.16372002549651524,
          -0.277048650384783,
          -0.16072929549703047,
          -0.3377066186188213,
          -0.2806856087765867,
          -0.14687223009928493,
          -0.09878894892539007,
          -0.34713428745101443,
          -0.11351842338126654,
          -0.17889208147682822,
          -0.16359243270030935,
          -0.33743941057175936,
          -0.03576256625298419,
          -0.12309778959377264,
          -0.1637289854564185,
          -0.14544362579731815,
          0.4927937577094324,
          -0.4022546346517106,
          0.02856118521695099,
          -0.22765840832380313,
          -0.14639120034221373,
          -0.1451817875236436,
          -0.466438842726093,
          -0.22794492009404527,
          -0.2966906629782222,
          -0.16184078163220242,
          -0.16102839038821515,
          -0.28081981688004154,
          -0.15156608175475453,
          -0.2802043414632631,
          0.3780903545517813,
          -0.31206514087951054,
          -0.2558634085599511,
          -0.2279805539017132,
          -0.1453388157060145,
          -0.08162010261466357,
          -0.1596635536152411,
          -0.17339997743010993,
          -0.31952809935295096,
          -0.07776873824458298,
          -0.16228396566010037,
          -0.3195922452375369,
          0.27555577601969766,
          -0.24255733697204573,
          -0.3373144154302929,
          -0.28068691297547005,
          -0.22713618336694727,
          -0.1431962059664947,
          -0.16253180305925746,
          -0.1317959791579819,
          -0.39940510500501847,
          0.8777415281829108,
          -0.3193909601935175,
          -0.031765452230378625,
          -0.32472227498494494,
          -0.16351759772573823,
          -0.2279435114730106,
          -0.4000856386392823,
          -0.3181260617971227,
          -0.31577901404327763,
          -0.3645455363019278,
          -0.4009817994207976,
          -0.1637290442883402,
          -0.34771236751686235,
          -0.3134672034607045,
          -0.3373526865979434,
          -0.335782996477368,
          -0.22439229401380612,
          -0.22809426573252972,
          -0.3345534190936042,
          -0.3771743799428285,
          -0.4017252834163644,
          -0.33655230013926746,
          0.31493334914401105,
          -0.3195729882744776,
          -0.14560037646805007,
          -0.40224373866081137,
          -0.33754307589671273,
          -0.09347430740086532,
          -0.3377008217560546,
          -0.16087887893687,
          -0.2806787527405906,
          -0.14555878067679245,
          -0.25763072121732683,
          -0.1633903800184227,
          0.012939327975233868,
          -0.323673370135471,
          -0.3373129740987267,
          -0.38831855468172727,
          -0.14729401958949057,
          -0.32299887759596546,
          -0.22583239876476036,
          -0.42519118001905687,
          -0.32274377984903213,
          -0.3033515120483191,
          -0.15130679510856174,
          -0.17330772933037938,
          3.605310922838556,
          -0.40183388208078763,
          -0.08996806993811875,
          -0.21460255708681694,
          0.8573716745987544,
          -0.4021984052740647,
          -0.3241397807105477,
          -0.3372397491425431,
          -0.337394840758922,
          -0.22590895639335404,
          -0.32472227498494494,
          -0.401770514458869,
          -0.3194349582572664,
          -0.33724054680893134,
          -0.39826851410028397,
          -0.33738875552701864,
          -0.3329473504313299,
          -0.40222753776607656,
          0.3149277982407434,
          -0.33659414382055336,
          0.36450617135408314,
          -0.33758922392907353,
          -0.33766026312177194,
          -0.34209717353569224,
          -0.3520200886288155,
          -0.16371066489735095,
          0.3150592386153089,
          -0.14693504911178304,
          -0.3338622256676639,
          -0.31954927943542194,
          -0.4021369758818915,
          -0.3374367456859816,
          0.49192824988578976,
          -0.3375643381117611,
          -0.15063074804819415,
          -0.28233308109460636,
          -0.28772751466297386,
          -0.16367877966780608,
          -0.22559892093443137,
          -0.2207802153127805,
          -0.17332021044340282,
          -0.3183081682454483,
          -0.16180128893817294,
          -0.14665184368579967,
          -0.28207308225422284,
          -0.15136643320379597,
          -0.4013979580075398,
          -0.4327643667987249,
          -0.40012966964663155,
          -0.13440895567447952,
          -0.3229587740896195,
          -0.40129531272535196,
          -0.1917603050057089,
          -0.31732655903038975,
          -0.39721102447588363,
          -0.3375073375642527,
          -0.33750644602215973,
          -0.33058226819986575,
          0.271685424657547,
          -0.40177690517731046,
          -0.16323853622279352,
          -0.26486465860237707,
          -0.11172368570890365,
          -0.32475664271957955,
          -0.3367130485565057,
          0.8853465075145325,
          -0.26321211770916847,
          -0.1630592918492024,
          -0.3464836759476308,
          -0.1504885739117065,
          0.5721802455732692,
          -0.14529623654034668,
          -0.02430001662675941,
          -0.1494430219120544,
          0.3512590878352574,
          -0.36609000057177893,
          -0.22714445415471285,
          -0.36458329642112997,
          -0.40138416243105257,
          -0.16338076975901594,
          -0.28036885761141384,
          -0.16314233433796238,
          -0.22754161214662103,
          -0.228122508252331,
          0.13016106632066193,
          0.31532519250542324,
          -0.28044011379399786,
          -0.14416659036060395,
          3.2658618768854377,
          -0.12656760071036618,
          -0.29276699116476895,
          -0.21893570322219547,
          -0.4008864757323868,
          -0.1453756796017294,
          -0.4020510236116435,
          -0.2824080621465132,
          4.111915344592912,
          -0.0888045797343248,
          -0.32462189166917066,
          1.592415223140096,
          -0.16347912085579389,
          -0.1629272335010803,
          -0.16262648026704316,
          -0.1626133429283868,
          -0.3371403555802283,
          -0.3376430948602768,
          0.31551012454083105,
          -0.39783245794419286,
          0.659779271573151,
          -0.4019913608946839,
          0.040333549661246575,
          -0.3461424866634097,
          -0.18225265194762774,
          -0.3375983587868077,
          -0.17701235638815896,
          -0.31021066370386097,
          -0.17316541594802903,
          0.43577520502757183,
          -0.3178861317391351,
          -0.3507652546965124,
          -0.4094045029152398,
          -0.14194750559103006,
          -0.3375483844234525,
          -0.39549216508206814,
          -0.1617994887387585,
          -0.35729307273595756,
          -0.33741817545431946,
          -0.09001869944234053,
          -0.223640217455614,
          -0.176856773515276,
          -0.14966081706662943,
          -0.17695763940996323,
          -0.40077651743877557,
          3.6101960850045356,
          0.19662286612684646,
          -0.2770916705666396,
          -0.10369234776563048,
          -0.33486321062964663,
          1.1581313592623521,
          0.314910389461871,
          -0.07405658082362317,
          -0.31088894159405683,
          -0.34198243226764,
          -0.22337836081739823,
          -0.139534463011268,
          0.07940154531488622,
          -0.3365508164160885,
          -0.0793784918096203,
          -0.4013616613188733,
          1.103855988340182,
          -0.22809636167726108,
          -0.1770099647157345,
          -0.34114178293304875,
          -0.17000648512900482,
          -0.16272575168352849,
          -0.3240441306588781,
          -0.33766534342359766,
          -0.3471060606397621,
          -0.22802134619890213,
          -0.1453549780621395,
          -0.20958843672298874,
          -0.3479958375473135,
          -0.2708046487494623,
          -0.30988266367661793,
          8.103571598166372,
          -0.16005638599976124,
          -0.33318506884289906,
          0.3188084235010646,
          0.03042374459641622,
          -0.14144871195025963,
          -0.17590038053270238,
          -0.21734382768301588,
          -0.11871060429338584,
          -0.6290233604790632,
          -0.16330272301044602,
          0.14556866985362374,
          -0.22212668918021608,
          -0.3836063510089829,
          -0.39895206565783076,
          -0.4020681959695345,
          -0.25308028921260206,
          -0.28156256532975354,
          -0.3319497134120323,
          -0.10238934165233182,
          0.32288518312941306,
          -0.1635411694031603,
          -0.16986484598404575,
          -0.3656864585496886,
          -0.33769285071611044,
          -0.33767444575121347,
          -0.1721507271326616,
          -0.2759108669555096,
          -0.14506305669932335,
          -0.32753198077910595,
          -0.32421396601763125,
          -0.3373892220453471,
          3.8143064766850423,
          -0.22718543962559096,
          -0.3941532745026183,
          -0.32440369886295917,
          0.3150939231075551,
          -0.29449037822368557,
          -0.28392980114606714,
          -0.19182036039819447,
          -0.1467793098620881,
          -0.147651317977186,
          -0.16037600347238978,
          -0.28210059341939214,
          -0.14737895020411396,
          0.3190487057988832,
          0.5731740698874684,
          2.1349399209401954,
          -0.139676590763605,
          -0.2823537718569018,
          -0.10388870470508091,
          -0.3690835180180387,
          0.32878015113144904,
          -0.33685995518000234,
          -0.20023989775287238,
          2.2586518623132177,
          -0.3376614682301169,
          -0.26334155393692665,
          0.9580235048014916,
          -0.17558781265525847,
          -0.14027272775928315,
          -0.22807841621138467,
          -0.34878627162484777,
          -0.3420965434184445,
          -0.3971871059376244,
          -0.16228900902752386,
          -0.36510145859527804,
          -0.34080859679708914,
          -0.16356586820563124,
          -0.330522048327938,
          -0.13940591639398422,
          -0.15359593405338529,
          -0.07785028583123989,
          3.110825927514274,
          -0.3466809165290917,
          -0.4015385346989451,
          -0.2795826769998995,
          -0.3234974555808455,
          -0.10497193150557735,
          -0.361083298416329,
          -0.3465411020806577,
          -0.22804959065664504,
          -0.19625591018484895,
          -0.5263112063860679,
          -0.17501173561792738,
          -0.3711286206165341,
          -0.06728294839656047,
          -0.19811026980989188,
          -0.14677279231155885,
          -0.14537571736346744,
          0.717436430118277,
          -0.13596804865600687,
          0.3953545922803278,
          -0.39647755859500466,
          -0.1364457629204791,
          -0.13684066549952192,
          -0.2916321846625104,
          -0.13439661763783536,
          -0.16245136044951228,
          -0.33739331125390637,
          -0.17121287195714835,
          -0.3969364133439032,
          -0.1729972585369742,
          -0.34221420777318695,
          0.5746129084686351,
          -0.1780978933213488,
          -0.3471606713890873,
          -0.33687288395756765,
          -0.24750248611710923,
          -0.3235166054372637,
          -0.399086640107798,
          -0.14464763075790324,
          -0.10683113386868417,
          -0.14350857392782904,
          -0.40176716172732885,
          3.6225066216163766,
          0.10016321782725744,
          0.5370060649170114,
          -0.3992943550522375,
          -0.1017432007233845,
          -0.33625395985975515,
          -0.08697482854312032,
          -0.3370847748503769,
          -0.26456318270248236,
          -0.33760637061057197,
          -0.39334657816473806,
          -0.14702360309257476,
          -0.2507505378967041,
          -0.09807014601928726,
          -0.3890675935280537,
          -0.14516452380461678,
          -0.33688078611814326,
          0.5563692646490215,
          -0.32990504637742096,
          -0.2005652172656121,
          -0.39831608398332324,
          -0.3353103448241892,
          -0.3249994525644715,
          -0.16364328575764342,
          -0.1615864767893178,
          -0.4207579050310219,
          -0.31806381647809906,
          3.60570513909555,
          -0.08853064845376607,
          -0.33248908450867243,
          -0.3507966916942167,
          -0.5060010118074082,
          -0.11425711981334885,
          -0.28084153682636587,
          -0.10346559971591827,
          3.615622677553127,
          -0.1513401447491594,
          3.6168732696982313,
          -0.24535050582548917,
          -0.49100744856863465,
          -0.32493499008493754,
          34.187655686078706,
          -0.282488425134649,
          2.4194850851441654,
          -0.33575722829265287,
          0.33679561285954884,
          -0.1732870618398371,
          -0.28275275233930414
         ]
        }
       ],
       "layout": {
        "coloraxis": {
         "colorbar": {
          "title": {
           "text": "class"
          }
         },
         "colorscale": [
          [
           0,
           "#0d0887"
          ],
          [
           0.1111111111111111,
           "#46039f"
          ],
          [
           0.2222222222222222,
           "#7201a8"
          ],
          [
           0.3333333333333333,
           "#9c179e"
          ],
          [
           0.4444444444444444,
           "#bd3786"
          ],
          [
           0.5555555555555556,
           "#d8576b"
          ],
          [
           0.6666666666666666,
           "#ed7953"
          ],
          [
           0.7777777777777778,
           "#fb9f3a"
          ],
          [
           0.8888888888888888,
           "#fdca26"
          ],
          [
           1,
           "#f0f921"
          ]
         ]
        },
        "legend": {
         "tracegroupgap": 0
        },
        "margin": {
         "t": 60
        },
        "scene": {
         "domain": {
          "x": [
           0,
           1
          ],
          "y": [
           0,
           1
          ]
         },
         "xaxis": {
          "title": {
           "text": "P3"
          }
         },
         "yaxis": {
          "title": {
           "text": "P2"
          }
         },
         "zaxis": {
          "title": {
           "text": "P1"
          }
         }
        },
        "template": {
         "data": {
          "bar": [
           {
            "error_x": {
             "color": "#2a3f5f"
            },
            "error_y": {
             "color": "#2a3f5f"
            },
            "marker": {
             "line": {
              "color": "#E5ECF6",
              "width": 0.5
             },
             "pattern": {
              "fillmode": "overlay",
              "size": 10,
              "solidity": 0.2
             }
            },
            "type": "bar"
           }
          ],
          "barpolar": [
           {
            "marker": {
             "line": {
              "color": "#E5ECF6",
              "width": 0.5
             },
             "pattern": {
              "fillmode": "overlay",
              "size": 10,
              "solidity": 0.2
             }
            },
            "type": "barpolar"
           }
          ],
          "carpet": [
           {
            "aaxis": {
             "endlinecolor": "#2a3f5f",
             "gridcolor": "white",
             "linecolor": "white",
             "minorgridcolor": "white",
             "startlinecolor": "#2a3f5f"
            },
            "baxis": {
             "endlinecolor": "#2a3f5f",
             "gridcolor": "white",
             "linecolor": "white",
             "minorgridcolor": "white",
             "startlinecolor": "#2a3f5f"
            },
            "type": "carpet"
           }
          ],
          "choropleth": [
           {
            "colorbar": {
             "outlinewidth": 0,
             "ticks": ""
            },
            "type": "choropleth"
           }
          ],
          "contour": [
           {
            "colorbar": {
             "outlinewidth": 0,
             "ticks": ""
            },
            "colorscale": [
             [
              0,
              "#0d0887"
             ],
             [
              0.1111111111111111,
              "#46039f"
             ],
             [
              0.2222222222222222,
              "#7201a8"
             ],
             [
              0.3333333333333333,
              "#9c179e"
             ],
             [
              0.4444444444444444,
              "#bd3786"
             ],
             [
              0.5555555555555556,
              "#d8576b"
             ],
             [
              0.6666666666666666,
              "#ed7953"
             ],
             [
              0.7777777777777778,
              "#fb9f3a"
             ],
             [
              0.8888888888888888,
              "#fdca26"
             ],
             [
              1,
              "#f0f921"
             ]
            ],
            "type": "contour"
           }
          ],
          "contourcarpet": [
           {
            "colorbar": {
             "outlinewidth": 0,
             "ticks": ""
            },
            "type": "contourcarpet"
           }
          ],
          "heatmap": [
           {
            "colorbar": {
             "outlinewidth": 0,
             "ticks": ""
            },
            "colorscale": [
             [
              0,
              "#0d0887"
             ],
             [
              0.1111111111111111,
              "#46039f"
             ],
             [
              0.2222222222222222,
              "#7201a8"
             ],
             [
              0.3333333333333333,
              "#9c179e"
             ],
             [
              0.4444444444444444,
              "#bd3786"
             ],
             [
              0.5555555555555556,
              "#d8576b"
             ],
             [
              0.6666666666666666,
              "#ed7953"
             ],
             [
              0.7777777777777778,
              "#fb9f3a"
             ],
             [
              0.8888888888888888,
              "#fdca26"
             ],
             [
              1,
              "#f0f921"
             ]
            ],
            "type": "heatmap"
           }
          ],
          "heatmapgl": [
           {
            "colorbar": {
             "outlinewidth": 0,
             "ticks": ""
            },
            "colorscale": [
             [
              0,
              "#0d0887"
             ],
             [
              0.1111111111111111,
              "#46039f"
             ],
             [
              0.2222222222222222,
              "#7201a8"
             ],
             [
              0.3333333333333333,
              "#9c179e"
             ],
             [
              0.4444444444444444,
              "#bd3786"
             ],
             [
              0.5555555555555556,
              "#d8576b"
             ],
             [
              0.6666666666666666,
              "#ed7953"
             ],
             [
              0.7777777777777778,
              "#fb9f3a"
             ],
             [
              0.8888888888888888,
              "#fdca26"
             ],
             [
              1,
              "#f0f921"
             ]
            ],
            "type": "heatmapgl"
           }
          ],
          "histogram": [
           {
            "marker": {
             "pattern": {
              "fillmode": "overlay",
              "size": 10,
              "solidity": 0.2
             }
            },
            "type": "histogram"
           }
          ],
          "histogram2d": [
           {
            "colorbar": {
             "outlinewidth": 0,
             "ticks": ""
            },
            "colorscale": [
             [
              0,
              "#0d0887"
             ],
             [
              0.1111111111111111,
              "#46039f"
             ],
             [
              0.2222222222222222,
              "#7201a8"
             ],
             [
              0.3333333333333333,
              "#9c179e"
             ],
             [
              0.4444444444444444,
              "#bd3786"
             ],
             [
              0.5555555555555556,
              "#d8576b"
             ],
             [
              0.6666666666666666,
              "#ed7953"
             ],
             [
              0.7777777777777778,
              "#fb9f3a"
             ],
             [
              0.8888888888888888,
              "#fdca26"
             ],
             [
              1,
              "#f0f921"
             ]
            ],
            "type": "histogram2d"
           }
          ],
          "histogram2dcontour": [
           {
            "colorbar": {
             "outlinewidth": 0,
             "ticks": ""
            },
            "colorscale": [
             [
              0,
              "#0d0887"
             ],
             [
              0.1111111111111111,
              "#46039f"
             ],
             [
              0.2222222222222222,
              "#7201a8"
             ],
             [
              0.3333333333333333,
              "#9c179e"
             ],
             [
              0.4444444444444444,
              "#bd3786"
             ],
             [
              0.5555555555555556,
              "#d8576b"
             ],
             [
              0.6666666666666666,
              "#ed7953"
             ],
             [
              0.7777777777777778,
              "#fb9f3a"
             ],
             [
              0.8888888888888888,
              "#fdca26"
             ],
             [
              1,
              "#f0f921"
             ]
            ],
            "type": "histogram2dcontour"
           }
          ],
          "mesh3d": [
           {
            "colorbar": {
             "outlinewidth": 0,
             "ticks": ""
            },
            "type": "mesh3d"
           }
          ],
          "parcoords": [
           {
            "line": {
             "colorbar": {
              "outlinewidth": 0,
              "ticks": ""
             }
            },
            "type": "parcoords"
           }
          ],
          "pie": [
           {
            "automargin": true,
            "type": "pie"
           }
          ],
          "scatter": [
           {
            "marker": {
             "colorbar": {
              "outlinewidth": 0,
              "ticks": ""
             }
            },
            "type": "scatter"
           }
          ],
          "scatter3d": [
           {
            "line": {
             "colorbar": {
              "outlinewidth": 0,
              "ticks": ""
             }
            },
            "marker": {
             "colorbar": {
              "outlinewidth": 0,
              "ticks": ""
             }
            },
            "type": "scatter3d"
           }
          ],
          "scattercarpet": [
           {
            "marker": {
             "colorbar": {
              "outlinewidth": 0,
              "ticks": ""
             }
            },
            "type": "scattercarpet"
           }
          ],
          "scattergeo": [
           {
            "marker": {
             "colorbar": {
              "outlinewidth": 0,
              "ticks": ""
             }
            },
            "type": "scattergeo"
           }
          ],
          "scattergl": [
           {
            "marker": {
             "colorbar": {
              "outlinewidth": 0,
              "ticks": ""
             }
            },
            "type": "scattergl"
           }
          ],
          "scattermapbox": [
           {
            "marker": {
             "colorbar": {
              "outlinewidth": 0,
              "ticks": ""
             }
            },
            "type": "scattermapbox"
           }
          ],
          "scatterpolar": [
           {
            "marker": {
             "colorbar": {
              "outlinewidth": 0,
              "ticks": ""
             }
            },
            "type": "scatterpolar"
           }
          ],
          "scatterpolargl": [
           {
            "marker": {
             "colorbar": {
              "outlinewidth": 0,
              "ticks": ""
             }
            },
            "type": "scatterpolargl"
           }
          ],
          "scatterternary": [
           {
            "marker": {
             "colorbar": {
              "outlinewidth": 0,
              "ticks": ""
             }
            },
            "type": "scatterternary"
           }
          ],
          "surface": [
           {
            "colorbar": {
             "outlinewidth": 0,
             "ticks": ""
            },
            "colorscale": [
             [
              0,
              "#0d0887"
             ],
             [
              0.1111111111111111,
              "#46039f"
             ],
             [
              0.2222222222222222,
              "#7201a8"
             ],
             [
              0.3333333333333333,
              "#9c179e"
             ],
             [
              0.4444444444444444,
              "#bd3786"
             ],
             [
              0.5555555555555556,
              "#d8576b"
             ],
             [
              0.6666666666666666,
              "#ed7953"
             ],
             [
              0.7777777777777778,
              "#fb9f3a"
             ],
             [
              0.8888888888888888,
              "#fdca26"
             ],
             [
              1,
              "#f0f921"
             ]
            ],
            "type": "surface"
           }
          ],
          "table": [
           {
            "cells": {
             "fill": {
              "color": "#EBF0F8"
             },
             "line": {
              "color": "white"
             }
            },
            "header": {
             "fill": {
              "color": "#C8D4E3"
             },
             "line": {
              "color": "white"
             }
            },
            "type": "table"
           }
          ]
         },
         "layout": {
          "annotationdefaults": {
           "arrowcolor": "#2a3f5f",
           "arrowhead": 0,
           "arrowwidth": 1
          },
          "autotypenumbers": "strict",
          "coloraxis": {
           "colorbar": {
            "outlinewidth": 0,
            "ticks": ""
           }
          },
          "colorscale": {
           "diverging": [
            [
             0,
             "#8e0152"
            ],
            [
             0.1,
             "#c51b7d"
            ],
            [
             0.2,
             "#de77ae"
            ],
            [
             0.3,
             "#f1b6da"
            ],
            [
             0.4,
             "#fde0ef"
            ],
            [
             0.5,
             "#f7f7f7"
            ],
            [
             0.6,
             "#e6f5d0"
            ],
            [
             0.7,
             "#b8e186"
            ],
            [
             0.8,
             "#7fbc41"
            ],
            [
             0.9,
             "#4d9221"
            ],
            [
             1,
             "#276419"
            ]
           ],
           "sequential": [
            [
             0,
             "#0d0887"
            ],
            [
             0.1111111111111111,
             "#46039f"
            ],
            [
             0.2222222222222222,
             "#7201a8"
            ],
            [
             0.3333333333333333,
             "#9c179e"
            ],
            [
             0.4444444444444444,
             "#bd3786"
            ],
            [
             0.5555555555555556,
             "#d8576b"
            ],
            [
             0.6666666666666666,
             "#ed7953"
            ],
            [
             0.7777777777777778,
             "#fb9f3a"
            ],
            [
             0.8888888888888888,
             "#fdca26"
            ],
            [
             1,
             "#f0f921"
            ]
           ],
           "sequentialminus": [
            [
             0,
             "#0d0887"
            ],
            [
             0.1111111111111111,
             "#46039f"
            ],
            [
             0.2222222222222222,
             "#7201a8"
            ],
            [
             0.3333333333333333,
             "#9c179e"
            ],
            [
             0.4444444444444444,
             "#bd3786"
            ],
            [
             0.5555555555555556,
             "#d8576b"
            ],
            [
             0.6666666666666666,
             "#ed7953"
            ],
            [
             0.7777777777777778,
             "#fb9f3a"
            ],
            [
             0.8888888888888888,
             "#fdca26"
            ],
            [
             1,
             "#f0f921"
            ]
           ]
          },
          "colorway": [
           "#636efa",
           "#EF553B",
           "#00cc96",
           "#ab63fa",
           "#FFA15A",
           "#19d3f3",
           "#FF6692",
           "#B6E880",
           "#FF97FF",
           "#FECB52"
          ],
          "font": {
           "color": "#2a3f5f"
          },
          "geo": {
           "bgcolor": "white",
           "lakecolor": "white",
           "landcolor": "#E5ECF6",
           "showlakes": true,
           "showland": true,
           "subunitcolor": "white"
          },
          "hoverlabel": {
           "align": "left"
          },
          "hovermode": "closest",
          "mapbox": {
           "style": "light"
          },
          "paper_bgcolor": "white",
          "plot_bgcolor": "#E5ECF6",
          "polar": {
           "angularaxis": {
            "gridcolor": "white",
            "linecolor": "white",
            "ticks": ""
           },
           "bgcolor": "#E5ECF6",
           "radialaxis": {
            "gridcolor": "white",
            "linecolor": "white",
            "ticks": ""
           }
          },
          "scene": {
           "xaxis": {
            "backgroundcolor": "#E5ECF6",
            "gridcolor": "white",
            "gridwidth": 2,
            "linecolor": "white",
            "showbackground": true,
            "ticks": "",
            "zerolinecolor": "white"
           },
           "yaxis": {
            "backgroundcolor": "#E5ECF6",
            "gridcolor": "white",
            "gridwidth": 2,
            "linecolor": "white",
            "showbackground": true,
            "ticks": "",
            "zerolinecolor": "white"
           },
           "zaxis": {
            "backgroundcolor": "#E5ECF6",
            "gridcolor": "white",
            "gridwidth": 2,
            "linecolor": "white",
            "showbackground": true,
            "ticks": "",
            "zerolinecolor": "white"
           }
          },
          "shapedefaults": {
           "line": {
            "color": "#2a3f5f"
           }
          },
          "ternary": {
           "aaxis": {
            "gridcolor": "white",
            "linecolor": "white",
            "ticks": ""
           },
           "baxis": {
            "gridcolor": "white",
            "linecolor": "white",
            "ticks": ""
           },
           "bgcolor": "#E5ECF6",
           "caxis": {
            "gridcolor": "white",
            "linecolor": "white",
            "ticks": ""
           }
          },
          "title": {
           "x": 0.05
          },
          "xaxis": {
           "automargin": true,
           "gridcolor": "white",
           "linecolor": "white",
           "ticks": "",
           "title": {
            "standoff": 15
           },
           "zerolinecolor": "white",
           "zerolinewidth": 2
          },
          "yaxis": {
           "automargin": true,
           "gridcolor": "white",
           "linecolor": "white",
           "ticks": "",
           "title": {
            "standoff": 15
           },
           "zerolinecolor": "white",
           "zerolinewidth": 2
          }
         }
        },
        "width": 800
       }
      },
      "text/html": [
       "<div>                            <div id=\"5129522f-9245-4d7d-8c43-9831d74e5066\" class=\"plotly-graph-div\" style=\"height:525px; width:800px;\"></div>            <script type=\"text/javascript\">                require([\"plotly\"], function(Plotly) {                    window.PLOTLYENV=window.PLOTLYENV || {};                                    if (document.getElementById(\"5129522f-9245-4d7d-8c43-9831d74e5066\")) {                    Plotly.newPlot(                        \"5129522f-9245-4d7d-8c43-9831d74e5066\",                        [{\"customdata\":[[\"Scrypt\"],[\"Scrypt\"],[\"X13\"],[\"SHA-256\"],[\"Ethash\"],[\"Scrypt\"],[\"X11\"],[\"CryptoNight-V7\"],[\"Ethash\"],[\"Equihash\"],[\"SHA-512\"],[\"Multiple\"],[\"SHA-256\"],[\"SHA-256\"],[\"Scrypt\"],[\"X15\"],[\"X11\"],[\"Scrypt\"],[\"Scrypt\"],[\"Scrypt\"],[\"Multiple\"],[\"Scrypt\"],[\"SHA-256\"],[\"Scrypt\"],[\"Scrypt\"],[\"Scrypt\"],[\"Quark\"],[\"Groestl\"],[\"Scrypt\"],[\"Scrypt\"],[\"Scrypt\"],[\"Scrypt\"],[\"Scrypt\"],[\"X11\"],[\"Scrypt\"],[\"Groestl\"],[\"Multiple\"],[\"SHA-256\"],[\"Scrypt\"],[\"Scrypt\"],[\"Scrypt\"],[\"Scrypt\"],[\"PoS\"],[\"Scrypt\"],[\"Scrypt\"],[\"NeoScrypt\"],[\"Scrypt\"],[\"Scrypt\"],[\"Scrypt\"],[\"Scrypt\"],[\"X11\"],[\"Scrypt\"],[\"X11\"],[\"SHA-256\"],[\"Scrypt\"],[\"Scrypt\"],[\"Scrypt\"],[\"SHA3\"],[\"Scrypt\"],[\"HybridScryptHash256\"],[\"Scrypt\"],[\"Scrypt\"],[\"SHA-256\"],[\"Scrypt\"],[\"X13\"],[\"Scrypt\"],[\"SHA-256\"],[\"Scrypt\"],[\"X13\"],[\"NeoScrypt\"],[\"Scrypt\"],[\"Scrypt\"],[\"Scrypt\"],[\"Scrypt\"],[\"Scrypt\"],[\"Scrypt\"],[\"X11\"],[\"X11\"],[\"SHA-256\"],[\"Multiple\"],[\"SHA-256\"],[\"PHI1612\"],[\"X11\"],[\"SHA-256\"],[\"SHA-256\"],[\"SHA-256\"],[\"X11\"],[\"Scrypt\"],[\"Scrypt\"],[\"Scrypt\"],[\"Scrypt\"],[\"Lyra2REv2\"],[\"Scrypt\"],[\"X11\"],[\"Multiple\"],[\"SHA-256\"],[\"X13\"],[\"Scrypt\"],[\"CryptoNight\"],[\"CryptoNight\"],[\"Shabal256\"],[\"Counterparty\"],[\"Scrypt\"],[\"SHA-256\"],[\"Groestl\"],[\"Scrypt\"],[\"Scrypt\"],[\"Scrypt\"],[\"X13\"],[\"Scrypt\"],[\"Scrypt\"],[\"Scrypt\"],[\"Scrypt\"],[\"X13\"],[\"Scrypt\"],[\"Stanford Folding\"],[\"X11\"],[\"Multiple\"],[\"QuBit\"],[\"Scrypt\"],[\"Scrypt\"],[\"Scrypt\"],[\"M7 POW\"],[\"Scrypt\"],[\"SHA-256\"],[\"Scrypt\"],[\"X11\"],[\"SHA3\"],[\"X11\"],[\"Lyra2RE\"],[\"SHA-256\"],[\"QUAIT\"],[\"X11\"],[\"X11\"],[\"Scrypt\"],[\"Scrypt\"],[\"Scrypt\"],[\"Ethash\"],[\"X13\"],[\"Blake2b\"],[\"SHA-256\"],[\"X15\"],[\"X11\"],[\"SHA-256\"],[\"BLAKE256\"],[\"Scrypt\"],[\"1GB AES Pattern Search\"],[\"SHA-256\"],[\"X11\"],[\"Scrypt\"],[\"SHA-256\"],[\"SHA-256\"],[\"NIST5\"],[\"Scrypt\"],[\"Scrypt\"],[\"X11\"],[\"Dagger\"],[\"Scrypt\"],[\"X11GOST\"],[\"X11\"],[\"Scrypt\"],[\"SHA-256\"],[\"Scrypt\"],[\"PoS\"],[\"Scrypt\"],[\"X11\"],[\"X11\"],[\"SHA-256\"],[\"SHA-256\"],[\"NIST5\"],[\"X11\"],[\"Scrypt\"],[\"POS 3.0\"],[\"Scrypt\"],[\"Scrypt\"],[\"Scrypt\"],[\"X13\"],[\"X11\"],[\"X11\"],[\"Equihash\"],[\"X11\"],[\"Scrypt\"],[\"CryptoNight\"],[\"SHA-256\"],[\"SHA-256\"],[\"X11\"],[\"Scrypt\"],[\"Multiple\"],[\"Scrypt\"],[\"Scrypt\"],[\"Scrypt\"],[\"SHA-256\"],[\"Scrypt\"],[\"Scrypt\"],[\"SHA-256D\"],[\"PoS\"],[\"Scrypt\"],[\"X11\"],[\"Lyra2Z\"],[\"PoS\"],[\"X13\"],[\"X14\"],[\"PoS\"],[\"SHA-256D\"],[\"Ethash\"],[\"Equihash\"],[\"DPoS\"],[\"X11\"],[\"Scrypt\"],[\"X11\"],[\"X13\"],[\"X11\"],[\"PoS\"],[\"Scrypt\"],[\"Scrypt\"],[\"X11\"],[\"PoS\"],[\"X11\"],[\"SHA-256\"],[\"Scrypt\"],[\"X11\"],[\"Scrypt\"],[\"Scrypt\"],[\"X11\"],[\"CryptoNight\"],[\"Scrypt\"],[\"Scrypt\"],[\"Scrypt\"],[\"Scrypt\"],[\"Quark\"],[\"QuBit\"],[\"Scrypt\"],[\"CryptoNight\"],[\"Lyra2RE\"],[\"Scrypt\"],[\"SHA-256\"],[\"X11\"],[\"Scrypt\"],[\"X11\"],[\"Scrypt\"],[\"CryptoNight-V7\"],[\"Scrypt\"],[\"Scrypt\"],[\"Scrypt\"],[\"X13\"],[\"X11\"],[\"Equihash\"],[\"Scrypt\"],[\"Scrypt\"],[\"Lyra2RE\"],[\"Scrypt\"],[\"Dagger-Hashimoto\"],[\"X11\"],[\"Blake2S\"],[\"X11\"],[\"Scrypt\"],[\"PoS\"],[\"X11\"],[\"NIST5\"],[\"PoS\"],[\"X11\"],[\"Scrypt\"],[\"Scrypt\"],[\"Scrypt\"],[\"SHA-256\"],[\"X11\"],[\"Scrypt\"],[\"Scrypt\"],[\"SHA-256\"],[\"PoS\"],[\"Scrypt\"],[\"X15\"],[\"SHA-256\"],[\"Scrypt\"],[\"POS 3.0\"],[\"CryptoNight-V7\"],[\"536\"],[\"Argon2d\"],[\"Blake2b\"],[\"Cloverhash\"],[\"CryptoNight\"],[\"NIST5\"],[\"X11\"],[\"NIST5\"],[\"Skein\"],[\"Scrypt\"],[\"X13\"],[\"Scrypt\"],[\"X11\"],[\"X11\"],[\"Scrypt\"],[\"CryptoNight\"],[\"X13\"],[\"Time Travel\"],[\"Scrypt\"],[\"Keccak\"],[\"SkunkHash v2 Raptor\"],[\"X11\"],[\"Skein\"],[\"SHA-256\"],[\"X11\"],[\"Scrypt\"],[\"VeChainThor Authority\"],[\"Scrypt\"],[\"PoS\"],[\"Scrypt\"],[\"Scrypt\"],[\"Scrypt\"],[\"Scrypt\"],[\"Scrypt\"],[\"Scrypt\"],[\"Scrypt\"],[\"CryptoNight\"],[\"SHA-512\"],[\"Ouroboros\"],[\"X11\"],[\"Equihash\"],[\"NeoScrypt\"],[\"X11\"],[\"Scrypt\"],[\"NeoScrypt\"],[\"Lyra2REv2\"],[\"Equihash\"],[\"Scrypt\"],[\"SHA-256\"],[\"NIST5\"],[\"PHI1612\"],[\"Dagger\"],[\"Scrypt\"],[\"Quark\"],[\"Scrypt\"],[\"POS 2.0\"],[\"Scrypt\"],[\"SHA-256\"],[\"X11\"],[\"NeoScrypt\"],[\"Ethash\"],[\"NeoScrypt\"],[\"X11\"],[\"DPoS\"],[\"NIST5\"],[\"X13\"],[\"Multiple\"],[\"Scrypt\"],[\"CryptoNight\"],[\"CryptoNight\"],[\"Ethash\"],[\"NIST5\"],[\"Quark\"],[\"X11\"],[\"CryptoNight-V7\"],[\"Scrypt\"],[\"Scrypt\"],[\"Scrypt\"],[\"X11\"],[\"BLAKE256\"],[\"X11\"],[\"NeoScrypt\"],[\"Quark\"],[\"NeoScrypt\"],[\"Scrypt\"],[\"Scrypt\"],[\"Scrypt\"],[\"X11\"],[\"X11\"],[\"SHA-256\"],[\"C11\"],[\"POS 3.0\"],[\"Ethash\"],[\"Scrypt\"],[\"CryptoNight\"],[\"SkunkHash\"],[\"Scrypt\"],[\"CryptoNight\"],[\"Scrypt\"],[\"Dagger\"],[\"Lyra2REv2\"],[\"X13\"],[\"Proof-of-BibleHash\"],[\"SHA-256 + Hive\"],[\"Scrypt\"],[\"Scrypt\"],[\"X11\"],[\"C11\"],[\"Proof-of-Authority\"],[\"X11\"],[\"XEVAN\"],[\"Scrypt\"],[\"VBFT\"],[\"Ethash\"],[\"CryptoNight\"],[\"Scrypt\"],[\"IMesh\"],[\"NIST5\"],[\"Scrypt\"],[\"Scrypt\"],[\"Equihash\"],[\"Scrypt\"],[\"Lyra2Z\"],[\"Green Protocol\"],[\"PoS\"],[\"Scrypt\"],[\"Semux BFT consensus\"],[\"X11\"],[\"Quark\"],[\"PoS\"],[\"CryptoNight\"],[\"X16R\"],[\"Scrypt\"],[\"NIST5\"],[\"Lyra2RE\"],[\"XEVAN\"],[\"Tribus\"],[\"Scrypt\"],[\"Lyra2Z\"],[\"CryptoNight\"],[\"CryptoNight Heavy\"],[\"CryptoNight\"],[\"Scrypt\"],[\"Scrypt\"],[\"Jump Consistent Hash\"],[\"SHA-256D\"],[\"CryptoNight\"],[\"Scrypt\"],[\"X15\"],[\"Scrypt\"],[\"Quark\"],[\"SHA-256\"],[\"DPoS\"],[\"X16R\"],[\"HMQ1725\"],[\"X11\"],[\"X16R\"],[\"Quark\"],[\"Quark\"],[\"Scrypt\"],[\"Lyra2REv2\"],[\"Quark\"],[\"Scrypt\"],[\"Scrypt\"],[\"CryptoNight-V7\"],[\"Cryptonight-GPU\"],[\"XEVAN\"],[\"CryptoNight Heavy\"],[\"X11\"],[\"X11\"],[\"Scrypt\"],[\"PoS\"],[\"SHA-256\"],[\"Keccak\"],[\"X11\"],[\"X11\"],[\"Scrypt\"],[\"SHA-512\"],[\"X16R\"],[\"ECC 256K1\"],[\"Equihash\"],[\"XEVAN\"],[\"Lyra2Z\"],[\"SHA-256\"],[\"XEVAN\"],[\"X11\"],[\"CryptoNight\"],[\"Quark\"],[\"Blake\"],[\"Blake\"],[\"Equihash\"],[\"Exosis\"],[\"Scrypt\"],[\"Scrypt\"],[\"Equihash\"],[\"Quark\"],[\"Equihash\"],[\"Quark\"],[\"Scrypt\"],[\"QuBit\"],[\"X11\"],[\"Scrypt\"],[\"XEVAN\"],[\"SHA-256D\"],[\"X11\"],[\"SHA-256\"],[\"X13\"],[\"SHA-256\"],[\"X11\"],[\"DPoS\"],[\"Scrypt\"],[\"Scrypt\"],[\"X11\"],[\"NeoScrypt\"],[\"Scrypt\"],[\"Blake\"],[\"Scrypt\"],[\"SHA-256\"],[\"Scrypt\"],[\"X11\"],[\"Scrypt\"],[\"Scrypt\"],[\"SHA-256\"],[\"X11\"],[\"SHA-256\"],[\"Scrypt\"],[\"Scrypt\"],[\"Scrypt\"],[\"Groestl\"],[\"X11\"],[\"Scrypt\"],[\"PoS\"],[\"Scrypt\"],[\"Scrypt\"],[\"X11\"],[\"SHA-256\"],[\"DPoS\"],[\"Scrypt\"],[\"Scrypt\"],[\"NeoScrypt\"],[\"SHA3-256\"],[\"Multiple\"],[\"X13\"],[\"Equihash+Scrypt\"],[\"DPoS\"],[\"Ethash\"],[\"DPoS\"],[\"SHA-256\"],[\"Leased POS\"],[\"PoS\"],[\"TRC10\"],[\"PoS\"],[\"SHA-256\"],[\"Scrypt\"],[\"CryptoNight\"],[\"Equihash\"],[\"Scrypt\"]],\"hovertemplate\":\"<b>%{hovertext}</b><br><br>P3=%{x}<br>P2=%{y}<br>P1=%{z}<br>Algorithm=%{customdata[0]}<br>class=%{marker.color}<extra></extra>\",\"hovertext\":[\"42 Coin\",\"404Coin\",\"EliteCoin\",\"Bitcoin\",\"Ethereum\",\"Litecoin\",\"Dash\",\"Monero\",\"Ethereum Classic\",\"ZCash\",\"Bitshares\",\"DigiByte\",\"BitcoinDark\",\"PayCoin\",\"ProsperCoin\",\"KoboCoin\",\"Spreadcoin\",\"Argentum\",\"Aurora Coin\",\"BlueCoin\",\"MyriadCoin\",\"MoonCoin\",\"ZetaCoin\",\"SexCoin\",\"Quatloo\",\"EnergyCoin\",\"QuarkCoin\",\"Riecoin\",\"Digitalcoin \",\"BitBar\",\"Catcoin\",\"CryptoBullion\",\"CannaCoin\",\"CryptCoin\",\"CasinoCoin\",\"Diamond\",\"Verge\",\"DevCoin\",\"EarthCoin\",\"E-Gulden\",\"Einsteinium\",\"Emerald\",\"Exclusive Coin\",\"FlutterCoin\",\"Franko\",\"FeatherCoin\",\"GrandCoin\",\"GlobalCoin\",\"GoldCoin\",\"HoboNickels\",\"HyperStake\",\"Infinite Coin\",\"IOCoin\",\"IXcoin\",\"KrugerCoin\",\"LuckyCoin\",\"Litebar \",\"MaxCoin\",\"MegaCoin\",\"MediterraneanCoin\",\"MintCoin\",\"MinCoin\",\"MazaCoin\",\"Nautilus Coin\",\"NavCoin\",\"NobleCoin\",\"Namecoin\",\"NyanCoin\",\"OpalCoin\",\"Orbitcoin\",\"PotCoin\",\"PhoenixCoin\",\"Reddcoin\",\"RonPaulCoin\",\"StableCoin\",\"SmartCoin\",\"SuperCoin\",\"SyncCoin\",\"SysCoin\",\"TeslaCoin\",\"TigerCoin\",\"TittieCoin\",\"TorCoin\",\"TerraCoin\",\"UnbreakableCoin\",\"Unobtanium\",\"UroCoin\",\"UnitaryStatus Dollar\",\"UltraCoin\",\"ViaCoin\",\"VeriCoin\",\"Vertcoin\",\"WorldCoin\",\"X11 Coin\",\"Crypti\",\"JouleCoin\",\"StealthCoin\",\"ZCC Coin\",\"ByteCoin\",\"DigitalNote \",\"BurstCoin\",\"StorjCoin\",\"MonaCoin\",\"Neutron\",\"FairCoin\",\"Gulden\",\"RubyCoin\",\"PesetaCoin\",\"Kore\",\"Wild Beast Coin\",\"Dnotes\",\"Flo\",\"8BIT Coin\",\"Sativa Coin\",\"ArtByte\",\"Folding Coin\",\"Ucoin\",\"Unitus\",\"CypherPunkCoin\",\"OmniCron\",\"Vtorrent\",\"GreenCoin\",\"Cryptonite\",\"MasterCoin\",\"SoonCoin\",\"1Credit\",\"IslaCoin\",\"Nexus\",\"MarsCoin \",\"Crypto\",\"Anarchists Prime\",\"Droidz\",\"BowsCoin\",\"Squall Coin\",\"Song Coin\",\"BitZeny\",\"Diggits\",\"Expanse\",\"Paycon\",\"Siacoin\",\"Emercoin\",\"EverGreenCoin\",\"MindCoin\",\"I0coin\",\"Decred\",\"Revolution VR\",\"HOdlcoin\",\"EDRCoin\",\"Hitcoin\",\"Gamecredits\",\"DubaiCoin\",\"CarpeDiemCoin\",\"PWR Coin\",\"BillaryCoin\",\"GPU Coin\",\"Adzcoin\",\"SoilCoin\",\"YoCoin\",\"SibCoin\",\"EuropeCoin\",\"ZeitCoin\",\"SwingCoin\",\"SafeExchangeCoin\",\"Nebuchadnezzar\",\"Francs\",\"BolivarCoin\",\"Ratecoin\",\"Revenu\",\"Clockcoin\",\"VIP Tokens\",\"BitSend\",\"Omni\",\"Let it Ride\",\"PutinCoin\",\"iBankCoin\",\"Frankywillcoin\",\"MudraCoin\",\"PizzaCoin\",\"Lutetium Coin\",\"Komodo\",\"GoldBlocks\",\"CarterCoin\",\"Karbo\",\"BitTokens\",\"ZayedCoin\",\"MustangCoin\",\"ZoneCoin\",\"Circuits of Value\",\"RootCoin\",\"DopeCoin\",\"BitCurrency\",\"DollarCoin\",\"Swiscoin\",\"Shilling\",\"BuzzCoin\",\"Opair\",\"PesoBit\",\"Halloween Coin\",\"ZCoin\",\"CoffeeCoin\",\"RoyalCoin\",\"GanjaCoin V2\",\"TeamUP\",\"LanaCoin\",\"Elementrem\",\"ZClassic\",\"ARK\",\"InsaneCoin\",\"KiloCoin\",\"ArtexCoin\",\"EmberCoin\",\"XenixCoin\",\"FreeCoin\",\"PLNCoin\",\"AquariusCoin\",\"Kurrent\",\"Creatio\",\"Eternity\",\"Eurocoin\",\"BitcoinFast\",\"Stakenet\",\"BitConnect Coin\",\"MoneyCoin\",\"Enigma\",\"Cannabis Industry Coin\",\"Russiacoin\",\"PandaCoin\",\"GameUnits\",\"GAKHcoin\",\"Allsafe\",\"LiteCreed\",\"OsmiumCoin\",\"Bikercoins\",\"HexxCoin\",\"Klingon Empire Darsek\",\"Internet of People\",\"KushCoin\",\"Printerium\",\"PacCoin\",\"Impeach\",\"Citadel\",\"Zilbercoin\",\"FirstCoin\",\"BeaverCoin\",\"FindCoin\",\"VaultCoin\",\"Zero\",\"OpenChat\",\"Canada eCoin\",\"Zoin\",\"RenosCoin\",\"DubaiCoin\",\"VirtacoinPlus\",\"TajCoin\",\"Impact\",\"EB3coin\",\"Atmos\",\"HappyCoin\",\"Coinonat\",\"MacronCoin\",\"Condensate\",\"Independent Money System\",\"ArgusCoin\",\"LomoCoin\",\"ProCurrency\",\"GoldReserve\",\"BenjiRolls\",\"GrowthCoin\",\"ILCoin\",\"Phreak\",\"Degas Coin\",\"HTML5 Coin\",\"Ultimate Secure Cash\",\"EquiTrader\",\"QTUM\",\"Quantum Resistant Ledger\",\"Espers\",\"Dynamic\",\"Nano\",\"ChanCoin\",\"Dinastycoin\",\"Denarius\",\"DigitalPrice\",\"Virta Unique Coin\",\"Bitcoin Planet\",\"Unify\",\"BritCoin\",\"SocialCoin\",\"ArcticCoin\",\"DAS\",\"Linda\",\"LeviarCoin\",\"DeepOnion\",\"Bitcore\",\"gCn Coin\",\"SmartCash\",\"Signatum\",\"Onix\",\"Cream\",\"Bitcoin Cash\",\"Monoeci\",\"Draftcoin\",\"Vechain\",\"Sojourn Coin\",\"Stakecoin\",\"NewYorkCoin\",\"FrazCoin\",\"Kronecoin\",\"AdCoin\",\"Linx\",\"CoinonatX\",\"Ethereum Dark\",\"Sumokoin\",\"Obsidian\",\"Cardano\",\"Regalcoin\",\"BitcoinZ\",\"TrezarCoin\",\"Elements\",\"TerraNovaCoin\",\"VIVO Coin\",\"Rupee\",\"Bitcoin Gold\",\"WomenCoin\",\"Theresa May Coin\",\"NamoCoin\",\"LUXCoin\",\"Pirl\",\"Xios\",\"Bitcloud 2.0\",\"eBoost\",\"KekCoin\",\"BlackholeCoin\",\"Infinity Economics\",\"Pura\",\"Innova\",\"Ellaism\",\"GoByte\",\"Magnet\",\"Lamden Tau\",\"Electra\",\"Bitcoin Diamond\",\"SHIELD\",\"Cash & Back Coin\",\"UltraNote\",\"BitCoal\",\"DaxxCoin\",\"Bulwark\",\"Kalkulus\",\"AC3\",\"Lethean\",\"GermanCoin\",\"LiteCoin Ultra\",\"PopularCoin\",\"PhantomX\",\"Photon\",\"Sucre\",\"SparksPay\",\"Digiwage\",\"GunCoin\",\"IrishCoin\",\"Trollcoin\",\"Litecoin Plus\",\"Monkey Project\",\"Pioneer Coin\",\"UnitedBitcoin\",\"Interzone\",\"TokenPay\",\"1717 Masonic Commemorative Token\",\"My Big Coin\",\"TurtleCoin\",\"MUNcoin\",\"Unified Society USDEX\",\"Niobio Cash\",\"ShareChain\",\"Travelflex\",\"KREDS\",\"Tokyo Coin\",\"BiblePay\",\"LitecoinCash\",\"BitFlip\",\"LottoCoin\",\"Crypto Improvement Fund\",\"Stipend\",\"Poa Network\",\"Pushi\",\"Ellerium\",\"Velox\",\"Ontology\",\"Callisto Network\",\"BitTube\",\"Poseidon\",\"Aidos Kuneen\",\"Bitspace\",\"Briacoin\",\"Ignition\",\"Bitrolium\",\"MedicCoin\",\"Alpenschillling\",\"Bitcoin Green\",\"Deviant Coin\",\"Abjcoin\",\"Semux\",\"FuturoCoin\",\"Carebit\",\"Zealium\",\"Monero Classic\",\"Proton\",\"iDealCash\",\"Jumpcoin\",\"Infinex\",\"Bitcoin Incognito\",\"KEYCO\",\"HollyWoodCoin\",\"GINcoin\",\"PlatinCoin\",\"Loki\",\"Newton Coin\",\"Swisscoin\",\"Xt3ch\",\"MassGrid\",\"TheVig\",\"PluraCoin\",\"EmaratCoin\",\"Dekado\",\"Lynx\",\"Poseidon Quark\",\"BitcoinWSpectrum\",\"Muse\",\"Motion\",\"PlusOneCoin\",\"Axe\",\"Trivechain\",\"Dystem\",\"Giant\",\"Peony Coin\",\"Absolute Coin\",\"Vitae\",\"HexCoin\",\"TPCash\",\"Webchain\",\"Ryo\",\"Urals Coin\",\"Qwertycoin\",\"ARENON\",\"EUNO\",\"MMOCoin\",\"Ketan\",\"Project Pai\",\"XDNA\",\"PAXEX\",\"Azart\",\"ThunderStake\",\"Kcash\",\"Xchange\",\"Acute Angle Cloud\",\"CrypticCoin\",\"Bettex coin\",\"Actinium\",\"Bitcoin SV\",\"BitMoney\",\"Junson Ming Chan Coin\",\"FREDEnergy\",\"HerbCoin\",\"Universal Molecule\",\"Lithium\",\"PirateCash\",\"Exosis\",\"Block-Logic\",\"Oduwa\",\"Beam\",\"Galilel\",\"Bithereum\",\"Crypto Sports\",\"Credit\",\"SLICE\",\"Dash Platinum\",\"Nasdacoin\",\"Beetle Coin\",\"Titan Coin\",\"Award\",\"BLAST\",\"Bitcoin Rhodium\",\"GlobalToken\",\"Insane Coin\",\"ALAX\",\"LiteDoge\",\"SolarCoin\",\"TruckCoin\",\"UFO Coin\",\"OrangeCoin\",\"BlakeCoin\",\"BitstarCoin\",\"NeosCoin\",\"HyperCoin\",\"PinkCoin\",\"Crypto Escudo\",\"AudioCoin\",\"IncaKoin\",\"Piggy Coin\",\"Crown Coin\",\"Genstake\",\"SmileyCoin\",\"XiaoMiCoin\",\"Groestlcoin\",\"CapriCoin\",\" ClubCoin\",\"Radium\",\"Bata\",\"Pakcoin\",\"Creditbit \",\"OKCash\",\"Lisk\",\"HiCoin\",\"WhiteCoin\",\"FriendshipCoin\",\"Fiii\",\"JoinCoin\",\"Triangles Coin\",\"Vollar\",\"EOS\",\"Reality Clash\",\"Oxycoin\",\"TigerCash\",\"Waves\",\"Particl\",\"BitTorrent\",\"Nxt\",\"ZEPHYR\",\"Gapcoin\",\"Beldex\",\"Horizen\",\"BitcoinPlus\"],\"legendgroup\":\"\",\"marker\":{\"color\":[0,0,0,1,1,1,0,1,1,1,0,1,0,0,1,0,1,1,0,0,1,1,1,1,1,0,1,1,1,0,1,0,1,1,0,0,1,1,1,1,1,1,0,0,1,1,1,1,1,0,0,1,0,1,1,1,1,0,1,1,0,1,0,0,0,1,1,1,0,0,0,0,0,1,1,1,0,0,1,0,1,0,0,1,1,1,1,0,0,1,0,1,1,0,0,1,0,0,1,1,0,0,1,0,0,1,0,1,0,1,0,1,0,0,1,1,0,1,1,1,0,1,1,1,1,1,0,0,1,1,1,0,1,0,1,1,0,1,0,1,0,0,1,1,0,1,1,0,0,1,0,1,0,0,0,1,1,1,1,0,0,0,0,0,1,1,0,0,0,0,0,1,0,0,0,0,0,1,0,1,0,0,1,0,1,0,0,1,0,1,0,1,0,1,0,0,0,0,1,0,0,0,0,0,1,1,0,0,1,1,0,0,0,0,0,1,0,0,0,0,0,0,0,0,1,0,0,0,0,0,0,1,1,1,0,0,0,0,1,0,1,0,0,1,0,1,1,0,1,1,0,1,0,0,0,1,0,0,1,0,0,0,0,0,0,0,1,0,1,0,0,0,0,1,0,1,0,1,1,1,1,0,1,0,0,1,0,1,1,1,0,1,0,1,1,1,0,1,0,1,0,0,0,1,0,1,1,1,1,1,0,0,1,0,0,0,1,0,1,0,1,0,1,0,0,0,0,1,0,0,1,0,0,0,1,1,1,1,0,0,0,0,1,0,1,1,1,0,0,1,1,0,0,1,0,1,1,1,0,1,1,0,0,0,1,1,1,0,0,0,1,1,0,1,1,1,1,0,3,3,1,1,1,0,3,0,0,0,0,1,1,1,1,0,0,0,1,0,1,0,0,0,0,1,0,0,1,0,0,1,1,0,1,0,1,1,1,1,0,0,1,0,1,0,0,0,0,0,0,1,1,1,0,0,0,0,0,0,1,0,1,1,1,1,0,0,0,0,1,0,0,1,0,0,1,3,1,0,1,1,0,0,1,0,1,1,0,1,1,0,1,0,1,0,0,1,0,0,0,0,0,1,1,1,0,0,0,1,0,1,0,1,0,0,0,0,1,0,0,0,1,0,1,0,1,0,0,0,1,1,0,0,0,0,0,0,3,1,0,1,0,1,0,0,3,0,2,0,0,0,1,1,0],\"coloraxis\":\"coloraxis\",\"symbol\":\"circle\"},\"mode\":\"markers\",\"name\":\"\",\"scene\":\"scene\",\"showlegend\":false,\"x\":[-0.5602131377715266,-0.5603563971823676,-0.6146694263612754,0.12991802802612426,0.3594291510829246,-0.006955211343689607,-0.5200974668767256,0.39195661454296415,0.35943546889884703,0.4276178899889022,-0.13317281375804702,0.36455797181090055,-0.4233440899465351,-0.09852688928592036,-0.006948603614994373,-0.6049067355851704,0.03316683871019568,-0.0069481172043767735,-0.5602153389767737,-0.5603103704901536,0.365394830043411,0.006192185489357376,0.129899818369985,-0.006959615056744152,-0.0069461434285069176,-0.5602319688670452,0.039673711644617096,0.07582384194054607,-0.0069519087703918065,-0.5602131271718633,-0.006948825746326145,-0.5602132625520418,-0.0069487097077462635,0.033167711764441415,-0.2848007890365389,-0.4774365045944578,0.36371370397361685,0.12776590019693096,-0.008405187704842996,-0.006950920673440798,-0.00697167239569638,-0.006950327925706674,-0.08609595790436152,-0.3003375780612615,-0.0069482299420863805,0.17261708263626968,-0.007035114927669273,-0.006956093404309561,-0.006952341916249614,-0.5602226909696455,-0.19553452125560133,-0.017711058062716434,-0.5200987858530663,0.1299175441494667,-0.006962531331776421,-0.0069507124853119195,-0.006948562364212987,-0.624785748841509,-0.0069528403473782105,0.4269546097004064,-0.2386523754865549,-0.00694898553179506,-0.42350880923731093,-0.23539589588709875,-0.6209498429204156,-0.0067971899636974946,0.12991851627930645,-0.006988124596211467,-0.6209420494871236,-0.38062754681454775,-0.560232839332502,-0.5602211014361504,-0.5646990131646745,-0.006947889905203912,-0.006943589893387859,-0.0069506038513884785,-0.1952854329918121,-0.5200968379000049,0.12986423841644748,0.1371303328052299,0.12991499937428969,-0.23801433207757136,-0.5200967146525395,0.12991798029482804,0.12992244164611857,0.12992003043049705,0.03316767569483872,-0.5603265471617878,-0.5602174027332852,-0.006951195061296444,-0.47964652410759495,0.15103304419916233,-0.006957659058576399,-0.5200977131599502,0.13712389021868743,0.12991559479416584,-0.6209447942665892,-0.5602015628918421,0.4219365058049645,0.44307526835260685,-0.18511430978651267,-0.14874194688060585,-0.006955277494732026,-0.4233483049985422,-0.477444288559457,-0.0069544577043778606,-0.2353981334826753,-0.00696378876868105,-0.6209396290900228,-0.006948377480868894,-0.23540358790817675,-0.006966264809350866,-0.5602133623759263,-0.6209404740120053,-0.007035493444504402,0.26946958244816244,-0.19527740088091397,0.3655747627203974,0.18341946082137728,-0.006949875838396984,-0.5602142291164286,-0.0073117112711054534,0.3283859017021635,-0.006948513168600569,0.12991886421368906,-0.0038001783149139326,-0.5200970693814841,-0.4301893834550416,0.033164059156769995,0.27242482092050363,0.1299196356862647,-0.643206244331113,0.033166151577279986,-0.0960513729478334,-0.006946228232790241,-0.006951455029886914,-0.23540585369233166,0.3594446015027632,-0.6209415452225941,0.3790438954375555,-0.423317014215594,-0.6049159747138593,0.03316597988511553,0.1299175582077633,-0.5397999528719394,-0.006973387547718513,0.38834713228376144,-0.42334445426171136,-0.520870946060846,-0.006956251400393922,-0.42334507110189623,0.12733345616560768,-0.5734782061801318,-0.560213077500597,-0.23539260300765466,0.03316383215642488,0.4024990354017856,-0.006942775921263278,0.41487711543356137,-0.5200852896520614,-0.23766350406115716,-0.423343946539869,-0.28030391536924293,-0.08609746479191745,-0.006948760633763683,0.03316662659605262,-0.5201148608564318,-0.4233372067787489,-0.42332922962338515,-0.5719470663458907,-0.5200958129372899,-0.006948512808636948,-0.04034278445005405,-0.5602691166033145,-0.560212313282353,-0.5602250177536854,-0.2961144872208077,0.03316850509795845,-0.19535572520837344,0.6731403779249582,-0.5200975083229573,-0.5602166631281014,0.44378905754603853,-0.423344018057622,0.12991943035461967,-0.5200968357246646,-0.5602128142322901,0.3654727705781197,-0.5602134346088289,-0.006959475185056879,-0.23541992572768713,0.12991902315390483,-0.15985807201900804,-0.006949114426116295,-0.6993104890818922,-0.08610388515810462,-0.56021826745777,-0.5200860083510971,0.3488272749989966,-0.08611647666713189,-0.29612086320953185,-0.7673271886195788,-0.08608751507995507,-0.6969078333903749,0.3594425157348603,0.42761816075918757,0.2127268132085273,-0.5200986179646054,-0.006636273361103295,0.033058881941152196,-0.6350180116569856,-0.5200972955288465,-0.08610102878806364,-0.5602144339680232,-0.5602120753456095,0.03316627262486917,-0.08609746479191745,-0.5200957132851133,-0.42334586114949513,-0.5602151062396087,-0.2634898800238811,-0.5602138751708531,-0.5601925420681861,-0.5200967913133911,0.4437904812848087,-0.5602094920163418,-0.23945539666362728,-0.5602132243383435,-0.5602135316818381,-0.18874165354362774,-0.36984619104047595,-0.006948483494882762,0.443789336018373,0.2724247276251888,-0.5601996947648267,-0.42334431348608637,-0.5200973836131338,-0.5602142623227411,0.036507729087457794,-0.5602124343572162,0.39196389890821376,-0.23539253880351516,-0.3581052697885975,-0.0069488012917802095,-0.2961222917456124,0.03319743121261458,0.42761782371129214,-0.5603319376380776,-0.0069602956001499705,0.2724225532613383,-0.23539831205581685,0.598366678991157,-0.520095429883487,-0.8872665380627262,-0.5201100022020967,-0.006821366057329487,-0.0861083206614639,-0.5200967089144002,-0.018672576239498886,-0.08614282624624026,-0.5200983448429659,-0.5602132334353551,-0.5602123347805502,-0.5601789938988488,-0.09597433871102665,-0.5200980965081637,-0.006950326706933237,-0.23537069465222032,0.1298039615124557,-0.08609580511837113,-0.560212812950254,-0.6080566235685503,-0.09852021726032115,-0.006948068015553641,-0.04034990579772218,0.3919522758973345,-0.7152204617424474,0.2799942985250586,0.38409985992926804,0.43396239139723797,0.44358146797506065,-0.5719376726805532,0.03316590550078029,-0.5719429015450925,-0.6894296547189339,-0.006950554661335518,-0.620941958093882,-0.006946663820577198,0.03316592865129441,0.03316810584818696,-0.5598861764645462,0.44378959319064215,-0.6209424373009215,0.38032697014867,-0.025055095691242767,0.04785536561380368,-0.03947127597761368,0.03318676160057675,-0.6894358562379812,0.1299180175572938,-0.5200984357634024,-0.23539623393141818,-2.9625141081214355,-0.0065891998552975286,-0.0860935929014083,-0.028831355837733535,-0.006949240082064398,-0.006948235840044012,-0.006950013147840949,-0.00695017684812897,-0.5602144765174887,-0.5602136367259911,0.4437915851251242,-0.13287720905789746,-0.04323490883083663,-0.5200970250984911,0.4275394558729429,-0.38064144222825286,0.03281586546935351,-0.5602127739214726,0.17263780165877485,-0.07741038502399512,0.42761638743642516,-0.5667729088798138,-0.4233553091714505,-0.571982089648753,-0.5626631719329181,0.40249902949855065,-0.5602127480843907,-0.5135575768920001,-0.0069603180318745204,-0.07970606020859872,-0.5602151355068539,-0.0995946803539022,0.03315302599551345,0.17263807955924457,0.359453258672854,0.1726377109329333,-0.5200977551782228,0.21271211926960643,-0.575256410290483,-0.6209606283993889,0.3655335972920408,-0.5602229332119293,0.44374813532570356,0.443789651496467,0.35970812573752625,-0.24711929114754733,-0.18874246758490415,0.033174391639487266,0.3919259290805246,-0.5592536778721522,-0.5602092930489019,-0.007383940749286328,-0.5201020393047375,0.011941117716016626,0.03316789087236433,0.17263703300014804,-0.18874062837559116,0.17260875021735061,-0.006953209298065455,-0.5602727778747777,-0.5602133841221264,-0.19527762946363336,0.03316735018476552,0.1299176569007655,0.01482659323581102,-0.0403402989319516,0.13099990259693176,-0.1689507270551377,0.4698788193039021,0.349854274691715,-0.5602411348730288,0.44378091600019404,-0.008136438290165185,0.4024858804180691,0.15097712890807544,-0.29612843029180635,14.745948762956912,6.512406463021147,-0.006948975264907267,-0.008535964410382658,0.033152637809288066,-0.5384381283861875,9.557400597959292,-0.5200963139661188,-0.45521503332115365,-0.2353936431081149,-0.02793595267008741,0.35963017168596556,0.44381188358004614,-0.006948343771637829,0.3268975897730814,-0.5719377753804805,-0.5602131645051065,-0.5602131475580651,0.4276097777116379,-0.23541776547335502,0.34883378324615716,0.08186191342809436,-0.08609542496201453,-0.5602136230721328,0.2888692250461511,0.03316641620797622,-0.5135742603907824,-0.0860940459024044,0.4437880910832952,-0.05971870621062179,-0.5602527271959671,-0.01867518379526371,0.2724247917716195,-0.031172457257875853,0.39896060426801366,-0.23539900690099022,0.34882699103653747,0.44381043167766976,0.3136716525010824,0.44376756409925616,-0.5614248964563117,-0.23539363555305853,0.36849219880512485,-0.6970007628272372,0.44373842821857656,-0.5602135683911371,-0.2800971943921616,-0.30678342933448133,-0.18871872981505383,-0.09853089675476172,0.04790405223299333,0.16872547389033668,0.45929294518431363,0.0331678150308476,-0.38454156152892083,-0.1887409225385814,-0.5135604510110757,-0.23481649317681647,-0.40222694147911914,-0.1887472429601317,-0.006947899902377953,-0.5601797442799301,0.3920167482413529,0.3403671103719631,0.09805260562495256,0.30474844163483467,-0.19527874019720387,-0.5200998353406003,-0.23540156646088733,-0.08608932975514945,0.12967057288872608,-0.5052257050192037,-0.1952749409559695,0.03316794841574285,-0.5597593654037132,-0.1806139745691569,0.16872789138940425,16.346689732327807,0.42723031817102003,-0.13039718591638944,0.3488284888867842,0.12991801802783126,-0.172182666408715,-0.19791114051302464,0.44378071578327366,-0.5135632770575074,0.36769932102696223,0.36769440375962864,0.19917429803862247,0.4220097277523761,-0.006949732405577172,-0.5602146804028899,0.4276218333201528,-0.5135618649759393,0.42761550946888915,-0.18874039593916891,-0.5623704113373327,0.18342187896898202,-0.19527710906171106,-0.5602134072896645,-0.45523035376175314,-0.6969651582702651,-0.5200848248035764,0.1299142407072344,-0.06767513928029525,0.12991285412478604,-0.5200994493461631,0.21262029289962886,-0.5613595244642693,-0.0035999230937659873,-0.5201339565041884,0.17218914244296202,-0.5602068349465441,0.3679319338725876,-0.5602144297276975,-0.09852543498802627,-0.5602146115351551,-0.5201464985056434,-0.0070336072327497196,-0.5600038957357006,-0.4260832849008433,-0.5201382462062706,0.12991797240922232,-0.5602218056758247,-0.009764370107447054,-0.5602613182233135,0.07582092639589748,-0.5201205327351305,-0.560223518751411,-0.08609536553906146,-0.006949041616171511,-0.006952874598680297,-0.2675746439219654,-0.4233524793832716,0.21272620095165456,-0.23658170750252322,-0.5602414336074599,-0.38062529547080476,15.555607303131644,0.36558431218653087,-0.6209397476918762,0.409604351313419,0.21258292879378113,0.3594427197849108,0.21256734555430482,-0.09864428138305498,11.406025636673707,-0.0860962138389771,0.0029738433108484116,-0.06525831955008335,0.0660697938568887,-0.5602068674244847,0.44368783457368505,0.42761790322802024,-0.23539395912142794],\"y\":[1.012431271640336,1.012860059161528,1.780818703650751,-1.4269140927547777,-2.0516599519640897,-1.1448626121210195,1.2629174549546867,-2.2405508360487394,-2.0517179129457097,-1.9600080803403837,1.2143341853125778,-1.7927471806255004,0.7303807223128845,0.5790798235664077,-1.1448759560662765,1.9033792851478328,-0.8943850994289747,-1.1448849067088696,1.0124364224652422,1.0127826950744903,-1.7925936561199225,-1.256598432641285,-1.4268731676076445,-1.1448744629051923,-1.1448980621687668,1.012499331948658,-0.3750511167096611,-1.2150462296590037,-1.144868554477001,1.0124311497022815,-1.1448751532279415,1.0124315553649297,-1.1448742578741276,-0.8943879203248913,0.3525012432544923,0.9422556683386446,-1.7889522674624516,-1.4226449314945289,-1.1418661353435213,-1.1448675816360272,-1.1448392134694079,-1.1448715639507692,1.6753005116344537,0.03750208006469829,-1.144875673353165,-1.6041702315246609,-1.144797395926107,-1.1448570823453685,-1.1448710168033582,1.0124457268377305,1.1125375885592683,-1.1211289439486947,1.2629222220659235,-1.4269123439032125,-1.1448665022012812,-1.1448681668096028,-1.144872818291094,1.86054257377285,-1.1448641561341033,-2.2781237338720723,0.8728983687020077,-1.144872735747396,0.7305750782279543,0.8611259284005812,1.8560672897577062,-1.1479287481901563,-1.4269158574242244,-1.1447859748163565,1.856039122335516,0.553117115197291,1.0124322244078725,1.012443661816679,1.0286443501922633,-1.1448785355924285,-1.1449323818640174,-1.1448737782802774,1.1116373211127872,1.2629188614594102,-1.4268647071638512,0.21306456901365192,-1.4269074974831863,1.693943397741165,1.2629167434741682,-1.4269174329229781,-1.4269399136452818,-1.4269178590828855,-0.8943847790908221,1.0125735287794726,1.0124299592359864,-1.144866924470565,0.22940608455259162,-1.3025878011521073,-1.1448841118183937,1.262921105047705,0.213104581189625,-1.4269093129369783,1.8560490426567826,1.0122221666029774,-2.1274911683308537,-2.1747086962076625,0.5803943191951632,1.6132403704084572,-1.1448659057880757,0.7303882621235721,0.9422845341849592,-1.145132299723108,0.8611367220692148,-1.1448453919058355,1.8560283671671336,-1.1448737002775942,0.8610728004673639,-1.144835374684381,1.012432083424007,1.8560317554681052,-1.1447256722796713,-2.2191585970359347,1.111604945639342,-1.7929094368808647,-1.6623986393769405,-1.144868409176132,1.0124318706309907,-1.1452327865306864,-2.1988799739135367,-1.144872873901574,-1.4269171149463313,-1.1716405303742443,1.2629196982587925,1.847240895121105,-0.8943772279427434,-2.413471583696406,-1.4269253830241286,1.7815888053167417,-0.8943827832288395,1.0343419899111026,-1.144916195567688,-1.1449039552884552,0.8611478977901538,-2.051718621597662,1.8560289362707207,-2.057210070520724,0.7301192732566463,1.9034668234797496,-0.8943813263376695,-1.4269123947134226,1.0478137775770306,-1.1448179948481643,-2.313050842543094,0.7303820390392879,1.2612756501501965,-1.144858853095274,0.7303861920654513,-1.421186728511528,1.5250370168900762,1.0124240284510104,0.8610797579554864,-0.8943849383034366,-2.2547435351481537,-1.1449216663423318,-2.227242807246423,1.2628128914805226,0.8527645572568102,0.7303771931357527,0.3425800245369808,1.6753026124934116,-1.1448752212905435,-0.8943851691479053,1.2629714558211234,0.7303222694420125,0.7302428763037194,1.5194880392344878,1.2628919065511948,-1.1448728746957428,1.7362917458797469,1.0122990521292268,1.0124208760768008,1.0124574818292478,1.704665730972414,-0.8943919585248445,1.1117814780737978,-1.0526677168070868,1.2629129211770098,1.0124289588226565,-2.1756174767799203,0.7303806297588535,-1.4269172769864067,1.2629183519528753,1.0124265896143916,-1.7927415363352808,1.0124323444918302,-1.1448666049102083,0.8612154847072917,-1.4269159561887754,0.1099510868493663,-1.1448756153015323,2.005944855949033,1.6753167846983372,1.0124498116197826,1.2626288151312393,-2.2703486480543016,1.6753679807843649,1.7047218113027867,1.984078370362551,1.6752196487213902,1.9993509337529747,-2.051712638581816,-1.9600090589721029,1.5492285595053883,1.2629202771107124,-1.1476739885096312,-0.8940752064473357,1.9067709993451856,1.2629198710640694,1.675310475553387,1.0124295098204568,1.0124204064115856,-0.8944178457242111,1.6753026124934116,1.2629047607548511,0.730387458425581,1.0124328662572617,0.8197659789440654,1.0124292532187125,1.0122479973979706,1.262917856898342,-2.1756244625046453,1.0123940080180938,0.8703619013250141,1.0124294100047218,1.0124321407042536,1.630873375788382,0.4948959285175347,-1.1448733315494686,-2.175620992306666,-2.413461914631434,1.0122990499868554,0.7303816975114042,1.2629192693222644,1.01243199064693,-0.9231836222725338,1.0124250605315157,-2.2406081086188245,0.8611073016168442,0.14221969067725262,-1.1448722909607112,1.7047249630079004,-0.8946595935202505,-1.9600071717143817,1.0126933736285268,-1.1448469126716636,-2.4134558959111985,0.861131608951419,-2.0580200787958565,1.2628970456492408,1.649477438200338,1.26294804095757,-1.146001393931473,1.6753267454672873,1.262901668387689,-0.6378446758874986,1.6754029973639801,1.2628406728330608,1.0124280692377978,1.0124235854995747,1.0121405966029218,0.5573110670910381,1.2629167197311044,-1.1448721572148846,0.8607030102019742,-1.4269164914069166,1.6752949413117697,1.0124125342565484,1.899767967462346,0.579024331884883,-1.1448864226538247,1.7363063607259304,-2.240552718500794,1.7918353810231316,-2.4507257426239186,-2.0755405132336024,-2.1993720016927405,-2.1752000643636067,1.5194674698145496,-0.894395108218274,1.519467968484239,2.0985532972053864,-1.144868616254986,1.8560337739016197,-1.1448919995781632,-0.8943885010689684,-0.894389495185842,1.0028860251594216,-2.17562677263701,1.8560373628820306,-2.3221817633962774,-1.112885145998188,-1.302287297308898,1.7923201970970044,-0.8946377579195152,2.0985757110503123,-1.4269140549178128,1.26292304641945,0.8611269451220538,0.9496258999267813,-1.1479277592270827,1.6752816600621443,-1.0657826895531457,-1.1448734884441596,-1.1448878233403534,-1.1448840760327263,-1.1448834843788362,1.012428039073539,1.012432372457724,-2.1756398078703962,1.2138527784479038,1.7468510109167392,1.2629150219047305,-1.9632337681573113,0.5531010591060209,-0.8934143356644016,1.0124273248791527,-1.604193428674721,0.7034093512748253,-1.960002649738962,1.0319581661869788,0.7304082243039678,1.5194289519487847,1.8450120733692594,-2.2547646412060907,1.012426350539296,1.7821403020306796,-1.144846831597786,1.6419055370025413,1.012436018321093,0.5814357443855139,-0.8943903760882672,-1.6041974439461857,-2.051793918586784,-1.6041939036673067,1.2628980899443292,1.5492189406377757,1.526445776644126,1.8560711443726614,-1.7928710532478136,1.0124315480146842,-2.189685895679968,-2.1756200416420244,-2.0543409415884644,1.3681577506442404,1.6308754815850517,-0.8945010509885617,-2.2406071148924607,1.0006000166417375,1.012392285276713,-1.1441353784505737,1.262929297281347,-1.1190345928201564,-0.8943888687527853,-1.604189646926535,1.6308521071687236,-1.6041675484396392,-1.1448665026053892,1.0124962824617836,1.01243149293812,1.1116056045240819,-0.8943874498379073,-1.4269126119110616,-1.2530749155877383,1.7362841843935342,-0.04572435915806339,0.3691108521086072,-2.437181272032847,-2.2828021145758943,1.0124936534305442,-2.1756425813833826,-1.142252016276006,-2.254707698675142,-1.302555656124,1.7046157624113236,2.944830941060495,0.9197417071173993,-1.1448777909703036,-1.1422142686386956,-0.8944140636649152,0.9042300891028333,2.1814899483158294,1.2629127862350664,1.4989850853134175,0.8610997511842382,1.5976982801069428,-2.0534737492549167,-2.175865573612111,-1.1448768952053252,-2.169272516728337,1.519461150176771,1.0124308664576653,1.012430470665754,-1.9599869567919415,0.861124041743071,-2.2704187720602866,1.9308006546351133,1.6752838656408202,1.012428007529668,1.6091014401032124,-0.8943969540421445,1.7822006003788171,1.675280219537792,-2.1756153888136405,0.7983268585990136,1.0117176062763165,-0.6378306930707014,-2.4134648696370626,1.2704251783172777,-2.1719707940737343,0.8611355297883279,-2.2703457984940276,-2.1757934179488037,-2.3557901043729856,-2.2063158982848363,1.015104712021158,0.8611131055205071,-2.110955484946217,2.000925609561586,-2.1756000875161607,1.0124187772903954,1.7521479709049053,0.1467365278737098,1.6306843069005161,0.579079627533453,1.5605459197218636,-1.2076591368972438,-1.9846669549607,-0.8943887953671585,0.9496435033327854,1.6308697301296784,1.7821832823125905,0.8562110016612073,0.8547047435611114,1.6308793593464541,-1.1448786843380585,1.012143308668312,-2.2410608977355557,-2.3718275324432483,-0.6583549417862683,-2.3543706862111886,1.1116039317958242,1.2629213316022905,0.861105639376377,1.6752414290305218,-1.4263674832616593,0.855128466165356,1.111582673211607,-0.8943899465357243,1.0077803550415936,0.5653051759421146,-1.2076809087837894,3.4364806183181473,-1.959875041925422,1.3476819327066631,-2.270363506484133,-1.4269140566184522,1.1041334817902655,1.1211272865144852,-2.176937200708147,1.7821853253550923,-2.3291469184152493,-2.329115782734712,0.045965573267318816,-2.047651191638543,-1.1448884361162002,1.012433334422899,-1.9600627785417206,1.782186070185077,-1.9600011301805553,1.6308691031414715,1.0077163638714908,-1.6624241062214293,1.111603941112723,1.0124181950292743,1.4989668581957234,1.999977300183591,1.2628051896625716,-1.4269075970672664,-0.30127353160677955,-1.4269199817453793,1.262923281932139,1.5494671889018052,1.0107201321866335,-1.173384653172284,1.263053017570027,-1.6032364275660551,1.012375037552064,-2.331140949778159,1.012426865651353,0.5790731455696623,1.0124365981986978,1.2630147122449449,-1.1447324895219377,1.0099186779300033,0.7402527583073065,1.2629012511023137,-1.426917404422422,1.012460090569173,-1.1430590835384549,1.0125384996711413,-1.2150392048306053,1.2629697084329623,1.0124420278275372,1.6752968652429805,-1.1448716966917625,-1.1448874502150495,0.6645037371475948,0.7303971603872607,1.5492249315361002,0.8637402721603694,1.01248335873587,0.5530995445290396,3.4963046031271015,-1.7929444194035637,1.8560307829978318,-2.2386591964642744,1.5497695026764542,-2.0517130887668453,1.5498258244115541,0.579338928397452,3.1280365594171986,1.6752999924091867,2.096153220781844,1.7018928908618194,0.5682649994192472,1.012366791409149,-2.1754841748434868,-1.9600081281898871,0.8611214676103817],\"z\":[-0.33772464324320045,-0.3209702427256663,2.3206288187737183,-0.14537651975001922,-0.1504932262159084,-0.16236743269212844,-0.402005319650863,-0.15187442335741064,-0.1489249204499741,-0.1732859993688164,-0.33942997933130553,0.1756140295460289,-0.3195573365150233,-0.2645304730998401,-0.16352031635388387,-0.2534058847908552,-0.22800994665252922,-0.16313440435037607,-0.33738227610857463,-0.32992148601764654,-0.07931339138757015,2.5765735112398196,-0.1424446786020995,-0.16037352876536862,-0.16293703447567293,-0.3362134033165962,-0.21836285239503667,-0.2010067292360053,-0.1629866016797558,-0.33772055305462434,-0.1635024897845645,-0.33770474722100846,-0.16358947862864923,-0.22809977634400844,0.7031969828496559,-0.37612643546622176,0.19944081318397744,0.23466189702478563,0.08658028572903927,-0.16333436688569516,-0.15891382444845206,-0.1632732287758109,-0.3250408563602575,-0.2690334670248591,-0.16364679910060526,-0.17229591206858275,-0.14274593133314809,-0.1624350002605822,-0.1627138729910917,-0.3357720763936789,-0.3266974140184391,1.5953395411930724,-0.4018994686528404,-0.1453376874941531,-0.15998709463898847,-0.16336095698240577,-0.16371781800551335,-0.2359931643117435,-0.1629727759157573,-0.1393869311762505,-0.02126694786313225,-0.16359837414916906,-0.282647884987959,-0.28244730588270744,-0.2800325565520089,-0.0276416151873101,-0.1454157032330416,-0.15722579247254304,-0.2806579981666269,-0.35117337080790784,-0.33199289525383274,-0.33611705530816344,0.02227755869650906,-0.1635775932672893,-0.1616595863562954,-0.16306134102976982,-0.34668734144300917,-0.4022732017101539,-0.13249164540746802,-0.2316392399502017,-0.14487639987112355,-0.3186355933958948,-0.4021842774688132,-0.1451651566432775,-0.14514765562536067,-0.14574227940942105,-0.22827476672091773,-0.31281126520905705,-0.3363941200317995,-0.16329258160026972,-0.3056488360069277,-0.1904283387820049,-0.1603781061871931,-0.4021486161290799,-0.23211045727976523,-0.14494406701588175,-0.2804377230662414,-0.3287710526688533,3.891553916230353,0.4709428367734508,0.09244695299583451,-0.30502745666989983,-0.16215340545594345,-0.3187644734113826,-0.3755450390664584,-0.14665543973857412,-0.2824276323930523,-0.16086489400570864,-0.28073365077604345,-0.16372002549651524,-0.277048650384783,-0.16072929549703047,-0.3377066186188213,-0.2806856087765867,-0.14687223009928493,-0.09878894892539007,-0.34713428745101443,-0.11351842338126654,-0.17889208147682822,-0.16359243270030935,-0.33743941057175936,-0.03576256625298419,-0.12309778959377264,-0.1637289854564185,-0.14544362579731815,0.4927937577094324,-0.4022546346517106,0.02856118521695099,-0.22765840832380313,-0.14639120034221373,-0.1451817875236436,-0.466438842726093,-0.22794492009404527,-0.2966906629782222,-0.16184078163220242,-0.16102839038821515,-0.28081981688004154,-0.15156608175475453,-0.2802043414632631,0.3780903545517813,-0.31206514087951054,-0.2558634085599511,-0.2279805539017132,-0.1453388157060145,-0.08162010261466357,-0.1596635536152411,-0.17339997743010993,-0.31952809935295096,-0.07776873824458298,-0.16228396566010037,-0.3195922452375369,0.27555577601969766,-0.24255733697204573,-0.3373144154302929,-0.28068691297547005,-0.22713618336694727,-0.1431962059664947,-0.16253180305925746,-0.1317959791579819,-0.39940510500501847,0.8777415281829108,-0.3193909601935175,-0.031765452230378625,-0.32472227498494494,-0.16351759772573823,-0.2279435114730106,-0.4000856386392823,-0.3181260617971227,-0.31577901404327763,-0.3645455363019278,-0.4009817994207976,-0.1637290442883402,-0.34771236751686235,-0.3134672034607045,-0.3373526865979434,-0.335782996477368,-0.22439229401380612,-0.22809426573252972,-0.3345534190936042,-0.3771743799428285,-0.4017252834163644,-0.33655230013926746,0.31493334914401105,-0.3195729882744776,-0.14560037646805007,-0.40224373866081137,-0.33754307589671273,-0.09347430740086532,-0.3377008217560546,-0.16087887893687,-0.2806787527405906,-0.14555878067679245,-0.25763072121732683,-0.1633903800184227,0.012939327975233868,-0.323673370135471,-0.3373129740987267,-0.38831855468172727,-0.14729401958949057,-0.32299887759596546,-0.22583239876476036,-0.42519118001905687,-0.32274377984903213,-0.3033515120483191,-0.15130679510856174,-0.17330772933037938,3.605310922838556,-0.40183388208078763,-0.08996806993811875,-0.21460255708681694,0.8573716745987544,-0.4021984052740647,-0.3241397807105477,-0.3372397491425431,-0.337394840758922,-0.22590895639335404,-0.32472227498494494,-0.401770514458869,-0.3194349582572664,-0.33724054680893134,-0.39826851410028397,-0.33738875552701864,-0.3329473504313299,-0.40222753776607656,0.3149277982407434,-0.33659414382055336,0.36450617135408314,-0.33758922392907353,-0.33766026312177194,-0.34209717353569224,-0.3520200886288155,-0.16371066489735095,0.3150592386153089,-0.14693504911178304,-0.3338622256676639,-0.31954927943542194,-0.4021369758818915,-0.3374367456859816,0.49192824988578976,-0.3375643381117611,-0.15063074804819415,-0.28233308109460636,-0.28772751466297386,-0.16367877966780608,-0.22559892093443137,-0.2207802153127805,-0.17332021044340282,-0.3183081682454483,-0.16180128893817294,-0.14665184368579967,-0.28207308225422284,-0.15136643320379597,-0.4013979580075398,-0.4327643667987249,-0.40012966964663155,-0.13440895567447952,-0.3229587740896195,-0.40129531272535196,-0.1917603050057089,-0.31732655903038975,-0.39721102447588363,-0.3375073375642527,-0.33750644602215973,-0.33058226819986575,0.271685424657547,-0.40177690517731046,-0.16323853622279352,-0.26486465860237707,-0.11172368570890365,-0.32475664271957955,-0.3367130485565057,0.8853465075145325,-0.26321211770916847,-0.1630592918492024,-0.3464836759476308,-0.1504885739117065,0.5721802455732692,-0.14529623654034668,-0.02430001662675941,-0.1494430219120544,0.3512590878352574,-0.36609000057177893,-0.22714445415471285,-0.36458329642112997,-0.40138416243105257,-0.16338076975901594,-0.28036885761141384,-0.16314233433796238,-0.22754161214662103,-0.228122508252331,0.13016106632066193,0.31532519250542324,-0.28044011379399786,-0.14416659036060395,3.2658618768854377,-0.12656760071036618,-0.29276699116476895,-0.21893570322219547,-0.4008864757323868,-0.1453756796017294,-0.4020510236116435,-0.2824080621465132,4.111915344592912,-0.0888045797343248,-0.32462189166917066,1.592415223140096,-0.16347912085579389,-0.1629272335010803,-0.16262648026704316,-0.1626133429283868,-0.3371403555802283,-0.3376430948602768,0.31551012454083105,-0.39783245794419286,0.659779271573151,-0.4019913608946839,0.040333549661246575,-0.3461424866634097,-0.18225265194762774,-0.3375983587868077,-0.17701235638815896,-0.31021066370386097,-0.17316541594802903,0.43577520502757183,-0.3178861317391351,-0.3507652546965124,-0.4094045029152398,-0.14194750559103006,-0.3375483844234525,-0.39549216508206814,-0.1617994887387585,-0.35729307273595756,-0.33741817545431946,-0.09001869944234053,-0.223640217455614,-0.176856773515276,-0.14966081706662943,-0.17695763940996323,-0.40077651743877557,3.6101960850045356,0.19662286612684646,-0.2770916705666396,-0.10369234776563048,-0.33486321062964663,1.1581313592623521,0.314910389461871,-0.07405658082362317,-0.31088894159405683,-0.34198243226764,-0.22337836081739823,-0.139534463011268,0.07940154531488622,-0.3365508164160885,-0.0793784918096203,-0.4013616613188733,1.103855988340182,-0.22809636167726108,-0.1770099647157345,-0.34114178293304875,-0.17000648512900482,-0.16272575168352849,-0.3240441306588781,-0.33766534342359766,-0.3471060606397621,-0.22802134619890213,-0.1453549780621395,-0.20958843672298874,-0.3479958375473135,-0.2708046487494623,-0.30988266367661793,8.103571598166372,-0.16005638599976124,-0.33318506884289906,0.3188084235010646,0.03042374459641622,-0.14144871195025963,-0.17590038053270238,-0.21734382768301588,-0.11871060429338584,-0.6290233604790632,-0.16330272301044602,0.14556866985362374,-0.22212668918021608,-0.3836063510089829,-0.39895206565783076,-0.4020681959695345,-0.25308028921260206,-0.28156256532975354,-0.3319497134120323,-0.10238934165233182,0.32288518312941306,-0.1635411694031603,-0.16986484598404575,-0.3656864585496886,-0.33769285071611044,-0.33767444575121347,-0.1721507271326616,-0.2759108669555096,-0.14506305669932335,-0.32753198077910595,-0.32421396601763125,-0.3373892220453471,3.8143064766850423,-0.22718543962559096,-0.3941532745026183,-0.32440369886295917,0.3150939231075551,-0.29449037822368557,-0.28392980114606714,-0.19182036039819447,-0.1467793098620881,-0.147651317977186,-0.16037600347238978,-0.28210059341939214,-0.14737895020411396,0.3190487057988832,0.5731740698874684,2.1349399209401954,-0.139676590763605,-0.2823537718569018,-0.10388870470508091,-0.3690835180180387,0.32878015113144904,-0.33685995518000234,-0.20023989775287238,2.2586518623132177,-0.3376614682301169,-0.26334155393692665,0.9580235048014916,-0.17558781265525847,-0.14027272775928315,-0.22807841621138467,-0.34878627162484777,-0.3420965434184445,-0.3971871059376244,-0.16228900902752386,-0.36510145859527804,-0.34080859679708914,-0.16356586820563124,-0.330522048327938,-0.13940591639398422,-0.15359593405338529,-0.07785028583123989,3.110825927514274,-0.3466809165290917,-0.4015385346989451,-0.2795826769998995,-0.3234974555808455,-0.10497193150557735,-0.361083298416329,-0.3465411020806577,-0.22804959065664504,-0.19625591018484895,-0.5263112063860679,-0.17501173561792738,-0.3711286206165341,-0.06728294839656047,-0.19811026980989188,-0.14677279231155885,-0.14537571736346744,0.717436430118277,-0.13596804865600687,0.3953545922803278,-0.39647755859500466,-0.1364457629204791,-0.13684066549952192,-0.2916321846625104,-0.13439661763783536,-0.16245136044951228,-0.33739331125390637,-0.17121287195714835,-0.3969364133439032,-0.1729972585369742,-0.34221420777318695,0.5746129084686351,-0.1780978933213488,-0.3471606713890873,-0.33687288395756765,-0.24750248611710923,-0.3235166054372637,-0.399086640107798,-0.14464763075790324,-0.10683113386868417,-0.14350857392782904,-0.40176716172732885,3.6225066216163766,0.10016321782725744,0.5370060649170114,-0.3992943550522375,-0.1017432007233845,-0.33625395985975515,-0.08697482854312032,-0.3370847748503769,-0.26456318270248236,-0.33760637061057197,-0.39334657816473806,-0.14702360309257476,-0.2507505378967041,-0.09807014601928726,-0.3890675935280537,-0.14516452380461678,-0.33688078611814326,0.5563692646490215,-0.32990504637742096,-0.2005652172656121,-0.39831608398332324,-0.3353103448241892,-0.3249994525644715,-0.16364328575764342,-0.1615864767893178,-0.4207579050310219,-0.31806381647809906,3.60570513909555,-0.08853064845376607,-0.33248908450867243,-0.3507966916942167,-0.5060010118074082,-0.11425711981334885,-0.28084153682636587,-0.10346559971591827,3.615622677553127,-0.1513401447491594,3.6168732696982313,-0.24535050582548917,-0.49100744856863465,-0.32493499008493754,34.187655686078706,-0.282488425134649,2.4194850851441654,-0.33575722829265287,0.33679561285954884,-0.1732870618398371,-0.28275275233930414],\"type\":\"scatter3d\"}],                        {\"template\":{\"data\":{\"bar\":[{\"error_x\":{\"color\":\"#2a3f5f\"},\"error_y\":{\"color\":\"#2a3f5f\"},\"marker\":{\"line\":{\"color\":\"#E5ECF6\",\"width\":0.5},\"pattern\":{\"fillmode\":\"overlay\",\"size\":10,\"solidity\":0.2}},\"type\":\"bar\"}],\"barpolar\":[{\"marker\":{\"line\":{\"color\":\"#E5ECF6\",\"width\":0.5},\"pattern\":{\"fillmode\":\"overlay\",\"size\":10,\"solidity\":0.2}},\"type\":\"barpolar\"}],\"carpet\":[{\"aaxis\":{\"endlinecolor\":\"#2a3f5f\",\"gridcolor\":\"white\",\"linecolor\":\"white\",\"minorgridcolor\":\"white\",\"startlinecolor\":\"#2a3f5f\"},\"baxis\":{\"endlinecolor\":\"#2a3f5f\",\"gridcolor\":\"white\",\"linecolor\":\"white\",\"minorgridcolor\":\"white\",\"startlinecolor\":\"#2a3f5f\"},\"type\":\"carpet\"}],\"choropleth\":[{\"colorbar\":{\"outlinewidth\":0,\"ticks\":\"\"},\"type\":\"choropleth\"}],\"contour\":[{\"colorbar\":{\"outlinewidth\":0,\"ticks\":\"\"},\"colorscale\":[[0.0,\"#0d0887\"],[0.1111111111111111,\"#46039f\"],[0.2222222222222222,\"#7201a8\"],[0.3333333333333333,\"#9c179e\"],[0.4444444444444444,\"#bd3786\"],[0.5555555555555556,\"#d8576b\"],[0.6666666666666666,\"#ed7953\"],[0.7777777777777778,\"#fb9f3a\"],[0.8888888888888888,\"#fdca26\"],[1.0,\"#f0f921\"]],\"type\":\"contour\"}],\"contourcarpet\":[{\"colorbar\":{\"outlinewidth\":0,\"ticks\":\"\"},\"type\":\"contourcarpet\"}],\"heatmap\":[{\"colorbar\":{\"outlinewidth\":0,\"ticks\":\"\"},\"colorscale\":[[0.0,\"#0d0887\"],[0.1111111111111111,\"#46039f\"],[0.2222222222222222,\"#7201a8\"],[0.3333333333333333,\"#9c179e\"],[0.4444444444444444,\"#bd3786\"],[0.5555555555555556,\"#d8576b\"],[0.6666666666666666,\"#ed7953\"],[0.7777777777777778,\"#fb9f3a\"],[0.8888888888888888,\"#fdca26\"],[1.0,\"#f0f921\"]],\"type\":\"heatmap\"}],\"heatmapgl\":[{\"colorbar\":{\"outlinewidth\":0,\"ticks\":\"\"},\"colorscale\":[[0.0,\"#0d0887\"],[0.1111111111111111,\"#46039f\"],[0.2222222222222222,\"#7201a8\"],[0.3333333333333333,\"#9c179e\"],[0.4444444444444444,\"#bd3786\"],[0.5555555555555556,\"#d8576b\"],[0.6666666666666666,\"#ed7953\"],[0.7777777777777778,\"#fb9f3a\"],[0.8888888888888888,\"#fdca26\"],[1.0,\"#f0f921\"]],\"type\":\"heatmapgl\"}],\"histogram\":[{\"marker\":{\"pattern\":{\"fillmode\":\"overlay\",\"size\":10,\"solidity\":0.2}},\"type\":\"histogram\"}],\"histogram2d\":[{\"colorbar\":{\"outlinewidth\":0,\"ticks\":\"\"},\"colorscale\":[[0.0,\"#0d0887\"],[0.1111111111111111,\"#46039f\"],[0.2222222222222222,\"#7201a8\"],[0.3333333333333333,\"#9c179e\"],[0.4444444444444444,\"#bd3786\"],[0.5555555555555556,\"#d8576b\"],[0.6666666666666666,\"#ed7953\"],[0.7777777777777778,\"#fb9f3a\"],[0.8888888888888888,\"#fdca26\"],[1.0,\"#f0f921\"]],\"type\":\"histogram2d\"}],\"histogram2dcontour\":[{\"colorbar\":{\"outlinewidth\":0,\"ticks\":\"\"},\"colorscale\":[[0.0,\"#0d0887\"],[0.1111111111111111,\"#46039f\"],[0.2222222222222222,\"#7201a8\"],[0.3333333333333333,\"#9c179e\"],[0.4444444444444444,\"#bd3786\"],[0.5555555555555556,\"#d8576b\"],[0.6666666666666666,\"#ed7953\"],[0.7777777777777778,\"#fb9f3a\"],[0.8888888888888888,\"#fdca26\"],[1.0,\"#f0f921\"]],\"type\":\"histogram2dcontour\"}],\"mesh3d\":[{\"colorbar\":{\"outlinewidth\":0,\"ticks\":\"\"},\"type\":\"mesh3d\"}],\"parcoords\":[{\"line\":{\"colorbar\":{\"outlinewidth\":0,\"ticks\":\"\"}},\"type\":\"parcoords\"}],\"pie\":[{\"automargin\":true,\"type\":\"pie\"}],\"scatter\":[{\"marker\":{\"colorbar\":{\"outlinewidth\":0,\"ticks\":\"\"}},\"type\":\"scatter\"}],\"scatter3d\":[{\"line\":{\"colorbar\":{\"outlinewidth\":0,\"ticks\":\"\"}},\"marker\":{\"colorbar\":{\"outlinewidth\":0,\"ticks\":\"\"}},\"type\":\"scatter3d\"}],\"scattercarpet\":[{\"marker\":{\"colorbar\":{\"outlinewidth\":0,\"ticks\":\"\"}},\"type\":\"scattercarpet\"}],\"scattergeo\":[{\"marker\":{\"colorbar\":{\"outlinewidth\":0,\"ticks\":\"\"}},\"type\":\"scattergeo\"}],\"scattergl\":[{\"marker\":{\"colorbar\":{\"outlinewidth\":0,\"ticks\":\"\"}},\"type\":\"scattergl\"}],\"scattermapbox\":[{\"marker\":{\"colorbar\":{\"outlinewidth\":0,\"ticks\":\"\"}},\"type\":\"scattermapbox\"}],\"scatterpolar\":[{\"marker\":{\"colorbar\":{\"outlinewidth\":0,\"ticks\":\"\"}},\"type\":\"scatterpolar\"}],\"scatterpolargl\":[{\"marker\":{\"colorbar\":{\"outlinewidth\":0,\"ticks\":\"\"}},\"type\":\"scatterpolargl\"}],\"scatterternary\":[{\"marker\":{\"colorbar\":{\"outlinewidth\":0,\"ticks\":\"\"}},\"type\":\"scatterternary\"}],\"surface\":[{\"colorbar\":{\"outlinewidth\":0,\"ticks\":\"\"},\"colorscale\":[[0.0,\"#0d0887\"],[0.1111111111111111,\"#46039f\"],[0.2222222222222222,\"#7201a8\"],[0.3333333333333333,\"#9c179e\"],[0.4444444444444444,\"#bd3786\"],[0.5555555555555556,\"#d8576b\"],[0.6666666666666666,\"#ed7953\"],[0.7777777777777778,\"#fb9f3a\"],[0.8888888888888888,\"#fdca26\"],[1.0,\"#f0f921\"]],\"type\":\"surface\"}],\"table\":[{\"cells\":{\"fill\":{\"color\":\"#EBF0F8\"},\"line\":{\"color\":\"white\"}},\"header\":{\"fill\":{\"color\":\"#C8D4E3\"},\"line\":{\"color\":\"white\"}},\"type\":\"table\"}]},\"layout\":{\"annotationdefaults\":{\"arrowcolor\":\"#2a3f5f\",\"arrowhead\":0,\"arrowwidth\":1},\"autotypenumbers\":\"strict\",\"coloraxis\":{\"colorbar\":{\"outlinewidth\":0,\"ticks\":\"\"}},\"colorscale\":{\"diverging\":[[0,\"#8e0152\"],[0.1,\"#c51b7d\"],[0.2,\"#de77ae\"],[0.3,\"#f1b6da\"],[0.4,\"#fde0ef\"],[0.5,\"#f7f7f7\"],[0.6,\"#e6f5d0\"],[0.7,\"#b8e186\"],[0.8,\"#7fbc41\"],[0.9,\"#4d9221\"],[1,\"#276419\"]],\"sequential\":[[0.0,\"#0d0887\"],[0.1111111111111111,\"#46039f\"],[0.2222222222222222,\"#7201a8\"],[0.3333333333333333,\"#9c179e\"],[0.4444444444444444,\"#bd3786\"],[0.5555555555555556,\"#d8576b\"],[0.6666666666666666,\"#ed7953\"],[0.7777777777777778,\"#fb9f3a\"],[0.8888888888888888,\"#fdca26\"],[1.0,\"#f0f921\"]],\"sequentialminus\":[[0.0,\"#0d0887\"],[0.1111111111111111,\"#46039f\"],[0.2222222222222222,\"#7201a8\"],[0.3333333333333333,\"#9c179e\"],[0.4444444444444444,\"#bd3786\"],[0.5555555555555556,\"#d8576b\"],[0.6666666666666666,\"#ed7953\"],[0.7777777777777778,\"#fb9f3a\"],[0.8888888888888888,\"#fdca26\"],[1.0,\"#f0f921\"]]},\"colorway\":[\"#636efa\",\"#EF553B\",\"#00cc96\",\"#ab63fa\",\"#FFA15A\",\"#19d3f3\",\"#FF6692\",\"#B6E880\",\"#FF97FF\",\"#FECB52\"],\"font\":{\"color\":\"#2a3f5f\"},\"geo\":{\"bgcolor\":\"white\",\"lakecolor\":\"white\",\"landcolor\":\"#E5ECF6\",\"showlakes\":true,\"showland\":true,\"subunitcolor\":\"white\"},\"hoverlabel\":{\"align\":\"left\"},\"hovermode\":\"closest\",\"mapbox\":{\"style\":\"light\"},\"paper_bgcolor\":\"white\",\"plot_bgcolor\":\"#E5ECF6\",\"polar\":{\"angularaxis\":{\"gridcolor\":\"white\",\"linecolor\":\"white\",\"ticks\":\"\"},\"bgcolor\":\"#E5ECF6\",\"radialaxis\":{\"gridcolor\":\"white\",\"linecolor\":\"white\",\"ticks\":\"\"}},\"scene\":{\"xaxis\":{\"backgroundcolor\":\"#E5ECF6\",\"gridcolor\":\"white\",\"gridwidth\":2,\"linecolor\":\"white\",\"showbackground\":true,\"ticks\":\"\",\"zerolinecolor\":\"white\"},\"yaxis\":{\"backgroundcolor\":\"#E5ECF6\",\"gridcolor\":\"white\",\"gridwidth\":2,\"linecolor\":\"white\",\"showbackground\":true,\"ticks\":\"\",\"zerolinecolor\":\"white\"},\"zaxis\":{\"backgroundcolor\":\"#E5ECF6\",\"gridcolor\":\"white\",\"gridwidth\":2,\"linecolor\":\"white\",\"showbackground\":true,\"ticks\":\"\",\"zerolinecolor\":\"white\"}},\"shapedefaults\":{\"line\":{\"color\":\"#2a3f5f\"}},\"ternary\":{\"aaxis\":{\"gridcolor\":\"white\",\"linecolor\":\"white\",\"ticks\":\"\"},\"baxis\":{\"gridcolor\":\"white\",\"linecolor\":\"white\",\"ticks\":\"\"},\"bgcolor\":\"#E5ECF6\",\"caxis\":{\"gridcolor\":\"white\",\"linecolor\":\"white\",\"ticks\":\"\"}},\"title\":{\"x\":0.05},\"xaxis\":{\"automargin\":true,\"gridcolor\":\"white\",\"linecolor\":\"white\",\"ticks\":\"\",\"title\":{\"standoff\":15},\"zerolinecolor\":\"white\",\"zerolinewidth\":2},\"yaxis\":{\"automargin\":true,\"gridcolor\":\"white\",\"linecolor\":\"white\",\"ticks\":\"\",\"title\":{\"standoff\":15},\"zerolinecolor\":\"white\",\"zerolinewidth\":2}}},\"scene\":{\"domain\":{\"x\":[0.0,1.0],\"y\":[0.0,1.0]},\"xaxis\":{\"title\":{\"text\":\"P3\"}},\"yaxis\":{\"title\":{\"text\":\"P2\"}},\"zaxis\":{\"title\":{\"text\":\"P1\"}}},\"coloraxis\":{\"colorbar\":{\"title\":{\"text\":\"class\"}},\"colorscale\":[[0.0,\"#0d0887\"],[0.1111111111111111,\"#46039f\"],[0.2222222222222222,\"#7201a8\"],[0.3333333333333333,\"#9c179e\"],[0.4444444444444444,\"#bd3786\"],[0.5555555555555556,\"#d8576b\"],[0.6666666666666666,\"#ed7953\"],[0.7777777777777778,\"#fb9f3a\"],[0.8888888888888888,\"#fdca26\"],[1.0,\"#f0f921\"]]},\"legend\":{\"tracegroupgap\":0},\"margin\":{\"t\":60},\"width\":800},                        {\"responsive\": true}                    ).then(function(){\n",
       "                            \n",
       "var gd = document.getElementById('5129522f-9245-4d7d-8c43-9831d74e5066');\n",
       "var x = new MutationObserver(function (mutations, observer) {{\n",
       "        var display = window.getComputedStyle(gd).display;\n",
       "        if (!display || display === 'none') {{\n",
       "            console.log([gd, 'removed!']);\n",
       "            Plotly.purge(gd);\n",
       "            observer.disconnect();\n",
       "        }}\n",
       "}});\n",
       "\n",
       "// Listen for the removal of the full notebook cells\n",
       "var notebookContainer = gd.closest('#notebook-container');\n",
       "if (notebookContainer) {{\n",
       "    x.observe(notebookContainer, {childList: true});\n",
       "}}\n",
       "\n",
       "// Listen for the clearing of the current output cell\n",
       "var outputEl = gd.closest('.output');\n",
       "if (outputEl) {{\n",
       "    x.observe(outputEl, {childList: true});\n",
       "}}\n",
       "\n",
       "                        })                };                });            </script>        </div>"
      ]
     },
     "metadata": {},
     "output_type": "display_data"
    }
   ],
   "source": [
    "# Creating a 3D-Scatter with the PCA data and the clusters\n",
    "\n",
    "fig = px.scatter_3d(clustered_df,\n",
    "                   x='P3',\n",
    "                   y='P2',\n",
    "                   z='P1',\n",
    "                    color='class',\n",
    "                   hover_name='CoinName',\n",
    "                   hover_data=['Algorithm'],\n",
    "                   width=800)\n",
    "fig.show()"
   ]
  },
  {
   "cell_type": "code",
   "execution_count": 186,
   "metadata": {},
   "outputs": [
    {
     "data": {},
     "metadata": {},
     "output_type": "display_data"
    },
    {
     "data": {
      "application/vnd.holoviews_exec.v0+json": "",
      "text/html": [
       "<div id='1592'>\n",
       "\n",
       "\n",
       "\n",
       "\n",
       "\n",
       "  <div class=\"bk-root\" id=\"02ab5098-e184-458b-abef-87999ca3b0d7\" data-root-id=\"1592\"></div>\n",
       "</div>\n",
       "<script type=\"application/javascript\">(function(root) {\n",
       "  function embed_document(root) {\n",
       "    var docs_json = {\"543f8e64-d416-4393-9700-aed6d0c61bf0\":{\"defs\":[{\"extends\":null,\"module\":null,\"name\":\"ReactiveHTML1\",\"overrides\":[],\"properties\":[]},{\"extends\":null,\"module\":null,\"name\":\"FlexBox1\",\"overrides\":[],\"properties\":[{\"default\":\"flex-start\",\"kind\":null,\"name\":\"align_content\"},{\"default\":\"flex-start\",\"kind\":null,\"name\":\"align_items\"},{\"default\":\"row\",\"kind\":null,\"name\":\"flex_direction\"},{\"default\":\"wrap\",\"kind\":null,\"name\":\"flex_wrap\"},{\"default\":\"flex-start\",\"kind\":null,\"name\":\"justify_content\"}]},{\"extends\":null,\"module\":null,\"name\":\"TemplateActions1\",\"overrides\":[],\"properties\":[{\"default\":0,\"kind\":null,\"name\":\"open_modal\"},{\"default\":0,\"kind\":null,\"name\":\"close_modal\"}]},{\"extends\":null,\"module\":null,\"name\":\"MaterialTemplateActions1\",\"overrides\":[],\"properties\":[{\"default\":0,\"kind\":null,\"name\":\"open_modal\"},{\"default\":0,\"kind\":null,\"name\":\"close_modal\"}]}],\"roots\":{\"references\":[{\"attributes\":{},\"id\":\"1621\",\"type\":\"NumberFormatter\"},{\"attributes\":{\"editor\":{\"id\":\"1622\"},\"field\":\"class\",\"formatter\":{\"id\":\"1621\"},\"title\":\"class\"},\"id\":\"1623\",\"type\":\"TableColumn\"},{\"attributes\":{},\"id\":\"1595\",\"type\":\"Selection\"},{\"attributes\":{},\"id\":\"1602\",\"type\":\"StringEditor\"},{\"attributes\":{},\"id\":\"1611\",\"type\":\"StringFormatter\"},{\"attributes\":{\"format\":\"0,0.0[00000]\"},\"id\":\"1616\",\"type\":\"NumberFormatter\"},{\"attributes\":{},\"id\":\"1596\",\"type\":\"StringFormatter\"},{\"attributes\":{\"editor\":{\"id\":\"1597\"},\"field\":\"CoinName\",\"formatter\":{\"id\":\"1596\"},\"title\":\"CoinName\"},\"id\":\"1598\",\"type\":\"TableColumn\"},{\"attributes\":{\"children\":[{\"id\":\"1593\"},{\"id\":\"1626\"},{\"id\":\"1633\"}],\"margin\":[0,0,0,0],\"name\":\"Row02508\",\"tags\":[\"embedded\"]},\"id\":\"1592\",\"type\":\"Row\"},{\"attributes\":{},\"id\":\"1601\",\"type\":\"StringFormatter\"},{\"attributes\":{},\"id\":\"1606\",\"type\":\"StringFormatter\"},{\"attributes\":{\"source\":{\"id\":\"1594\"}},\"id\":\"1628\",\"type\":\"CDSView\"},{\"attributes\":{\"editor\":{\"id\":\"1602\"},\"field\":\"Algorithm\",\"formatter\":{\"id\":\"1601\"},\"title\":\"Algorithm\"},\"id\":\"1603\",\"type\":\"TableColumn\"},{\"attributes\":{\"margin\":[5,5,5,5],\"name\":\"HSpacer02512\",\"sizing_mode\":\"stretch_width\"},\"id\":\"1593\",\"type\":\"Spacer\"},{\"attributes\":{},\"id\":\"1607\",\"type\":\"StringEditor\"},{\"attributes\":{},\"id\":\"1622\",\"type\":\"IntEditor\"},{\"attributes\":{\"margin\":[5,5,5,5],\"name\":\"HSpacer02513\",\"sizing_mode\":\"stretch_width\"},\"id\":\"1633\",\"type\":\"Spacer\"},{\"attributes\":{\"editor\":{\"id\":\"1607\"},\"field\":\"ProofType\",\"formatter\":{\"id\":\"1606\"},\"title\":\"ProofType\"},\"id\":\"1608\",\"type\":\"TableColumn\"},{\"attributes\":{},\"id\":\"1612\",\"type\":\"StringEditor\"},{\"attributes\":{\"editor\":{\"id\":\"1617\"},\"field\":\"TotalCoinsMined\",\"formatter\":{\"id\":\"1616\"},\"title\":\"TotalCoinsMined\"},\"id\":\"1618\",\"type\":\"TableColumn\"},{\"attributes\":{\"editor\":{\"id\":\"1612\"},\"field\":\"TotalCoinSupply\",\"formatter\":{\"id\":\"1611\"},\"title\":\"TotalCoinSupply\"},\"id\":\"1613\",\"type\":\"TableColumn\"},{\"attributes\":{},\"id\":\"1629\",\"type\":\"UnionRenderers\"},{\"attributes\":{},\"id\":\"1617\",\"type\":\"NumberEditor\"},{\"attributes\":{},\"id\":\"1597\",\"type\":\"StringEditor\"},{\"attributes\":{\"data\":{\"Algorithm\":[\"Scrypt\",\"Scrypt\",\"X13\",\"SHA-256\",\"Ethash\",\"Scrypt\",\"X11\",\"CryptoNight-V7\",\"Ethash\",\"Equihash\",\"SHA-512\",\"Multiple\",\"SHA-256\",\"SHA-256\",\"Scrypt\",\"X15\",\"X11\",\"Scrypt\",\"Scrypt\",\"Scrypt\",\"Multiple\",\"Scrypt\",\"SHA-256\",\"Scrypt\",\"Scrypt\",\"Scrypt\",\"Quark\",\"Groestl\",\"Scrypt\",\"Scrypt\",\"Scrypt\",\"Scrypt\",\"Scrypt\",\"X11\",\"Scrypt\",\"Groestl\",\"Multiple\",\"SHA-256\",\"Scrypt\",\"Scrypt\",\"Scrypt\",\"Scrypt\",\"PoS\",\"Scrypt\",\"Scrypt\",\"NeoScrypt\",\"Scrypt\",\"Scrypt\",\"Scrypt\",\"Scrypt\",\"X11\",\"Scrypt\",\"X11\",\"SHA-256\",\"Scrypt\",\"Scrypt\",\"Scrypt\",\"SHA3\",\"Scrypt\",\"HybridScryptHash256\",\"Scrypt\",\"Scrypt\",\"SHA-256\",\"Scrypt\",\"X13\",\"Scrypt\",\"SHA-256\",\"Scrypt\",\"X13\",\"NeoScrypt\",\"Scrypt\",\"Scrypt\",\"Scrypt\",\"Scrypt\",\"Scrypt\",\"Scrypt\",\"X11\",\"X11\",\"SHA-256\",\"Multiple\",\"SHA-256\",\"PHI1612\",\"X11\",\"SHA-256\",\"SHA-256\",\"SHA-256\",\"X11\",\"Scrypt\",\"Scrypt\",\"Scrypt\",\"Scrypt\",\"Lyra2REv2\",\"Scrypt\",\"X11\",\"Multiple\",\"SHA-256\",\"X13\",\"Scrypt\",\"CryptoNight\",\"CryptoNight\",\"Shabal256\",\"Counterparty\",\"Scrypt\",\"SHA-256\",\"Groestl\",\"Scrypt\",\"Scrypt\",\"Scrypt\",\"X13\",\"Scrypt\",\"Scrypt\",\"Scrypt\",\"Scrypt\",\"X13\",\"Scrypt\",\"Stanford Folding\",\"X11\",\"Multiple\",\"QuBit\",\"Scrypt\",\"Scrypt\",\"Scrypt\",\"M7 POW\",\"Scrypt\",\"SHA-256\",\"Scrypt\",\"X11\",\"SHA3\",\"X11\",\"Lyra2RE\",\"SHA-256\",\"QUAIT\",\"X11\",\"X11\",\"Scrypt\",\"Scrypt\",\"Scrypt\",\"Ethash\",\"X13\",\"Blake2b\",\"SHA-256\",\"X15\",\"X11\",\"SHA-256\",\"BLAKE256\",\"Scrypt\",\"1GB AES Pattern Search\",\"SHA-256\",\"X11\",\"Scrypt\",\"SHA-256\",\"SHA-256\",\"NIST5\",\"Scrypt\",\"Scrypt\",\"X11\",\"Dagger\",\"Scrypt\",\"X11GOST\",\"X11\",\"Scrypt\",\"SHA-256\",\"Scrypt\",\"PoS\",\"Scrypt\",\"X11\",\"X11\",\"SHA-256\",\"SHA-256\",\"NIST5\",\"X11\",\"Scrypt\",\"POS 3.0\",\"Scrypt\",\"Scrypt\",\"Scrypt\",\"X13\",\"X11\",\"X11\",\"Equihash\",\"X11\",\"Scrypt\",\"CryptoNight\",\"SHA-256\",\"SHA-256\",\"X11\",\"Scrypt\",\"Multiple\",\"Scrypt\",\"Scrypt\",\"Scrypt\",\"SHA-256\",\"Scrypt\",\"Scrypt\",\"SHA-256D\",\"PoS\",\"Scrypt\",\"X11\",\"Lyra2Z\",\"PoS\",\"X13\",\"X14\",\"PoS\",\"SHA-256D\",\"Ethash\",\"Equihash\",\"DPoS\",\"X11\",\"Scrypt\",\"X11\",\"X13\",\"X11\",\"PoS\",\"Scrypt\",\"Scrypt\",\"X11\",\"PoS\",\"X11\",\"SHA-256\",\"Scrypt\",\"X11\",\"Scrypt\",\"Scrypt\",\"X11\",\"CryptoNight\",\"Scrypt\",\"Scrypt\",\"Scrypt\",\"Scrypt\",\"Quark\",\"QuBit\",\"Scrypt\",\"CryptoNight\",\"Lyra2RE\",\"Scrypt\",\"SHA-256\",\"X11\",\"Scrypt\",\"X11\",\"Scrypt\",\"CryptoNight-V7\",\"Scrypt\",\"Scrypt\",\"Scrypt\",\"X13\",\"X11\",\"Equihash\",\"Scrypt\",\"Scrypt\",\"Lyra2RE\",\"Scrypt\",\"Dagger-Hashimoto\",\"X11\",\"Blake2S\",\"X11\",\"Scrypt\",\"PoS\",\"X11\",\"NIST5\",\"PoS\",\"X11\",\"Scrypt\",\"Scrypt\",\"Scrypt\",\"SHA-256\",\"X11\",\"Scrypt\",\"Scrypt\",\"SHA-256\",\"PoS\",\"Scrypt\",\"X15\",\"SHA-256\",\"Scrypt\",\"POS 3.0\",\"CryptoNight-V7\",\"536\",\"Argon2d\",\"Blake2b\",\"Cloverhash\",\"CryptoNight\",\"NIST5\",\"X11\",\"NIST5\",\"Skein\",\"Scrypt\",\"X13\",\"Scrypt\",\"X11\",\"X11\",\"Scrypt\",\"CryptoNight\",\"X13\",\"Time Travel\",\"Scrypt\",\"Keccak\",\"SkunkHash v2 Raptor\",\"X11\",\"Skein\",\"SHA-256\",\"X11\",\"Scrypt\",\"VeChainThor Authority\",\"Scrypt\",\"PoS\",\"Scrypt\",\"Scrypt\",\"Scrypt\",\"Scrypt\",\"Scrypt\",\"Scrypt\",\"Scrypt\",\"CryptoNight\",\"SHA-512\",\"Ouroboros\",\"X11\",\"Equihash\",\"NeoScrypt\",\"X11\",\"Scrypt\",\"NeoScrypt\",\"Lyra2REv2\",\"Equihash\",\"Scrypt\",\"SHA-256\",\"NIST5\",\"PHI1612\",\"Dagger\",\"Scrypt\",\"Quark\",\"Scrypt\",\"POS 2.0\",\"Scrypt\",\"SHA-256\",\"X11\",\"NeoScrypt\",\"Ethash\",\"NeoScrypt\",\"X11\",\"DPoS\",\"NIST5\",\"X13\",\"Multiple\",\"Scrypt\",\"CryptoNight\",\"CryptoNight\",\"Ethash\",\"NIST5\",\"Quark\",\"X11\",\"CryptoNight-V7\",\"Scrypt\",\"Scrypt\",\"Scrypt\",\"X11\",\"BLAKE256\",\"X11\",\"NeoScrypt\",\"Quark\",\"NeoScrypt\",\"Scrypt\",\"Scrypt\",\"Scrypt\",\"X11\",\"X11\",\"SHA-256\",\"C11\",\"POS 3.0\",\"Ethash\",\"Scrypt\",\"CryptoNight\",\"SkunkHash\",\"Scrypt\",\"CryptoNight\",\"Scrypt\",\"Dagger\",\"Lyra2REv2\",\"X13\",\"Proof-of-BibleHash\",\"SHA-256 + Hive\",\"Scrypt\",\"Scrypt\",\"X11\",\"C11\",\"Proof-of-Authority\",\"X11\",\"XEVAN\",\"Scrypt\",\"VBFT\",\"Ethash\",\"CryptoNight\",\"Scrypt\",\"IMesh\",\"NIST5\",\"Scrypt\",\"Scrypt\",\"Equihash\",\"Scrypt\",\"Lyra2Z\",\"Green Protocol\",\"PoS\",\"Scrypt\",\"Semux BFT consensus\",\"X11\",\"Quark\",\"PoS\",\"CryptoNight\",\"X16R\",\"Scrypt\",\"NIST5\",\"Lyra2RE\",\"XEVAN\",\"Tribus\",\"Scrypt\",\"Lyra2Z\",\"CryptoNight\",\"CryptoNight Heavy\",\"CryptoNight\",\"Scrypt\",\"Scrypt\",\"Jump Consistent Hash\",\"SHA-256D\",\"CryptoNight\",\"Scrypt\",\"X15\",\"Scrypt\",\"Quark\",\"SHA-256\",\"DPoS\",\"X16R\",\"HMQ1725\",\"X11\",\"X16R\",\"Quark\",\"Quark\",\"Scrypt\",\"Lyra2REv2\",\"Quark\",\"Scrypt\",\"Scrypt\",\"CryptoNight-V7\",\"Cryptonight-GPU\",\"XEVAN\",\"CryptoNight Heavy\",\"X11\",\"X11\",\"Scrypt\",\"PoS\",\"SHA-256\",\"Keccak\",\"X11\",\"X11\",\"Scrypt\",\"SHA-512\",\"X16R\",\"ECC 256K1\",\"Equihash\",\"XEVAN\",\"Lyra2Z\",\"SHA-256\",\"XEVAN\",\"X11\",\"CryptoNight\",\"Quark\",\"Blake\",\"Blake\",\"Equihash\",\"Exosis\",\"Scrypt\",\"Scrypt\",\"Equihash\",\"Quark\",\"Equihash\",\"Quark\",\"Scrypt\",\"QuBit\",\"X11\",\"Scrypt\",\"XEVAN\",\"SHA-256D\",\"X11\",\"SHA-256\",\"X13\",\"SHA-256\",\"X11\",\"DPoS\",\"Scrypt\",\"Scrypt\",\"X11\",\"NeoScrypt\",\"Scrypt\",\"Blake\",\"Scrypt\",\"SHA-256\",\"Scrypt\",\"X11\",\"Scrypt\",\"Scrypt\",\"SHA-256\",\"X11\",\"SHA-256\",\"Scrypt\",\"Scrypt\",\"Scrypt\",\"Groestl\",\"X11\",\"Scrypt\",\"PoS\",\"Scrypt\",\"Scrypt\",\"X11\",\"SHA-256\",\"DPoS\",\"Scrypt\",\"Scrypt\",\"NeoScrypt\",\"SHA3-256\",\"Multiple\",\"X13\",\"Equihash+Scrypt\",\"DPoS\",\"Ethash\",\"DPoS\",\"SHA-256\",\"Leased POS\",\"PoS\",\"TRC10\",\"PoS\",\"SHA-256\",\"Scrypt\",\"CryptoNight\",\"Equihash\",\"Scrypt\"],\"CoinName\":[\"42 Coin\",\"404Coin\",\"EliteCoin\",\"Bitcoin\",\"Ethereum\",\"Litecoin\",\"Dash\",\"Monero\",\"Ethereum Classic\",\"ZCash\",\"Bitshares\",\"DigiByte\",\"BitcoinDark\",\"PayCoin\",\"ProsperCoin\",\"KoboCoin\",\"Spreadcoin\",\"Argentum\",\"Aurora Coin\",\"BlueCoin\",\"MyriadCoin\",\"MoonCoin\",\"ZetaCoin\",\"SexCoin\",\"Quatloo\",\"EnergyCoin\",\"QuarkCoin\",\"Riecoin\",\"Digitalcoin \",\"BitBar\",\"Catcoin\",\"CryptoBullion\",\"CannaCoin\",\"CryptCoin\",\"CasinoCoin\",\"Diamond\",\"Verge\",\"DevCoin\",\"EarthCoin\",\"E-Gulden\",\"Einsteinium\",\"Emerald\",\"Exclusive Coin\",\"FlutterCoin\",\"Franko\",\"FeatherCoin\",\"GrandCoin\",\"GlobalCoin\",\"GoldCoin\",\"HoboNickels\",\"HyperStake\",\"Infinite Coin\",\"IOCoin\",\"IXcoin\",\"KrugerCoin\",\"LuckyCoin\",\"Litebar \",\"MaxCoin\",\"MegaCoin\",\"MediterraneanCoin\",\"MintCoin\",\"MinCoin\",\"MazaCoin\",\"Nautilus Coin\",\"NavCoin\",\"NobleCoin\",\"Namecoin\",\"NyanCoin\",\"OpalCoin\",\"Orbitcoin\",\"PotCoin\",\"PhoenixCoin\",\"Reddcoin\",\"RonPaulCoin\",\"StableCoin\",\"SmartCoin\",\"SuperCoin\",\"SyncCoin\",\"SysCoin\",\"TeslaCoin\",\"TigerCoin\",\"TittieCoin\",\"TorCoin\",\"TerraCoin\",\"UnbreakableCoin\",\"Unobtanium\",\"UroCoin\",\"UnitaryStatus Dollar\",\"UltraCoin\",\"ViaCoin\",\"VeriCoin\",\"Vertcoin\",\"WorldCoin\",\"X11 Coin\",\"Crypti\",\"JouleCoin\",\"StealthCoin\",\"ZCC Coin\",\"ByteCoin\",\"DigitalNote \",\"BurstCoin\",\"StorjCoin\",\"MonaCoin\",\"Neutron\",\"FairCoin\",\"Gulden\",\"RubyCoin\",\"PesetaCoin\",\"Kore\",\"Wild Beast Coin\",\"Dnotes\",\"Flo\",\"8BIT Coin\",\"Sativa Coin\",\"ArtByte\",\"Folding Coin\",\"Ucoin\",\"Unitus\",\"CypherPunkCoin\",\"OmniCron\",\"Vtorrent\",\"GreenCoin\",\"Cryptonite\",\"MasterCoin\",\"SoonCoin\",\"1Credit\",\"IslaCoin\",\"Nexus\",\"MarsCoin \",\"Crypto\",\"Anarchists Prime\",\"Droidz\",\"BowsCoin\",\"Squall Coin\",\"Song Coin\",\"BitZeny\",\"Diggits\",\"Expanse\",\"Paycon\",\"Siacoin\",\"Emercoin\",\"EverGreenCoin\",\"MindCoin\",\"I0coin\",\"Decred\",\"Revolution VR\",\"HOdlcoin\",\"EDRCoin\",\"Hitcoin\",\"Gamecredits\",\"DubaiCoin\",\"CarpeDiemCoin\",\"PWR Coin\",\"BillaryCoin\",\"GPU Coin\",\"Adzcoin\",\"SoilCoin\",\"YoCoin\",\"SibCoin\",\"EuropeCoin\",\"ZeitCoin\",\"SwingCoin\",\"SafeExchangeCoin\",\"Nebuchadnezzar\",\"Francs\",\"BolivarCoin\",\"Ratecoin\",\"Revenu\",\"Clockcoin\",\"VIP Tokens\",\"BitSend\",\"Omni\",\"Let it Ride\",\"PutinCoin\",\"iBankCoin\",\"Frankywillcoin\",\"MudraCoin\",\"PizzaCoin\",\"Lutetium Coin\",\"Komodo\",\"GoldBlocks\",\"CarterCoin\",\"Karbo\",\"BitTokens\",\"ZayedCoin\",\"MustangCoin\",\"ZoneCoin\",\"Circuits of Value\",\"RootCoin\",\"DopeCoin\",\"BitCurrency\",\"DollarCoin\",\"Swiscoin\",\"Shilling\",\"BuzzCoin\",\"Opair\",\"PesoBit\",\"Halloween Coin\",\"ZCoin\",\"CoffeeCoin\",\"RoyalCoin\",\"GanjaCoin V2\",\"TeamUP\",\"LanaCoin\",\"Elementrem\",\"ZClassic\",\"ARK\",\"InsaneCoin\",\"KiloCoin\",\"ArtexCoin\",\"EmberCoin\",\"XenixCoin\",\"FreeCoin\",\"PLNCoin\",\"AquariusCoin\",\"Kurrent\",\"Creatio\",\"Eternity\",\"Eurocoin\",\"BitcoinFast\",\"Stakenet\",\"BitConnect Coin\",\"MoneyCoin\",\"Enigma\",\"Cannabis Industry Coin\",\"Russiacoin\",\"PandaCoin\",\"GameUnits\",\"GAKHcoin\",\"Allsafe\",\"LiteCreed\",\"OsmiumCoin\",\"Bikercoins\",\"HexxCoin\",\"Klingon Empire Darsek\",\"Internet of People\",\"KushCoin\",\"Printerium\",\"PacCoin\",\"Impeach\",\"Citadel\",\"Zilbercoin\",\"FirstCoin\",\"BeaverCoin\",\"FindCoin\",\"VaultCoin\",\"Zero\",\"OpenChat\",\"Canada eCoin\",\"Zoin\",\"RenosCoin\",\"DubaiCoin\",\"VirtacoinPlus\",\"TajCoin\",\"Impact\",\"EB3coin\",\"Atmos\",\"HappyCoin\",\"Coinonat\",\"MacronCoin\",\"Condensate\",\"Independent Money System\",\"ArgusCoin\",\"LomoCoin\",\"ProCurrency\",\"GoldReserve\",\"BenjiRolls\",\"GrowthCoin\",\"ILCoin\",\"Phreak\",\"Degas Coin\",\"HTML5 Coin\",\"Ultimate Secure Cash\",\"EquiTrader\",\"QTUM\",\"Quantum Resistant Ledger\",\"Espers\",\"Dynamic\",\"Nano\",\"ChanCoin\",\"Dinastycoin\",\"Denarius\",\"DigitalPrice\",\"Virta Unique Coin\",\"Bitcoin Planet\",\"Unify\",\"BritCoin\",\"SocialCoin\",\"ArcticCoin\",\"DAS\",\"Linda\",\"LeviarCoin\",\"DeepOnion\",\"Bitcore\",\"gCn Coin\",\"SmartCash\",\"Signatum\",\"Onix\",\"Cream\",\"Bitcoin Cash\",\"Monoeci\",\"Draftcoin\",\"Vechain\",\"Sojourn Coin\",\"Stakecoin\",\"NewYorkCoin\",\"FrazCoin\",\"Kronecoin\",\"AdCoin\",\"Linx\",\"CoinonatX\",\"Ethereum Dark\",\"Sumokoin\",\"Obsidian\",\"Cardano\",\"Regalcoin\",\"BitcoinZ\",\"TrezarCoin\",\"Elements\",\"TerraNovaCoin\",\"VIVO Coin\",\"Rupee\",\"Bitcoin Gold\",\"WomenCoin\",\"Theresa May Coin\",\"NamoCoin\",\"LUXCoin\",\"Pirl\",\"Xios\",\"Bitcloud 2.0\",\"eBoost\",\"KekCoin\",\"BlackholeCoin\",\"Infinity Economics\",\"Pura\",\"Innova\",\"Ellaism\",\"GoByte\",\"Magnet\",\"Lamden Tau\",\"Electra\",\"Bitcoin Diamond\",\"SHIELD\",\"Cash & Back Coin\",\"UltraNote\",\"BitCoal\",\"DaxxCoin\",\"Bulwark\",\"Kalkulus\",\"AC3\",\"Lethean\",\"GermanCoin\",\"LiteCoin Ultra\",\"PopularCoin\",\"PhantomX\",\"Photon\",\"Sucre\",\"SparksPay\",\"Digiwage\",\"GunCoin\",\"IrishCoin\",\"Trollcoin\",\"Litecoin Plus\",\"Monkey Project\",\"Pioneer Coin\",\"UnitedBitcoin\",\"Interzone\",\"TokenPay\",\"1717 Masonic Commemorative Token\",\"My Big Coin\",\"TurtleCoin\",\"MUNcoin\",\"Unified Society USDEX\",\"Niobio Cash\",\"ShareChain\",\"Travelflex\",\"KREDS\",\"Tokyo Coin\",\"BiblePay\",\"LitecoinCash\",\"BitFlip\",\"LottoCoin\",\"Crypto Improvement Fund\",\"Stipend\",\"Poa Network\",\"Pushi\",\"Ellerium\",\"Velox\",\"Ontology\",\"Callisto Network\",\"BitTube\",\"Poseidon\",\"Aidos Kuneen\",\"Bitspace\",\"Briacoin\",\"Ignition\",\"Bitrolium\",\"MedicCoin\",\"Alpenschillling\",\"Bitcoin Green\",\"Deviant Coin\",\"Abjcoin\",\"Semux\",\"FuturoCoin\",\"Carebit\",\"Zealium\",\"Monero Classic\",\"Proton\",\"iDealCash\",\"Jumpcoin\",\"Infinex\",\"Bitcoin Incognito\",\"KEYCO\",\"HollyWoodCoin\",\"GINcoin\",\"PlatinCoin\",\"Loki\",\"Newton Coin\",\"Swisscoin\",\"Xt3ch\",\"MassGrid\",\"TheVig\",\"PluraCoin\",\"EmaratCoin\",\"Dekado\",\"Lynx\",\"Poseidon Quark\",\"BitcoinWSpectrum\",\"Muse\",\"Motion\",\"PlusOneCoin\",\"Axe\",\"Trivechain\",\"Dystem\",\"Giant\",\"Peony Coin\",\"Absolute Coin\",\"Vitae\",\"HexCoin\",\"TPCash\",\"Webchain\",\"Ryo\",\"Urals Coin\",\"Qwertycoin\",\"ARENON\",\"EUNO\",\"MMOCoin\",\"Ketan\",\"Project Pai\",\"XDNA\",\"PAXEX\",\"Azart\",\"ThunderStake\",\"Kcash\",\"Xchange\",\"Acute Angle Cloud\",\"CrypticCoin\",\"Bettex coin\",\"Actinium\",\"Bitcoin SV\",\"BitMoney\",\"Junson Ming Chan Coin\",\"FREDEnergy\",\"HerbCoin\",\"Universal Molecule\",\"Lithium\",\"PirateCash\",\"Exosis\",\"Block-Logic\",\"Oduwa\",\"Beam\",\"Galilel\",\"Bithereum\",\"Crypto Sports\",\"Credit\",\"SLICE\",\"Dash Platinum\",\"Nasdacoin\",\"Beetle Coin\",\"Titan Coin\",\"Award\",\"BLAST\",\"Bitcoin Rhodium\",\"GlobalToken\",\"Insane Coin\",\"ALAX\",\"LiteDoge\",\"SolarCoin\",\"TruckCoin\",\"UFO Coin\",\"OrangeCoin\",\"BlakeCoin\",\"BitstarCoin\",\"NeosCoin\",\"HyperCoin\",\"PinkCoin\",\"Crypto Escudo\",\"AudioCoin\",\"IncaKoin\",\"Piggy Coin\",\"Crown Coin\",\"Genstake\",\"SmileyCoin\",\"XiaoMiCoin\",\"Groestlcoin\",\"CapriCoin\",\" ClubCoin\",\"Radium\",\"Bata\",\"Pakcoin\",\"Creditbit \",\"OKCash\",\"Lisk\",\"HiCoin\",\"WhiteCoin\",\"FriendshipCoin\",\"Fiii\",\"JoinCoin\",\"Triangles Coin\",\"Vollar\",\"EOS\",\"Reality Clash\",\"Oxycoin\",\"TigerCash\",\"Waves\",\"Particl\",\"BitTorrent\",\"Nxt\",\"ZEPHYR\",\"Gapcoin\",\"Beldex\",\"Horizen\",\"BitcoinPlus\"],\"ProofType\":[\"PoW/PoS\",\"PoW/PoS\",\"PoW/PoS\",\"PoW\",\"PoW\",\"PoW\",\"PoW/PoS\",\"PoW\",\"PoW\",\"PoW\",\"PoS\",\"PoW\",\"PoW/PoS\",\"PoS\",\"PoW\",\"PoW/PoS\",\"PoW\",\"PoW\",\"PoW/PoS\",\"PoW/PoS\",\"PoW\",\"PoW\",\"PoW\",\"PoW\",\"PoW\",\"PoW/PoS\",\"PoW\",\"PoW\",\"PoW\",\"PoW/PoS\",\"PoW\",\"PoW/PoS\",\"PoW\",\"PoW\",\"PoC\",\"PoW/PoS\",\"PoW\",\"PoW\",\"PoW\",\"PoW\",\"PoW\",\"PoW\",\"PoS\",\"PoS/PoW/PoT\",\"PoW\",\"PoW\",\"PoW\",\"PoW\",\"PoW\",\"PoW/PoS\",\"PoS\",\"PoW\",\"PoW/PoS\",\"PoW\",\"PoW\",\"PoW\",\"PoW\",\"PoW/PoS\",\"PoW\",\"PoW\",\"PoS\",\"PoW\",\"PoW/PoS\",\"PoS\",\"PoW/PoS\",\"PoW\",\"PoW\",\"PoW\",\"PoW/PoS\",\"PoW/PoS\",\"PoW/PoS\",\"PoW/PoS\",\"PoW/PoS\",\"PoW\",\"PoW\",\"PoW\",\"PoS\",\"PoW/PoS\",\"PoW\",\"PoS\",\"PoW\",\"PoS\",\"PoW/PoS\",\"PoW\",\"PoW\",\"PoW\",\"PoW\",\"PoW/PoS\",\"PoW/PoS\",\"PoW\",\"PoST\",\"PoW\",\"PoW\",\"PoW/PoS\",\"PoS\",\"PoW\",\"PoW/PoS\",\"PoW/PoS\",\"PoW\",\"PoW\",\"PoC\",\"PoS\",\"PoW\",\"PoW/PoS\",\"PoW/PoS\",\"PoW\",\"PoS\",\"PoW\",\"PoW/PoS\",\"PoW\",\"PoS\",\"PoW\",\"PoW/PoS\",\"PoW/PoS\",\"PoW\",\"PoW\",\"PoS\",\"PoW\",\"PoW\",\"PoW\",\"PoW/PoS\",\"PoW\",\"PoW\",\"PoW\",\"PoW\",\"PoW\",\"PoW/PoS\",\"PoW/nPoS\",\"PoW\",\"PoW\",\"PoW\",\"PoW/PoS\",\"PoW\",\"PoS/PoW\",\"PoW\",\"PoW\",\"PoS\",\"PoW\",\"PoW/PoS\",\"PoW\",\"PoW/PoS\",\"PoW/PoS\",\"PoW\",\"PoW\",\"PoW/PoS\",\"PoW\",\"PoW\",\"PoW/PoS\",\"PoW/PoS\",\"PoW\",\"PoW/PoS\",\"PoW\",\"PoW/PoS\",\"PoW/PoS\",\"PoS\",\"PoW\",\"PoW\",\"PoW\",\"PoW\",\"PoW/PoS\",\"PoS\",\"PoW/PoS\",\"PoC\",\"PoS\",\"PoW\",\"PoW\",\"PoW/PoS\",\"PoW/PoS\",\"PoW/PoS\",\"PoW/PoS\",\"PoW/PoS\",\"PoW\",\"PoS\",\"PoW/PoS\",\"PoW/PoS\",\"PoW/PoS\",\"PoS\",\"PoW\",\"PoS\",\"dPoW/PoW\",\"PoW/PoS\",\"PoW/PoS\",\"PoW\",\"PoW/PoS\",\"PoW\",\"PoW/PoS\",\"PoW/PoS\",\"PoW\",\"PoW/PoS\",\"PoW\",\"PoS\",\"PoW\",\"PoW/PoW\",\"PoW\",\"PoW/PoS\",\"PoS\",\"PoW/PoS\",\"PoW/PoS\",\"PoW\",\"PoS\",\"PoS\",\"PoW/PoS\",\"PoS\",\"PoW/PoS\",\"PoW\",\"PoW\",\"DPoS\",\"PoW/PoS\",\"PoW\",\"PoW\",\"PoW/PoS\",\"PoW/PoS\",\"PoS\",\"PoW/PoS\",\"PoW/PoS\",\"PoW\",\"PoS\",\"PoW/PoS\",\"PoW/PoS\",\"PoW/PoS\",\"TPoS\",\"PoW/PoS\",\"PoW/PoS\",\"PoW/PoS\",\"PoW\",\"PoW/PoS\",\"PoS\",\"PoW/PoS\",\"PoW/PoS\",\"PoS\",\"PoW/PoS\",\"PoW\",\"PoW\",\"PoW\",\"PoW/PoS\",\"PoW/PoS\",\"PoW/PoS\",\"PoW/PoS\",\"PoW\",\"PoW/PoS\",\"PoW\",\"PoS\",\"PoW/PoS \",\"PoW\",\"PoS\",\"PoW\",\"PoW\",\"PoW/PoS\",\"PoW\",\"PoW\",\"PoS\",\"PoW\",\"PoW/PoS\",\"PoW/PoS\",\"PoW/PoS\",\"PoW\",\"PoS\",\"PoW/PoS\",\"PoW\",\"PoS\",\"PoW/PoS\",\"PoW/PoS\",\"PoW/PoS\",\"PoW/PoS\",\"PoS\",\"PoW/PoS\",\"PoW\",\"PoS\",\"PoW\",\"PoS\",\"PoW/PoS\",\"PoW/PoS\",\"PoS\",\"PoW\",\"PoS\",\"PoW\",\"PoW/PoS\",\"PoW\",\"PoW\",\"PoW\",\"PoW\",\"PoW/PoS\",\"PoW\",\"PoW/PoS\",\"PoW/PoS\",\"PoW\",\"PoW/PoS\",\"PoW\",\"PoW\",\"PoW\",\"PoW/PoS\",\"PoW\",\"PoW/PoS\",\"PoW\",\"PoW\",\"PoW\",\"PoS\",\"PoW\",\"PoW/PoS\",\"PoW\",\"PoW/PoS\",\"PoS\",\"Proof of Authority\",\"PoW\",\"PoS\",\"PoW\",\"PoW\",\"PoW\",\"PoW\",\"PoW\",\"PoW/PoS\",\"PoW/PoS\",\"PoW\",\"PoS\",\"PoS\",\"PoW/PoS\",\"PoW\",\"PoW/PoS\",\"PoW\",\"PoW/PoS\",\"PoW\",\"PoS\",\"PoW\",\"PoW/PoS\",\"PoW/PoS\",\"PoW/PoS\",\"PoW/PoS\",\"PoW\",\"PoW/PoS\",\"PoW/PoS\",\"PoW\",\"PoS\",\"PoW/PoS\",\"PoS\",\"PoW\",\"PoW\",\"PoW\",\"PoW\",\"PoW/PoS\",\"DPoS\",\"PoW/PoS\",\"PoW/PoS\",\"PoW\",\"PoW/PoS\",\"PoW\",\"PoW\",\"PoW\",\"PoS\",\"PoS\",\"PoW\",\"PoW\",\"PoW/PoS\",\"PoW/PoS\",\"PoW\",\"PoW/PoS\",\"PoW\",\"PoW\",\"PoW\",\"PoS\",\"PoW\",\"PoW\",\"PoW/PoS\",\"PoW/PoS\",\"PoS\",\"PoW\",\"PoW\",\"PoW\",\"PoS\",\"PoS\",\"PoW and PoS\",\"PoW\",\"PoW\",\"PoW/PoS\",\"PoW\",\"PoW\",\"PoW\",\"PoW\",\"PoS\",\"POBh\",\"PoW + Hive\",\"PoW\",\"PoW\",\"PoW\",\"PoW/PoS\",\"PoA\",\"PoW/PoS\",\"PoW/PoS\",\"PoS\",\"PoS\",\"PoW\",\"PoW\",\"PoW\",\"PoW\",\"PoW/PoS\",\"PoW/PoS\",\"PoW/PoS\",\"PoW\",\"PoS\",\"PoW\",\"PoS\",\"PoS\",\"PoW/PoS\",\"DPoS\",\"PoW\",\"PoW/PoS\",\"PoS\",\"PoW\",\"PoS\",\"PoW/PoS\",\"PoW\",\"PoW\",\"PoS/PoW\",\"PoW\",\"PoS\",\"PoW\",\"PoW\",\"PoW\",\"PoW\",\"PoW/PoS\",\"PoS\",\"PoW\",\"PoW/PoS\",\"PoW\",\"PoW/PoS\",\"PoS\",\"HPoW\",\"PoS\",\"PoS\",\"PoS\",\"PoW\",\"PoW\",\"PoW\",\"PoW/PoS\",\"PoS\",\"PoW/PoS\",\"PoS\",\"PoW/PoS\",\"PoS\",\"PoW\",\"PoW/PoS\",\"PoW\",\"PoW\",\"PoW\",\"PoW\",\"PoS\",\"PoW/PoS\",\"PoS\",\"PoS\",\"PoW\",\"PoW/PoS\",\"PoS\",\"PoW\",\"PoW/PoS\",\"Zero-Knowledge Proof\",\"PoW\",\"DPOS\",\"PoW\",\"PoS\",\"PoW\",\"PoW\",\"Pos\",\"PoS\",\"PoW\",\"PoW/PoS\",\"PoW\",\"PoW\",\"PoS\",\"PoW\",\"PoW\",\"PoW/PoS\",\"PoW\",\"PoW/PoS\",\"PoW\",\"PoS\",\"PoW/PoS\",\"PoW\",\"PoS\",\"PoW/PoS\",\"PoW/PoS\",\"PoW/PoS\",\"PoW/PoS\",\"PoW\",\"PoW\",\"PoW\",\"PoW/PoS\",\"DPoS\",\"PoW/PoS\",\"PoW\",\"PoW/PoS\",\"PoW\",\"PoW/PoS\",\"PoW\",\"PoW/PoS\",\"PoS\",\"PoW/PoS\",\"PoW/PoS\",\"PoW\",\"PoW/PoS\",\"PoW/PoS\",\"PoW/PoS\",\"PoW\",\"PoW/PoS\",\"PoW\",\"PoW/PoS\",\"PoW\",\"PoW/PoS\",\"PoW/PoS\",\"PoS\",\"PoW\",\"PoW\",\"Proof of Trust\",\"PoW/PoS\",\"DPoS\",\"PoS\",\"PoW/PoS\",\"PoW/PoS\",\"DPoC\",\"PoW\",\"PoW/PoS\",\"PoW\",\"DPoS\",\"PoW\",\"DPoS\",\"PoS\",\"LPoS\",\"PoS\",\"DPoS\",\"PoS/LPoS\",\"DPoS\",\"PoW/PoS\",\"PoW\",\"PoW\",\"PoS\"],\"TotalCoinSupply\":[\"42\",\"532000000\",\"314159265359\",\"21000000\",\"0\",\"84000000\",\"22000000\",\"0\",\"210000000\",\"21000000\",\"3600570502\",\"21000000000\",\"22000000\",\"12500000\",\"21000000\",\"350000000\",\"20000000\",\"64000000\",\"16768584\",\"0\",\"2000000000\",\"384000000000\",\"169795588\",\"250000000\",\"100000000\",\"0\",\"247000000\",\"84000000\",\"48166000\",\"500000\",\"21000000 \",\"1000000\",\"13140000\",\"18000000\",\"40000000000\",\"4380000\",\"16555000000\",\"21000000000\",\"13500000000\",\"21000000 \",\"299792458\",\"32000000\",\"0\",\"0\",\"11235813\",\"336000000\",\"1420609614\",\"70000000\",\"72245700\",\"120000000\",\"0\",\"90600000000\",\"22000000\",\"21000000\",\"265420800\",\"20000000\",\"1350000\",\"100000000\",\"42000000\",\"200000000\",\"0\",\"10000000\",\"2419200000\",\"16180000\",\"0\",\"15000000000\",\"21000000\",\"337000000\",\"0\",\"3770000\",\"420000000\",\"98000000\",\"0\",\"21000000\",\"250000000\",\"51200000\",\"0\",\"1000\",\"888000000\",\"100000000\",\"47011968\",\"2300000000\",\"10000000\",\"42000000\",\"80000000\",\"250000\",\"0\",\"1600000000\",\"100000000\",\"23000000\",\"0\",\"84000000\",\"265420800\",\"5500000\",\"0\",\"45000000\",\"0\",\"1000000000\",\"184467440735\",\"10000000000\",\"2158812800\",\"500000000\",\"105120000\",\"68000000\",\"0\",\"1680000000\",\"0\",\"166386000\",\"12000000\",\"2628000\",\"500000000\",\"160000000\",\"0\",\"10000000\",\"1000000000\",\"1000000000\",\"20000000\",\"0\",\"0\",\"3371337\",\"20000000\",\"10000000000\",\"1840000000\",\"619478\",\"21000000\",\"92000000000\",\"0\",\"78000000\",\"33000000\",\"65789100\",\"53760000\",\"5060000\",\"21000000\",\"0\",\"210240000\",\"250000000\",\"100000000\",\"16906397\",\"50000000\",\"0\",\"1000000000\",\"26298000\",\"16000000\",\"21000000\",\"21000000\",\"210000000\",\"81962100\",\"22000000\",\"26550000000\",\"84000000\",\"10500000\",\"21626280000 \",\"0\",\"42000000\",\"221052632\",\"84000000\",\"30000000\",\"168351300\",\"24000000\",\"384000000\",\" 99000000000\",\"40000000\",\"2147483647\",\"20000000\",\"20000000\",\"25000000\",\"75000000\",\"222725000\",\"525000000\",\"90000000\",\"139000000\",\"616448\",\"33500000\",\"2000000000\",\"44333333\",\"100000000\",\"200000000\",\"25000000\",\"657000000\",\"200000000\",\"50000000\",\"90000000\",\"10000000\",\"21000000\",\"9736000\",\"3000000\",\"21000000\",\"1200000000\",\"0\",\"200000000\",\"0\",\"10638298\",\"3100000000\",\"30000000\",\"20000000000\",\"74000000\",\"0\",\"1500000000\",\"21400000\",\"39999898\",\"2500124\",\"100000000\",\"301000000\",\"7506000000\",\"26205539\",\"21000000\",\"125000000\",\"30000000\",\"10000000000\",\"500000000\",\"850000000\",\"3853326.77707314\",\"50000000\",\"38540000 \",\"42000000\",\"228000000\",\"20000000\",\"60000000\",\"20000000\",\"33000000\",\"76500000\",\"28000000\",\"650659833\",\"5000000\",\"21000000\",\"144000000\",\"32514916898\",\"13000000\",\"3315789\",\"15000000\",\"78835200\",\"2714286\",\"25000000\",\"9999999\",\"500000000\",\"21000000\",\"9354000\",\"20000000\",\"100000000000\",\"21933333\",\"185000000\",\"55000000\",\"110000000\",\"3360000\",\"14524851.4827\",\"1000000000\",\"17000000\",\"1000000000\",\"100000000 \",\"21000000\",\"34426423\",\"2232901\",\"100000000\",\"36900000\",\"110000000\",\"4000000000\",\"110290030\",\"100000000\",\"48252000\",\"400000000\",\"500000000\",\"21212121\",\"28600000\",\"1000000000\",\"75000000000\",\"40000000\",\"35520400\",\"2000000000\",\"2500000000\",\"30000000\",\"105000000\",\"90000000000\",\"200084200\",\"72000000\",\"100000000\",\"105000000\",\"50000000000\",\"0\",\"340282367\",\"30000000\",\"2000000000\",\"10000000\",\"100000000\",\"120000000\",\"100000000\",\"19276800\",\"30000000\",\" 75000000\",\"60000000\",\"18900000\",\"50000000000\",\"54000000\",\"18898187.6216583\",\"21000000\",\"200000000000\",\"5000000000\",\"137500000\",\"1100000000\",\"100000000\",\"21000000\",\"9507271\",\"17405891.19707116\",\"86712634466\",\"10500000000\",\"61599965\",\"0\",\"20000000\",\"84000000\",\"100000000\",\"100000000\",\"48252000\",\"4200000\",\"88888888\",\"91388946\",\"45000000000\",\"27000000\",\"21000000000\",\"400000000\",\"1800000000\",\"15733333\",\"27000000\",\"24000000\",\"21000000\",\"25000000000\",\"100000000\",\"1200000000\",\"60000000\",\"156306732.71\",\"21000000\",\"200000000\",\"100000000\",\"21000000\",\"14788275.991\",\"9000000000\",\"350000000\",\"45000000\",\"280000000\",\"31800000\",\"144000000\",\"500000000\",\"30000000000\",\"210000000\",\"660000000\",\"210000000\",\"85000000000\",\"12500000\",\"10000000000\",\"27716121\",\"20000000\",\"550000000\",\"999481516\",\"50000000000\",\"150000000\",\"4999999999\",\"50000000\",\" 90000000000\",\"19800000\",\"21000000\",\"120000000\",\"500000000\",\"64000000\",\"900000000\",\"4000000\",\"21000000\",\"23000000\",\"20166000\",\"23000000\",\"25000000\",\"1618033\",\"30000000\",\"1000000000000\",\"16600000\",\"232000000\",\"336000000\",\"10000000000\",\"100000000\",\"1100000000\",\"800000000\",\"5200000000\",\"840000000\",\"40000000\",\"18406979840\",\"500000000\",\"19340594\",\"252460800\",\"25000000\",\"60000000\",\"124000000\",\"1000000000\",\"6500000000\",\"1000000000\",\"21000000\",\"25000000\",\"50000000\",\"3000000\",\"5000000\",\"70000000\",\"500000000\",\"300000000\",\"21000000\",\"88000000\",\"30000000\",\"100000000\",\"100000000\",\"200000000\",\"80000000\",\"18400000\",\"45000000\",\"5121951220\",\"21000000\",\"26280000\",\"21000000\",\"18000000\",\"26000000\",\"10500000\",\"600000518\",\"150000000\",\"184000000000\",\"10200000000\",\"44000000\",\"168000000\",\"100000000\",\"1000000000\",\"84000000\",\"90000000\",\"92000000000\",\"650000000 \",\"100262205\",\"18081806 \",\"22075700\",\"21000000\",\"21000000\",\"82546564\",\"21000000\",\"5151000\",\"16880000000\",\"52500000\",\"100000000\",\"22105263\",\"1000000000\",\"1750000000\",\"88188888\",\"210000000\",\"184470000000\",\"55000000\",\"50000000\",\"260000000\",\"210000000\",\"2100000000\",\"366000000\",\"100000000\",\"25000000\",\"18000000000\",\"1000000000\",\"100000000\",\"1000000000\",\"7600000000\",\"50000000\",\"84000000\",\"21000000\",\"70000000000\",\"0\",\"8080000000\",\"54000000\",\"105120001.44\",\"25228800\",\"105000000\",\"21000000\",\"120000000\",\"21000000\",\"262800000\",\"19035999\",\"30886000\",\"13370000\",\"74800000000\",\"100000000\",\"19700000\",\"84000000\",\"500000000\",\"5000000000\",\"420000000\",\"64000000\",\"2100000\",\"168000000\",\"30000000\",\"1000000000\",\"35000000000\",\"98100000000\",\"0\",\"4000000000\",\"200000000\",\"7000000000\",\"54256119\",\"21000000\",\"0\",\"500000000\",\"1000000000\",\"10500000000\",\"190000000\",\"1000000000\",\"42000000\",\"15000000\",\"50000000000\",\"400000000\",\"105000000\",\"208000000\",\"160000000\",\"9000000\",\"5000000\",\"182000000\",\"16504333\",\"105000000\",\"159918400\",\"10008835635\",\"300000000\",\"60168145\",\"5000000000\",\"2800000\",\"120000\",\"2100000000\",\"0\",\"24487944\",\"0\",\"1000000000\",\"100000000\",\"8634140\",\"990000000000\",\"1000000000\",\"2000000000\",\"250000000\",\"1400222610\",\"21000000\",\"1000000\"],\"TotalCoinsMined\":{\"__ndarray__\":\"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\",\"dtype\":\"float64\",\"order\":\"little\",\"shape\":[533]},\"class\":{\"__ndarray__\":\"AAAAAAAAAAAAAAAAAQAAAAEAAAABAAAAAAAAAAEAAAABAAAAAQAAAAAAAAABAAAAAAAAAAAAAAABAAAAAAAAAAEAAAABAAAAAAAAAAAAAAABAAAAAQAAAAEAAAABAAAAAQAAAAAAAAABAAAAAQAAAAEAAAAAAAAAAQAAAAAAAAABAAAAAQAAAAAAAAAAAAAAAQAAAAEAAAABAAAAAQAAAAEAAAABAAAAAAAAAAAAAAABAAAAAQAAAAEAAAABAAAAAQAAAAAAAAAAAAAAAQAAAAAAAAABAAAAAQAAAAEAAAABAAAAAAAAAAEAAAABAAAAAAAAAAEAAAAAAAAAAAAAAAAAAAABAAAAAQAAAAEAAAAAAAAAAAAAAAAAAAAAAAAAAAAAAAEAAAABAAAAAQAAAAAAAAAAAAAAAQAAAAAAAAABAAAAAAAAAAAAAAABAAAAAQAAAAEAAAABAAAAAAAAAAAAAAABAAAAAAAAAAEAAAABAAAAAAAAAAAAAAABAAAAAAAAAAAAAAABAAAAAQAAAAAAAAAAAAAAAQAAAAAAAAAAAAAAAQAAAAAAAAABAAAAAAAAAAEAAAAAAAAAAQAAAAAAAAAAAAAAAQAAAAEAAAAAAAAAAQAAAAEAAAABAAAAAAAAAAEAAAABAAAAAQAAAAEAAAABAAAAAAAAAAAAAAABAAAAAQAAAAEAAAAAAAAAAQAAAAAAAAABAAAAAQAAAAAAAAABAAAAAAAAAAEAAAAAAAAAAAAAAAEAAAABAAAAAAAAAAEAAAABAAAAAAAAAAAAAAABAAAAAAAAAAEAAAAAAAAAAAAAAAAAAAABAAAAAQAAAAEAAAABAAAAAAAAAAAAAAAAAAAAAAAAAAAAAAABAAAAAQAAAAAAAAAAAAAAAAAAAAAAAAAAAAAAAQAAAAAAAAAAAAAAAAAAAAAAAAAAAAAAAQAAAAAAAAABAAAAAAAAAAAAAAABAAAAAAAAAAEAAAAAAAAAAAAAAAEAAAAAAAAAAQAAAAAAAAABAAAAAAAAAAEAAAAAAAAAAAAAAAAAAAAAAAAAAQAAAAAAAAAAAAAAAAAAAAAAAAAAAAAAAQAAAAEAAAAAAAAAAAAAAAEAAAABAAAAAAAAAAAAAAAAAAAAAAAAAAAAAAABAAAAAAAAAAAAAAAAAAAAAAAAAAAAAAAAAAAAAAAAAAAAAAABAAAAAAAAAAAAAAAAAAAAAAAAAAAAAAAAAAAAAQAAAAEAAAABAAAAAAAAAAAAAAAAAAAAAAAAAAEAAAAAAAAAAQAAAAAAAAAAAAAAAQAAAAAAAAABAAAAAQAAAAAAAAABAAAAAQAAAAAAAAABAAAAAAAAAAAAAAAAAAAAAQAAAAAAAAAAAAAAAQAAAAAAAAAAAAAAAAAAAAAAAAAAAAAAAAAAAAAAAAABAAAAAAAAAAEAAAAAAAAAAAAAAAAAAAAAAAAAAQAAAAAAAAABAAAAAAAAAAEAAAABAAAAAQAAAAEAAAAAAAAAAQAAAAAAAAAAAAAAAQAAAAAAAAABAAAAAQAAAAEAAAAAAAAAAQAAAAAAAAABAAAAAQAAAAEAAAAAAAAAAQAAAAAAAAABAAAAAAAAAAAAAAAAAAAAAQAAAAAAAAABAAAAAQAAAAEAAAABAAAAAQAAAAAAAAAAAAAAAQAAAAAAAAAAAAAAAAAAAAEAAAAAAAAAAQAAAAAAAAABAAAAAAAAAAEAAAAAAAAAAAAAAAAAAAAAAAAAAQAAAAAAAAAAAAAAAQAAAAAAAAAAAAAAAAAAAAEAAAABAAAAAQAAAAEAAAAAAAAAAAAAAAAAAAAAAAAAAQAAAAAAAAABAAAAAQAAAAEAAAAAAAAAAAAAAAEAAAABAAAAAAAAAAAAAAABAAAAAAAAAAEAAAABAAAAAQAAAAAAAAABAAAAAQAAAAAAAAAAAAAAAAAAAAEAAAABAAAAAQAAAAAAAAAAAAAAAAAAAAEAAAABAAAAAAAAAAEAAAABAAAAAQAAAAEAAAAAAAAAAwAAAAMAAAABAAAAAQAAAAEAAAAAAAAAAwAAAAAAAAAAAAAAAAAAAAAAAAABAAAAAQAAAAEAAAABAAAAAAAAAAAAAAAAAAAAAQAAAAAAAAABAAAAAAAAAAAAAAAAAAAAAAAAAAEAAAAAAAAAAAAAAAEAAAAAAAAAAAAAAAEAAAABAAAAAAAAAAEAAAAAAAAAAQAAAAEAAAABAAAAAQAAAAAAAAAAAAAAAQAAAAAAAAABAAAAAAAAAAAAAAAAAAAAAAAAAAAAAAAAAAAAAQAAAAEAAAABAAAAAAAAAAAAAAAAAAAAAAAAAAAAAAAAAAAAAQAAAAAAAAABAAAAAQAAAAEAAAABAAAAAAAAAAAAAAAAAAAAAAAAAAEAAAAAAAAAAAAAAAEAAAAAAAAAAAAAAAEAAAADAAAAAQAAAAAAAAABAAAAAQAAAAAAAAAAAAAAAQAAAAAAAAABAAAAAQAAAAAAAAABAAAAAQAAAAAAAAABAAAAAAAAAAEAAAAAAAAAAAAAAAEAAAAAAAAAAAAAAAAAAAAAAAAAAAAAAAEAAAABAAAAAQAAAAAAAAAAAAAAAAAAAAEAAAAAAAAAAQAAAAAAAAABAAAAAAAAAAAAAAAAAAAAAAAAAAEAAAAAAAAAAAAAAAAAAAABAAAAAAAAAAEAAAAAAAAAAQAAAAAAAAAAAAAAAAAAAAEAAAABAAAAAAAAAAAAAAAAAAAAAAAAAAAAAAAAAAAAAwAAAAEAAAAAAAAAAQAAAAAAAAABAAAAAAAAAAAAAAADAAAAAAAAAAIAAAAAAAAAAAAAAAAAAAABAAAAAQAAAAAAAAA=\",\"dtype\":\"int32\",\"order\":\"little\",\"shape\":[533]}},\"selected\":{\"id\":\"1595\"},\"selection_policy\":{\"id\":\"1629\"}},\"id\":\"1594\",\"type\":\"ColumnDataSource\"},{\"attributes\":{\"columns\":[{\"id\":\"1598\"},{\"id\":\"1603\"},{\"id\":\"1608\"},{\"id\":\"1613\"},{\"id\":\"1618\"},{\"id\":\"1623\"}],\"height\":300,\"reorderable\":false,\"source\":{\"id\":\"1594\"},\"view\":{\"id\":\"1628\"},\"width\":700},\"id\":\"1626\",\"type\":\"DataTable\"}],\"root_ids\":[\"1592\"]},\"title\":\"Bokeh Application\",\"version\":\"2.4.2\"}};\n",
       "    var render_items = [{\"docid\":\"543f8e64-d416-4393-9700-aed6d0c61bf0\",\"root_ids\":[\"1592\"],\"roots\":{\"1592\":\"02ab5098-e184-458b-abef-87999ca3b0d7\"}}];\n",
       "    root.Bokeh.embed.embed_items_notebook(docs_json, render_items);\n",
       "  }\n",
       "  if (root.Bokeh !== undefined && root.Bokeh.Panel !== undefined) {\n",
       "    embed_document(root);\n",
       "  } else {\n",
       "    var attempts = 0;\n",
       "    var timer = setInterval(function(root) {\n",
       "      if (root.Bokeh !== undefined && root.Bokeh.Panel !== undefined) {\n",
       "        clearInterval(timer);\n",
       "        embed_document(root);\n",
       "      } else if (document.readyState == \"complete\") {\n",
       "        attempts++;\n",
       "        if (attempts > 200) {\n",
       "          clearInterval(timer);\n",
       "          console.log(\"Bokeh: ERROR: Unable to run BokehJS code because BokehJS library is missing\");\n",
       "        }\n",
       "      }\n",
       "    }, 25, root)\n",
       "  }\n",
       "})(window);</script>"
      ],
      "text/plain": [
       ":Table   [CoinName,Algorithm,ProofType,TotalCoinSupply,TotalCoinsMined,class]"
      ]
     },
     "execution_count": 186,
     "metadata": {
      "application/vnd.holoviews_exec.v0+json": {
       "id": "1592"
      }
     },
     "output_type": "execute_result"
    }
   ],
   "source": [
    "# Create a table with tradable cryptocurrencies.\n",
    "clustered_df.hvplot.table(columns=['CoinName', 'Algorithm', 'ProofType',\n",
    "                                  'TotalCoinSupply', 'TotalCoinsMined',\n",
    "                                  'class']\n",
    "                         )"
   ]
  },
  {
   "cell_type": "code",
   "execution_count": 187,
   "metadata": {},
   "outputs": [
    {
     "name": "stdout",
     "output_type": "stream",
     "text": [
      "There are 533 tradable cryptocurrenices. \n"
     ]
    }
   ],
   "source": [
    "# Print the total number of tradable cryptocurrencies.\n",
    "print(f'There are {len(clustered_df)} tradable cryptocurrenices.')"
   ]
  },
  {
   "cell_type": "code",
   "execution_count": 188,
   "metadata": {},
   "outputs": [
    {
     "data": {
      "text/plain": [
       "array([[4.20000000e-11, 5.94230127e-03],\n",
       "       [5.32000000e-04, 7.00182308e-03],\n",
       "       [3.14159265e-01, 3.53420682e-02],\n",
       "       ...,\n",
       "       [1.40022261e-03, 6.92655266e-03],\n",
       "       [2.10000000e-05, 5.94962775e-03],\n",
       "       [1.00000000e-06, 5.94243008e-03]])"
      ]
     },
     "execution_count": 188,
     "metadata": {},
     "output_type": "execute_result"
    }
   ],
   "source": [
    "# Scaling data to create the scatter plot with tradable cryptocurrencies.\n",
    "scaler = MinMaxScaler()\n",
    "\n",
    "normalize_columns = ['TotalCoinSupply','TotalCoinsMined']\n",
    "X = clustered_df[normalize_columns].values\n",
    "X_scaled = scaler.fit_transform(X)\n",
    "X_scaled\n"
   ]
  },
  {
   "cell_type": "code",
   "execution_count": 190,
   "metadata": {},
   "outputs": [
    {
     "data": {
      "text/html": [
       "<div>\n",
       "<style scoped>\n",
       "    .dataframe tbody tr th:only-of-type {\n",
       "        vertical-align: middle;\n",
       "    }\n",
       "\n",
       "    .dataframe tbody tr th {\n",
       "        vertical-align: top;\n",
       "    }\n",
       "\n",
       "    .dataframe thead th {\n",
       "        text-align: right;\n",
       "    }\n",
       "</style>\n",
       "<table border=\"1\" class=\"dataframe\">\n",
       "  <thead>\n",
       "    <tr style=\"text-align: right;\">\n",
       "      <th></th>\n",
       "      <th>TotalCoinSupply</th>\n",
       "      <th>TotalCoinsMined</th>\n",
       "      <th>CoinName</th>\n",
       "      <th>class</th>\n",
       "    </tr>\n",
       "  </thead>\n",
       "  <tbody>\n",
       "    <tr>\n",
       "      <th>42</th>\n",
       "      <td>4.200000e-11</td>\n",
       "      <td>0.005942</td>\n",
       "      <td>42 Coin</td>\n",
       "      <td>0</td>\n",
       "    </tr>\n",
       "    <tr>\n",
       "      <th>404</th>\n",
       "      <td>5.320000e-04</td>\n",
       "      <td>0.007002</td>\n",
       "      <td>404Coin</td>\n",
       "      <td>0</td>\n",
       "    </tr>\n",
       "    <tr>\n",
       "      <th>1337</th>\n",
       "      <td>3.141593e-01</td>\n",
       "      <td>0.035342</td>\n",
       "      <td>EliteCoin</td>\n",
       "      <td>0</td>\n",
       "    </tr>\n",
       "    <tr>\n",
       "      <th>BTC</th>\n",
       "      <td>2.100000e-05</td>\n",
       "      <td>0.005960</td>\n",
       "      <td>Bitcoin</td>\n",
       "      <td>1</td>\n",
       "    </tr>\n",
       "    <tr>\n",
       "      <th>ETH</th>\n",
       "      <td>0.000000e+00</td>\n",
       "      <td>0.006050</td>\n",
       "      <td>Ethereum</td>\n",
       "      <td>1</td>\n",
       "    </tr>\n",
       "    <tr>\n",
       "      <th>LTC</th>\n",
       "      <td>8.400000e-05</td>\n",
       "      <td>0.006006</td>\n",
       "      <td>Litecoin</td>\n",
       "      <td>1</td>\n",
       "    </tr>\n",
       "    <tr>\n",
       "      <th>DASH</th>\n",
       "      <td>2.200000e-05</td>\n",
       "      <td>0.005951</td>\n",
       "      <td>Dash</td>\n",
       "      <td>0</td>\n",
       "    </tr>\n",
       "    <tr>\n",
       "      <th>XMR</th>\n",
       "      <td>0.000000e+00</td>\n",
       "      <td>0.005960</td>\n",
       "      <td>Monero</td>\n",
       "      <td>1</td>\n",
       "    </tr>\n",
       "    <tr>\n",
       "      <th>ETC</th>\n",
       "      <td>2.100000e-04</td>\n",
       "      <td>0.006056</td>\n",
       "      <td>Ethereum Classic</td>\n",
       "      <td>1</td>\n",
       "    </tr>\n",
       "    <tr>\n",
       "      <th>ZEC</th>\n",
       "      <td>2.100000e-05</td>\n",
       "      <td>0.005950</td>\n",
       "      <td>ZCash</td>\n",
       "      <td>1</td>\n",
       "    </tr>\n",
       "  </tbody>\n",
       "</table>\n",
       "</div>"
      ],
      "text/plain": [
       "      TotalCoinSupply  TotalCoinsMined          CoinName  class\n",
       "42       4.200000e-11         0.005942           42 Coin      0\n",
       "404      5.320000e-04         0.007002           404Coin      0\n",
       "1337     3.141593e-01         0.035342         EliteCoin      0\n",
       "BTC      2.100000e-05         0.005960           Bitcoin      1\n",
       "ETH      0.000000e+00         0.006050          Ethereum      1\n",
       "LTC      8.400000e-05         0.006006          Litecoin      1\n",
       "DASH     2.200000e-05         0.005951              Dash      0\n",
       "XMR      0.000000e+00         0.005960            Monero      1\n",
       "ETC      2.100000e-04         0.006056  Ethereum Classic      1\n",
       "ZEC      2.100000e-05         0.005950             ZCash      1"
      ]
     },
     "execution_count": 190,
     "metadata": {},
     "output_type": "execute_result"
    }
   ],
   "source": [
    "# Create a new DataFrame that has the scaled data with the clustered_df DataFrame index.\n",
    "plot_df = pd.DataFrame(X_scaled, columns=normalize_columns, index=crypto_df.index)\n",
    "\n",
    "# Add the \"CoinName\" column from the clustered_df DataFrame to the new DataFrame.\n",
    "plot_df[\"CoinName\"] = clustered_df[\"CoinName\"]\n",
    "\n",
    "# Add the \"Class\" column from the clustered_df DataFrame to the new DataFrame. \n",
    "plot_df[\"class\"] = clustered_df[\"class\"]\n",
    "\n",
    "plot_df.head(10)"
   ]
  },
  {
   "cell_type": "code",
   "execution_count": 191,
   "metadata": {},
   "outputs": [
    {
     "data": {},
     "metadata": {},
     "output_type": "display_data"
    },
    {
     "data": {
      "application/vnd.holoviews_exec.v0+json": "",
      "text/html": [
       "<div id='1645'>\n",
       "\n",
       "\n",
       "\n",
       "\n",
       "\n",
       "  <div class=\"bk-root\" id=\"be22e8e1-954c-45e8-8b1d-350dd25289cb\" data-root-id=\"1645\"></div>\n",
       "</div>\n",
       "<script type=\"application/javascript\">(function(root) {\n",
       "  function embed_document(root) {\n",
       "    var docs_json = {\"0939133a-ee74-4f22-a5fa-5196dedc1558\":{\"defs\":[{\"extends\":null,\"module\":null,\"name\":\"ReactiveHTML1\",\"overrides\":[],\"properties\":[]},{\"extends\":null,\"module\":null,\"name\":\"FlexBox1\",\"overrides\":[],\"properties\":[{\"default\":\"flex-start\",\"kind\":null,\"name\":\"align_content\"},{\"default\":\"flex-start\",\"kind\":null,\"name\":\"align_items\"},{\"default\":\"row\",\"kind\":null,\"name\":\"flex_direction\"},{\"default\":\"wrap\",\"kind\":null,\"name\":\"flex_wrap\"},{\"default\":\"flex-start\",\"kind\":null,\"name\":\"justify_content\"}]},{\"extends\":null,\"module\":null,\"name\":\"TemplateActions1\",\"overrides\":[],\"properties\":[{\"default\":0,\"kind\":null,\"name\":\"open_modal\"},{\"default\":0,\"kind\":null,\"name\":\"close_modal\"}]},{\"extends\":null,\"module\":null,\"name\":\"MaterialTemplateActions1\",\"overrides\":[],\"properties\":[{\"default\":0,\"kind\":null,\"name\":\"open_modal\"},{\"default\":0,\"kind\":null,\"name\":\"close_modal\"}]}],\"roots\":{\"references\":[{\"attributes\":{\"angle\":{\"value\":0.0},\"fill_alpha\":{\"value\":1.0},\"fill_color\":{\"value\":\"#6d904f\"},\"hatch_alpha\":{\"value\":1.0},\"hatch_color\":{\"value\":\"#6d904f\"},\"hatch_scale\":{\"value\":12.0},\"hatch_weight\":{\"value\":1.0},\"line_alpha\":{\"value\":1.0},\"line_cap\":{\"value\":\"butt\"},\"line_color\":{\"value\":\"#6d904f\"},\"line_dash\":{\"value\":[]},\"line_dash_offset\":{\"value\":0},\"line_join\":{\"value\":\"bevel\"},\"line_width\":{\"value\":1},\"marker\":{\"value\":\"circle\"},\"size\":{\"value\":5.477225575051661},\"x\":{\"field\":\"TotalCoinsMined\"},\"y\":{\"field\":\"TotalCoinSupply\"}},\"id\":\"1781\",\"type\":\"Scatter\"},{\"attributes\":{},\"id\":\"1727\",\"type\":\"UnionRenderers\"},{\"attributes\":{\"bottom_units\":\"screen\",\"coordinates\":null,\"fill_alpha\":0.5,\"fill_color\":\"lightgrey\",\"group\":null,\"left_units\":\"screen\",\"level\":\"overlay\",\"line_alpha\":1.0,\"line_color\":\"black\",\"line_dash\":[4,4],\"line_width\":2,\"right_units\":\"screen\",\"syncable\":false,\"top_units\":\"screen\"},\"id\":\"1675\",\"type\":\"BoxAnnotation\"},{\"attributes\":{},\"id\":\"1688\",\"type\":\"AllLabels\"},{\"attributes\":{},\"id\":\"1685\",\"type\":\"AllLabels\"},{\"attributes\":{\"angle\":{\"value\":0.0},\"fill_alpha\":{\"value\":1.0},\"fill_color\":{\"value\":\"#e5ae38\"},\"hatch_alpha\":{\"value\":1.0},\"hatch_color\":{\"value\":\"#e5ae38\"},\"hatch_scale\":{\"value\":12.0},\"hatch_weight\":{\"value\":1.0},\"line_alpha\":{\"value\":1.0},\"line_cap\":{\"value\":\"butt\"},\"line_color\":{\"value\":\"#e5ae38\"},\"line_dash\":{\"value\":[]},\"line_dash_offset\":{\"value\":0},\"line_join\":{\"value\":\"bevel\"},\"line_width\":{\"value\":1},\"marker\":{\"value\":\"circle\"},\"size\":{\"value\":5.477225575051661},\"x\":{\"field\":\"TotalCoinsMined\"},\"y\":{\"field\":\"TotalCoinSupply\"}},\"id\":\"1755\",\"type\":\"Scatter\"},{\"attributes\":{},\"id\":\"1757\",\"type\":\"Selection\"},{\"attributes\":{\"tools\":[{\"id\":\"1649\"},{\"id\":\"1670\"},{\"id\":\"1671\"},{\"id\":\"1672\"},{\"id\":\"1673\"},{\"id\":\"1674\"}]},\"id\":\"1676\",\"type\":\"Toolbar\"},{\"attributes\":{\"label\":{\"value\":\"0\"},\"renderers\":[{\"id\":\"1695\"}]},\"id\":\"1708\",\"type\":\"LegendItem\"},{\"attributes\":{},\"id\":\"1777\",\"type\":\"UnionRenderers\"},{\"attributes\":{\"label\":{\"value\":\"3\"},\"renderers\":[{\"id\":\"1762\"}]},\"id\":\"1780\",\"type\":\"LegendItem\"},{\"attributes\":{},\"id\":\"1684\",\"type\":\"BasicTickFormatter\"},{\"attributes\":{\"coordinates\":null,\"data_source\":{\"id\":\"1689\"},\"glyph\":{\"id\":\"1692\"},\"group\":null,\"hover_glyph\":null,\"muted_glyph\":{\"id\":\"1694\"},\"nonselection_glyph\":{\"id\":\"1693\"},\"selection_glyph\":{\"id\":\"1709\"},\"view\":{\"id\":\"1696\"}},\"id\":\"1695\",\"type\":\"GlyphRenderer\"},{\"attributes\":{},\"id\":\"1690\",\"type\":\"Selection\"},{\"attributes\":{},\"id\":\"1687\",\"type\":\"BasicTickFormatter\"},{\"attributes\":{\"click_policy\":\"mute\",\"coordinates\":null,\"group\":null,\"items\":[{\"id\":\"1708\"},{\"id\":\"1730\"},{\"id\":\"1754\"},{\"id\":\"1780\"}],\"location\":[0,0],\"title\":\"class\"},\"id\":\"1707\",\"type\":\"Legend\"},{\"attributes\":{\"angle\":{\"value\":0.0},\"fill_alpha\":{\"value\":1.0},\"fill_color\":{\"value\":\"#fc4f30\"},\"hatch_alpha\":{\"value\":1.0},\"hatch_color\":{\"value\":\"#fc4f30\"},\"hatch_scale\":{\"value\":12.0},\"hatch_weight\":{\"value\":1.0},\"line_alpha\":{\"value\":1.0},\"line_cap\":{\"value\":\"butt\"},\"line_color\":{\"value\":\"#fc4f30\"},\"line_dash\":{\"value\":[]},\"line_dash_offset\":{\"value\":0},\"line_join\":{\"value\":\"bevel\"},\"line_width\":{\"value\":1},\"marker\":{\"value\":\"circle\"},\"size\":{\"value\":5.477225575051661},\"x\":{\"field\":\"TotalCoinsMined\"},\"y\":{\"field\":\"TotalCoinSupply\"}},\"id\":\"1731\",\"type\":\"Scatter\"},{\"attributes\":{\"end\":1.042857142857143,\"reset_end\":1.042857142857143,\"reset_start\":-0.04285714285714286,\"start\":-0.04285714285714286,\"tags\":[[[\"TotalCoinsMined\",\"TotalCoinsMined\",null]]]},\"id\":\"1647\",\"type\":\"Range1d\"},{\"attributes\":{\"fill_color\":{\"value\":\"#30a2da\"},\"hatch_color\":{\"value\":\"#30a2da\"},\"line_color\":{\"value\":\"#30a2da\"},\"size\":{\"value\":5.477225575051661},\"x\":{\"field\":\"TotalCoinsMined\"},\"y\":{\"field\":\"TotalCoinSupply\"}},\"id\":\"1692\",\"type\":\"Scatter\"},{\"attributes\":{\"fill_alpha\":{\"value\":0.1},\"fill_color\":{\"value\":\"#30a2da\"},\"hatch_alpha\":{\"value\":0.1},\"hatch_color\":{\"value\":\"#30a2da\"},\"line_alpha\":{\"value\":0.1},\"line_color\":{\"value\":\"#30a2da\"},\"size\":{\"value\":5.477225575051661},\"x\":{\"field\":\"TotalCoinsMined\"},\"y\":{\"field\":\"TotalCoinSupply\"}},\"id\":\"1693\",\"type\":\"Scatter\"},{\"attributes\":{},\"id\":\"1733\",\"type\":\"Selection\"},{\"attributes\":{},\"id\":\"1658\",\"type\":\"LinearScale\"},{\"attributes\":{\"callback\":null,\"renderers\":[{\"id\":\"1695\"},{\"id\":\"1716\"},{\"id\":\"1738\"},{\"id\":\"1762\"}],\"tags\":[\"hv_created\"],\"tooltips\":[[\"class\",\"@{class}\"],[\"TotalCoinsMined\",\"@{TotalCoinsMined}\"],[\"TotalCoinSupply\",\"@{TotalCoinSupply}\"],[\"CoinName\",\"@{CoinName}\"]]},\"id\":\"1649\",\"type\":\"HoverTool\"},{\"attributes\":{\"data\":{\"CoinName\":[\"Bitcoin\",\"Ethereum\",\"Litecoin\",\"Monero\",\"Ethereum Classic\",\"ZCash\",\"DigiByte\",\"ProsperCoin\",\"Spreadcoin\",\"Argentum\",\"MyriadCoin\",\"MoonCoin\",\"ZetaCoin\",\"SexCoin\",\"Quatloo\",\"QuarkCoin\",\"Riecoin\",\"Digitalcoin \",\"Catcoin\",\"CannaCoin\",\"CryptCoin\",\"Verge\",\"DevCoin\",\"EarthCoin\",\"E-Gulden\",\"Einsteinium\",\"Emerald\",\"Franko\",\"FeatherCoin\",\"GrandCoin\",\"GlobalCoin\",\"GoldCoin\",\"Infinite Coin\",\"IXcoin\",\"KrugerCoin\",\"LuckyCoin\",\"Litebar \",\"MegaCoin\",\"MediterraneanCoin\",\"MinCoin\",\"NobleCoin\",\"Namecoin\",\"NyanCoin\",\"RonPaulCoin\",\"StableCoin\",\"SmartCoin\",\"SysCoin\",\"TigerCoin\",\"TerraCoin\",\"UnbreakableCoin\",\"Unobtanium\",\"UroCoin\",\"ViaCoin\",\"Vertcoin\",\"WorldCoin\",\"JouleCoin\",\"ByteCoin\",\"DigitalNote \",\"MonaCoin\",\"Gulden\",\"PesetaCoin\",\"Wild Beast Coin\",\"Flo\",\"ArtByte\",\"Folding Coin\",\"Unitus\",\"CypherPunkCoin\",\"OmniCron\",\"GreenCoin\",\"Cryptonite\",\"MasterCoin\",\"SoonCoin\",\"1Credit\",\"MarsCoin \",\"Crypto\",\"Anarchists Prime\",\"BowsCoin\",\"Song Coin\",\"BitZeny\",\"Expanse\",\"Siacoin\",\"MindCoin\",\"I0coin\",\"Revolution VR\",\"HOdlcoin\",\"Gamecredits\",\"CarpeDiemCoin\",\"Adzcoin\",\"SoilCoin\",\"YoCoin\",\"SibCoin\",\"Francs\",\"BolivarCoin\",\"Omni\",\"PizzaCoin\",\"Komodo\",\"Karbo\",\"ZayedCoin\",\"Circuits of Value\",\"DopeCoin\",\"DollarCoin\",\"Shilling\",\"ZCoin\",\"Elementrem\",\"ZClassic\",\"KiloCoin\",\"ArtexCoin\",\"Kurrent\",\"Cannabis Industry Coin\",\"OsmiumCoin\",\"Bikercoins\",\"HexxCoin\",\"PacCoin\",\"Citadel\",\"BeaverCoin\",\"VaultCoin\",\"Zero\",\"Canada eCoin\",\"Zoin\",\"DubaiCoin\",\"EB3coin\",\"Coinonat\",\"BenjiRolls\",\"ILCoin\",\"EquiTrader\",\"Quantum Resistant Ledger\",\"Dynamic\",\"Nano\",\"ChanCoin\",\"Dinastycoin\",\"DigitalPrice\",\"Unify\",\"SocialCoin\",\"ArcticCoin\",\"DAS\",\"LeviarCoin\",\"Bitcore\",\"gCn Coin\",\"SmartCash\",\"Onix\",\"Bitcoin Cash\",\"Sojourn Coin\",\"NewYorkCoin\",\"FrazCoin\",\"Kronecoin\",\"AdCoin\",\"Linx\",\"Sumokoin\",\"BitcoinZ\",\"Elements\",\"VIVO Coin\",\"Bitcoin Gold\",\"Pirl\",\"eBoost\",\"Pura\",\"Innova\",\"Ellaism\",\"GoByte\",\"SHIELD\",\"UltraNote\",\"BitCoal\",\"DaxxCoin\",\"AC3\",\"Lethean\",\"PopularCoin\",\"Photon\",\"Sucre\",\"SparksPay\",\"GunCoin\",\"IrishCoin\",\"Pioneer Coin\",\"UnitedBitcoin\",\"Interzone\",\"TurtleCoin\",\"MUNcoin\",\"Niobio Cash\",\"ShareChain\",\"Travelflex\",\"KREDS\",\"BitFlip\",\"LottoCoin\",\"Crypto Improvement Fund\",\"Callisto Network\",\"BitTube\",\"Poseidon\",\"Aidos Kuneen\",\"Bitrolium\",\"Alpenschillling\",\"FuturoCoin\",\"Monero Classic\",\"Jumpcoin\",\"Infinex\",\"KEYCO\",\"GINcoin\",\"PlatinCoin\",\"Loki\",\"Newton Coin\",\"MassGrid\",\"PluraCoin\",\"Motion\",\"PlusOneCoin\",\"Axe\",\"HexCoin\",\"Webchain\",\"Ryo\",\"Urals Coin\",\"Qwertycoin\",\"Project Pai\",\"Azart\",\"Xchange\",\"CrypticCoin\",\"Actinium\",\"Bitcoin SV\",\"FREDEnergy\",\"Universal Molecule\",\"Lithium\",\"Exosis\",\"Block-Logic\",\"Beam\",\"Bithereum\",\"SLICE\",\"BLAST\",\"Bitcoin Rhodium\",\"GlobalToken\",\"SolarCoin\",\"UFO Coin\",\"BlakeCoin\",\"Crypto Escudo\",\"Crown Coin\",\"SmileyCoin\",\"Groestlcoin\",\"Bata\",\"Pakcoin\",\"JoinCoin\",\"Vollar\",\"Reality Clash\",\"Beldex\",\"Horizen\"],\"TotalCoinSupply\":{\"__ndarray__\":\"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\",\"dtype\":\"float64\",\"order\":\"little\",\"shape\":[238]},\"TotalCoinsMined\":{\"__ndarray__\":\"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\",\"dtype\":\"float64\",\"order\":\"little\",\"shape\":[238]},\"class\":[1,1,1,1,1,1,1,1,1,1,1,1,1,1,1,1,1,1,1,1,1,1,1,1,1,1,1,1,1,1,1,1,1,1,1,1,1,1,1,1,1,1,1,1,1,1,1,1,1,1,1,1,1,1,1,1,1,1,1,1,1,1,1,1,1,1,1,1,1,1,1,1,1,1,1,1,1,1,1,1,1,1,1,1,1,1,1,1,1,1,1,1,1,1,1,1,1,1,1,1,1,1,1,1,1,1,1,1,1,1,1,1,1,1,1,1,1,1,1,1,1,1,1,1,1,1,1,1,1,1,1,1,1,1,1,1,1,1,1,1,1,1,1,1,1,1,1,1,1,1,1,1,1,1,1,1,1,1,1,1,1,1,1,1,1,1,1,1,1,1,1,1,1,1,1,1,1,1,1,1,1,1,1,1,1,1,1,1,1,1,1,1,1,1,1,1,1,1,1,1,1,1,1,1,1,1,1,1,1,1,1,1,1,1,1,1,1,1,1,1,1,1,1,1,1,1,1,1,1,1,1,1,1,1,1,1,1,1]},\"selected\":{\"id\":\"1711\"},\"selection_policy\":{\"id\":\"1727\"}},\"id\":\"1710\",\"type\":\"ColumnDataSource\"},{\"attributes\":{\"margin\":[5,5,5,5],\"name\":\"HSpacer02704\",\"sizing_mode\":\"stretch_width\"},\"id\":\"1926\",\"type\":\"Spacer\"},{\"attributes\":{},\"id\":\"1660\",\"type\":\"LinearScale\"},{\"attributes\":{},\"id\":\"1751\",\"type\":\"UnionRenderers\"},{\"attributes\":{\"label\":{\"value\":\"2\"},\"renderers\":[{\"id\":\"1738\"}]},\"id\":\"1754\",\"type\":\"LegendItem\"},{\"attributes\":{\"fill_color\":{\"value\":\"#6d904f\"},\"hatch_color\":{\"value\":\"#6d904f\"},\"line_color\":{\"value\":\"#6d904f\"},\"size\":{\"value\":5.477225575051661},\"x\":{\"field\":\"TotalCoinsMined\"},\"y\":{\"field\":\"TotalCoinSupply\"}},\"id\":\"1759\",\"type\":\"Scatter\"},{\"attributes\":{\"angle\":{\"value\":0.0},\"fill_alpha\":{\"value\":1.0},\"fill_color\":{\"value\":\"#30a2da\"},\"hatch_alpha\":{\"value\":1.0},\"hatch_color\":{\"value\":\"#30a2da\"},\"hatch_scale\":{\"value\":12.0},\"hatch_weight\":{\"value\":1.0},\"line_alpha\":{\"value\":1.0},\"line_cap\":{\"value\":\"butt\"},\"line_color\":{\"value\":\"#30a2da\"},\"line_dash\":{\"value\":[]},\"line_dash_offset\":{\"value\":0},\"line_join\":{\"value\":\"bevel\"},\"line_width\":{\"value\":1},\"marker\":{\"value\":\"circle\"},\"size\":{\"value\":5.477225575051661},\"x\":{\"field\":\"TotalCoinsMined\"},\"y\":{\"field\":\"TotalCoinSupply\"}},\"id\":\"1709\",\"type\":\"Scatter\"},{\"attributes\":{\"fill_alpha\":{\"value\":0.1},\"fill_color\":{\"value\":\"#6d904f\"},\"hatch_alpha\":{\"value\":0.1},\"hatch_color\":{\"value\":\"#6d904f\"},\"line_alpha\":{\"value\":0.1},\"line_color\":{\"value\":\"#6d904f\"},\"size\":{\"value\":5.477225575051661},\"x\":{\"field\":\"TotalCoinsMined\"},\"y\":{\"field\":\"TotalCoinSupply\"}},\"id\":\"1760\",\"type\":\"Scatter\"},{\"attributes\":{\"coordinates\":null,\"data_source\":{\"id\":\"1756\"},\"glyph\":{\"id\":\"1759\"},\"group\":null,\"hover_glyph\":null,\"muted_glyph\":{\"id\":\"1761\"},\"nonselection_glyph\":{\"id\":\"1760\"},\"selection_glyph\":{\"id\":\"1781\"},\"view\":{\"id\":\"1763\"}},\"id\":\"1762\",\"type\":\"GlyphRenderer\"},{\"attributes\":{\"data\":{\"CoinName\":[\"BitTorrent\"],\"TotalCoinSupply\":{\"__ndarray__\":\"rkfhehSu7z8=\",\"dtype\":\"float64\",\"order\":\"little\",\"shape\":[1]},\"TotalCoinsMined\":{\"__ndarray__\":\"AAAAAAAA8D8=\",\"dtype\":\"float64\",\"order\":\"little\",\"shape\":[1]},\"class\":[2]},\"selected\":{\"id\":\"1733\"},\"selection_policy\":{\"id\":\"1751\"}},\"id\":\"1732\",\"type\":\"ColumnDataSource\"},{\"attributes\":{\"end\":1.1,\"reset_end\":1.1,\"reset_start\":-0.1,\"start\":-0.1,\"tags\":[[[\"TotalCoinSupply\",\"TotalCoinSupply\",null]]]},\"id\":\"1648\",\"type\":\"Range1d\"},{\"attributes\":{\"coordinates\":null,\"data_source\":{\"id\":\"1710\"},\"glyph\":{\"id\":\"1713\"},\"group\":null,\"hover_glyph\":null,\"muted_glyph\":{\"id\":\"1715\"},\"nonselection_glyph\":{\"id\":\"1714\"},\"selection_glyph\":{\"id\":\"1731\"},\"view\":{\"id\":\"1717\"}},\"id\":\"1716\",\"type\":\"GlyphRenderer\"},{\"attributes\":{\"below\":[{\"id\":\"1662\"}],\"center\":[{\"id\":\"1665\"},{\"id\":\"1669\"}],\"height\":300,\"left\":[{\"id\":\"1666\"}],\"margin\":[5,5,5,5],\"min_border_bottom\":10,\"min_border_left\":10,\"min_border_right\":10,\"min_border_top\":10,\"renderers\":[{\"id\":\"1695\"},{\"id\":\"1716\"},{\"id\":\"1738\"},{\"id\":\"1762\"}],\"right\":[{\"id\":\"1707\"}],\"sizing_mode\":\"fixed\",\"title\":{\"id\":\"1654\"},\"toolbar\":{\"id\":\"1676\"},\"width\":700,\"x_range\":{\"id\":\"1647\"},\"x_scale\":{\"id\":\"1658\"},\"y_range\":{\"id\":\"1648\"},\"y_scale\":{\"id\":\"1660\"}},\"id\":\"1653\",\"subtype\":\"Figure\",\"type\":\"Plot\"},{\"attributes\":{\"coordinates\":null,\"group\":null,\"text_color\":\"black\",\"text_font_size\":\"12pt\"},\"id\":\"1654\",\"type\":\"Title\"},{\"attributes\":{\"fill_alpha\":{\"value\":0.2},\"fill_color\":{\"value\":\"#6d904f\"},\"hatch_alpha\":{\"value\":0.2},\"hatch_color\":{\"value\":\"#6d904f\"},\"line_alpha\":{\"value\":0.2},\"line_color\":{\"value\":\"#6d904f\"},\"size\":{\"value\":5.477225575051661},\"x\":{\"field\":\"TotalCoinsMined\"},\"y\":{\"field\":\"TotalCoinSupply\"}},\"id\":\"1761\",\"type\":\"Scatter\"},{\"attributes\":{\"label\":{\"value\":\"1\"},\"renderers\":[{\"id\":\"1716\"}]},\"id\":\"1730\",\"type\":\"LegendItem\"},{\"attributes\":{\"fill_color\":{\"value\":\"#fc4f30\"},\"hatch_color\":{\"value\":\"#fc4f30\"},\"line_color\":{\"value\":\"#fc4f30\"},\"size\":{\"value\":5.477225575051661},\"x\":{\"field\":\"TotalCoinsMined\"},\"y\":{\"field\":\"TotalCoinSupply\"}},\"id\":\"1713\",\"type\":\"Scatter\"},{\"attributes\":{\"source\":{\"id\":\"1756\"}},\"id\":\"1763\",\"type\":\"CDSView\"},{\"attributes\":{},\"id\":\"1671\",\"type\":\"PanTool\"},{\"attributes\":{\"axis\":{\"id\":\"1662\"},\"coordinates\":null,\"grid_line_color\":null,\"group\":null,\"ticker\":null},\"id\":\"1665\",\"type\":\"Grid\"},{\"attributes\":{\"axis_label\":\"TotalCoinsMined\",\"coordinates\":null,\"formatter\":{\"id\":\"1684\"},\"group\":null,\"major_label_policy\":{\"id\":\"1685\"},\"ticker\":{\"id\":\"1663\"}},\"id\":\"1662\",\"type\":\"LinearAxis\"},{\"attributes\":{\"data\":{\"CoinName\":[\"BiblePay\",\"LitecoinCash\",\"Poa Network\",\"Acute Angle Cloud\",\"Fiii\",\"Waves\"],\"TotalCoinSupply\":{\"__ndarray__\":\"lPYGX5hMdT+8eapDboZLP4RaKOGWizA//Knx0k1iUD97FK5H4Xp0PyxDHOviNho/\",\"dtype\":\"float64\",\"order\":\"little\",\"shape\":[6]},\"TotalCoinsMined\":{\"__ndarray__\":\"eHs1s8Ogfz9wjSUfGfd6P+HRjF0/Lnk//+KWGddzfD8AAAAAAAAAALkL9DY+wHg/\",\"dtype\":\"float64\",\"order\":\"little\",\"shape\":[6]},\"class\":[3,3,3,3,3,3]},\"selected\":{\"id\":\"1757\"},\"selection_policy\":{\"id\":\"1777\"}},\"id\":\"1756\",\"type\":\"ColumnDataSource\"},{\"attributes\":{},\"id\":\"1672\",\"type\":\"WheelZoomTool\"},{\"attributes\":{},\"id\":\"1663\",\"type\":\"BasicTicker\"},{\"attributes\":{\"axis_label\":\"TotalCoinSupply\",\"coordinates\":null,\"formatter\":{\"id\":\"1687\"},\"group\":null,\"major_label_policy\":{\"id\":\"1688\"},\"ticker\":{\"id\":\"1667\"}},\"id\":\"1666\",\"type\":\"LinearAxis\"},{\"attributes\":{\"fill_color\":{\"value\":\"#e5ae38\"},\"hatch_color\":{\"value\":\"#e5ae38\"},\"line_color\":{\"value\":\"#e5ae38\"},\"size\":{\"value\":5.477225575051661},\"x\":{\"field\":\"TotalCoinsMined\"},\"y\":{\"field\":\"TotalCoinSupply\"}},\"id\":\"1735\",\"type\":\"Scatter\"},{\"attributes\":{\"axis\":{\"id\":\"1666\"},\"coordinates\":null,\"dimension\":1,\"grid_line_color\":null,\"group\":null,\"ticker\":null},\"id\":\"1669\",\"type\":\"Grid\"},{\"attributes\":{},\"id\":\"1711\",\"type\":\"Selection\"},{\"attributes\":{\"fill_alpha\":{\"value\":0.1},\"fill_color\":{\"value\":\"#e5ae38\"},\"hatch_alpha\":{\"value\":0.1},\"hatch_color\":{\"value\":\"#e5ae38\"},\"line_alpha\":{\"value\":0.1},\"line_color\":{\"value\":\"#e5ae38\"},\"size\":{\"value\":5.477225575051661},\"x\":{\"field\":\"TotalCoinsMined\"},\"y\":{\"field\":\"TotalCoinSupply\"}},\"id\":\"1736\",\"type\":\"Scatter\"},{\"attributes\":{},\"id\":\"1667\",\"type\":\"BasicTicker\"},{\"attributes\":{\"coordinates\":null,\"data_source\":{\"id\":\"1732\"},\"glyph\":{\"id\":\"1735\"},\"group\":null,\"hover_glyph\":null,\"muted_glyph\":{\"id\":\"1737\"},\"nonselection_glyph\":{\"id\":\"1736\"},\"selection_glyph\":{\"id\":\"1755\"},\"view\":{\"id\":\"1739\"}},\"id\":\"1738\",\"type\":\"GlyphRenderer\"},{\"attributes\":{\"fill_alpha\":{\"value\":0.2},\"fill_color\":{\"value\":\"#30a2da\"},\"hatch_alpha\":{\"value\":0.2},\"hatch_color\":{\"value\":\"#30a2da\"},\"line_alpha\":{\"value\":0.2},\"line_color\":{\"value\":\"#30a2da\"},\"size\":{\"value\":5.477225575051661},\"x\":{\"field\":\"TotalCoinsMined\"},\"y\":{\"field\":\"TotalCoinSupply\"}},\"id\":\"1694\",\"type\":\"Scatter\"},{\"attributes\":{\"margin\":[5,5,5,5],\"name\":\"HSpacer02703\",\"sizing_mode\":\"stretch_width\"},\"id\":\"1646\",\"type\":\"Spacer\"},{\"attributes\":{},\"id\":\"1670\",\"type\":\"SaveTool\"},{\"attributes\":{\"data\":{\"CoinName\":[\"42 Coin\",\"404Coin\",\"EliteCoin\",\"Dash\",\"Bitshares\",\"BitcoinDark\",\"PayCoin\",\"KoboCoin\",\"Aurora Coin\",\"BlueCoin\",\"EnergyCoin\",\"BitBar\",\"CryptoBullion\",\"CasinoCoin\",\"Diamond\",\"Exclusive Coin\",\"FlutterCoin\",\"HoboNickels\",\"HyperStake\",\"IOCoin\",\"MaxCoin\",\"MintCoin\",\"MazaCoin\",\"Nautilus Coin\",\"NavCoin\",\"OpalCoin\",\"Orbitcoin\",\"PotCoin\",\"PhoenixCoin\",\"Reddcoin\",\"SuperCoin\",\"SyncCoin\",\"TeslaCoin\",\"TittieCoin\",\"TorCoin\",\"UnitaryStatus Dollar\",\"UltraCoin\",\"VeriCoin\",\"X11 Coin\",\"Crypti\",\"StealthCoin\",\"ZCC Coin\",\"BurstCoin\",\"StorjCoin\",\"Neutron\",\"FairCoin\",\"RubyCoin\",\"Kore\",\"Dnotes\",\"8BIT Coin\",\"Sativa Coin\",\"Ucoin\",\"Vtorrent\",\"IslaCoin\",\"Nexus\",\"Droidz\",\"Squall Coin\",\"Diggits\",\"Paycon\",\"Emercoin\",\"EverGreenCoin\",\"Decred\",\"EDRCoin\",\"Hitcoin\",\"DubaiCoin\",\"PWR Coin\",\"BillaryCoin\",\"GPU Coin\",\"EuropeCoin\",\"ZeitCoin\",\"SwingCoin\",\"SafeExchangeCoin\",\"Nebuchadnezzar\",\"Ratecoin\",\"Revenu\",\"Clockcoin\",\"VIP Tokens\",\"BitSend\",\"Let it Ride\",\"PutinCoin\",\"iBankCoin\",\"Frankywillcoin\",\"MudraCoin\",\"Lutetium Coin\",\"GoldBlocks\",\"CarterCoin\",\"BitTokens\",\"MustangCoin\",\"ZoneCoin\",\"RootCoin\",\"BitCurrency\",\"Swiscoin\",\"BuzzCoin\",\"Opair\",\"PesoBit\",\"Halloween Coin\",\"CoffeeCoin\",\"RoyalCoin\",\"GanjaCoin V2\",\"TeamUP\",\"LanaCoin\",\"ARK\",\"InsaneCoin\",\"EmberCoin\",\"XenixCoin\",\"FreeCoin\",\"PLNCoin\",\"AquariusCoin\",\"Creatio\",\"Eternity\",\"Eurocoin\",\"BitcoinFast\",\"Stakenet\",\"BitConnect Coin\",\"MoneyCoin\",\"Enigma\",\"Russiacoin\",\"PandaCoin\",\"GameUnits\",\"GAKHcoin\",\"Allsafe\",\"LiteCreed\",\"Klingon Empire Darsek\",\"Internet of People\",\"KushCoin\",\"Printerium\",\"Impeach\",\"Zilbercoin\",\"FirstCoin\",\"FindCoin\",\"OpenChat\",\"RenosCoin\",\"VirtacoinPlus\",\"TajCoin\",\"Impact\",\"Atmos\",\"HappyCoin\",\"MacronCoin\",\"Condensate\",\"Independent Money System\",\"ArgusCoin\",\"LomoCoin\",\"ProCurrency\",\"GoldReserve\",\"GrowthCoin\",\"Phreak\",\"Degas Coin\",\"HTML5 Coin\",\"Ultimate Secure Cash\",\"QTUM\",\"Espers\",\"Denarius\",\"Virta Unique Coin\",\"Bitcoin Planet\",\"BritCoin\",\"Linda\",\"DeepOnion\",\"Signatum\",\"Cream\",\"Monoeci\",\"Draftcoin\",\"Vechain\",\"Stakecoin\",\"CoinonatX\",\"Ethereum Dark\",\"Obsidian\",\"Cardano\",\"Regalcoin\",\"TrezarCoin\",\"TerraNovaCoin\",\"Rupee\",\"WomenCoin\",\"Theresa May Coin\",\"NamoCoin\",\"LUXCoin\",\"Xios\",\"Bitcloud 2.0\",\"KekCoin\",\"BlackholeCoin\",\"Infinity Economics\",\"Magnet\",\"Lamden Tau\",\"Electra\",\"Bitcoin Diamond\",\"Cash & Back Coin\",\"Bulwark\",\"Kalkulus\",\"GermanCoin\",\"LiteCoin Ultra\",\"PhantomX\",\"Digiwage\",\"Trollcoin\",\"Litecoin Plus\",\"Monkey Project\",\"TokenPay\",\"1717 Masonic Commemorative Token\",\"My Big Coin\",\"Unified Society USDEX\",\"Tokyo Coin\",\"Stipend\",\"Pushi\",\"Ellerium\",\"Velox\",\"Ontology\",\"Bitspace\",\"Briacoin\",\"Ignition\",\"MedicCoin\",\"Bitcoin Green\",\"Deviant Coin\",\"Abjcoin\",\"Semux\",\"Carebit\",\"Zealium\",\"Proton\",\"iDealCash\",\"Bitcoin Incognito\",\"HollyWoodCoin\",\"Swisscoin\",\"Xt3ch\",\"TheVig\",\"EmaratCoin\",\"Dekado\",\"Lynx\",\"Poseidon Quark\",\"BitcoinWSpectrum\",\"Muse\",\"Trivechain\",\"Dystem\",\"Giant\",\"Peony Coin\",\"Absolute Coin\",\"Vitae\",\"TPCash\",\"ARENON\",\"EUNO\",\"MMOCoin\",\"Ketan\",\"XDNA\",\"PAXEX\",\"ThunderStake\",\"Kcash\",\"Bettex coin\",\"BitMoney\",\"Junson Ming Chan Coin\",\"HerbCoin\",\"PirateCash\",\"Oduwa\",\"Galilel\",\"Crypto Sports\",\"Credit\",\"Dash Platinum\",\"Nasdacoin\",\"Beetle Coin\",\"Titan Coin\",\"Award\",\"Insane Coin\",\"ALAX\",\"LiteDoge\",\"TruckCoin\",\"OrangeCoin\",\"BitstarCoin\",\"NeosCoin\",\"HyperCoin\",\"PinkCoin\",\"AudioCoin\",\"IncaKoin\",\"Piggy Coin\",\"Genstake\",\"XiaoMiCoin\",\"CapriCoin\",\" ClubCoin\",\"Radium\",\"Creditbit \",\"OKCash\",\"Lisk\",\"HiCoin\",\"WhiteCoin\",\"FriendshipCoin\",\"Triangles Coin\",\"EOS\",\"Oxycoin\",\"TigerCash\",\"Particl\",\"Nxt\",\"ZEPHYR\",\"Gapcoin\",\"BitcoinPlus\"],\"TotalCoinSupply\":{\"__ndarray__\":\"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\",\"dtype\":\"float64\",\"order\":\"little\",\"shape\":[288]},\"TotalCoinsMined\":{\"__ndarray__\":\"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\",\"dtype\":\"float64\",\"order\":\"little\",\"shape\":[288]},\"class\":[0,0,0,0,0,0,0,0,0,0,0,0,0,0,0,0,0,0,0,0,0,0,0,0,0,0,0,0,0,0,0,0,0,0,0,0,0,0,0,0,0,0,0,0,0,0,0,0,0,0,0,0,0,0,0,0,0,0,0,0,0,0,0,0,0,0,0,0,0,0,0,0,0,0,0,0,0,0,0,0,0,0,0,0,0,0,0,0,0,0,0,0,0,0,0,0,0,0,0,0,0,0,0,0,0,0,0,0,0,0,0,0,0,0,0,0,0,0,0,0,0,0,0,0,0,0,0,0,0,0,0,0,0,0,0,0,0,0,0,0,0,0,0,0,0,0,0,0,0,0,0,0,0,0,0,0,0,0,0,0,0,0,0,0,0,0,0,0,0,0,0,0,0,0,0,0,0,0,0,0,0,0,0,0,0,0,0,0,0,0,0,0,0,0,0,0,0,0,0,0,0,0,0,0,0,0,0,0,0,0,0,0,0,0,0,0,0,0,0,0,0,0,0,0,0,0,0,0,0,0,0,0,0,0,0,0,0,0,0,0,0,0,0,0,0,0,0,0,0,0,0,0,0,0,0,0,0,0,0,0,0,0,0,0,0,0,0,0,0,0,0,0,0,0,0,0,0,0,0,0,0,0,0,0,0,0,0,0]},\"selected\":{\"id\":\"1690\"},\"selection_policy\":{\"id\":\"1704\"}},\"id\":\"1689\",\"type\":\"ColumnDataSource\"},{\"attributes\":{\"overlay\":{\"id\":\"1675\"}},\"id\":\"1673\",\"type\":\"BoxZoomTool\"},{\"attributes\":{},\"id\":\"1674\",\"type\":\"ResetTool\"},{\"attributes\":{},\"id\":\"1704\",\"type\":\"UnionRenderers\"},{\"attributes\":{\"children\":[{\"id\":\"1646\"},{\"id\":\"1653\"},{\"id\":\"1926\"}],\"margin\":[0,0,0,0],\"name\":\"Row02699\",\"tags\":[\"embedded\"]},\"id\":\"1645\",\"type\":\"Row\"},{\"attributes\":{\"fill_alpha\":{\"value\":0.2},\"fill_color\":{\"value\":\"#e5ae38\"},\"hatch_alpha\":{\"value\":0.2},\"hatch_color\":{\"value\":\"#e5ae38\"},\"line_alpha\":{\"value\":0.2},\"line_color\":{\"value\":\"#e5ae38\"},\"size\":{\"value\":5.477225575051661},\"x\":{\"field\":\"TotalCoinsMined\"},\"y\":{\"field\":\"TotalCoinSupply\"}},\"id\":\"1737\",\"type\":\"Scatter\"},{\"attributes\":{\"source\":{\"id\":\"1732\"}},\"id\":\"1739\",\"type\":\"CDSView\"},{\"attributes\":{\"source\":{\"id\":\"1689\"}},\"id\":\"1696\",\"type\":\"CDSView\"},{\"attributes\":{\"fill_alpha\":{\"value\":0.1},\"fill_color\":{\"value\":\"#fc4f30\"},\"hatch_alpha\":{\"value\":0.1},\"hatch_color\":{\"value\":\"#fc4f30\"},\"line_alpha\":{\"value\":0.1},\"line_color\":{\"value\":\"#fc4f30\"},\"size\":{\"value\":5.477225575051661},\"x\":{\"field\":\"TotalCoinsMined\"},\"y\":{\"field\":\"TotalCoinSupply\"}},\"id\":\"1714\",\"type\":\"Scatter\"},{\"attributes\":{\"fill_alpha\":{\"value\":0.2},\"fill_color\":{\"value\":\"#fc4f30\"},\"hatch_alpha\":{\"value\":0.2},\"hatch_color\":{\"value\":\"#fc4f30\"},\"line_alpha\":{\"value\":0.2},\"line_color\":{\"value\":\"#fc4f30\"},\"size\":{\"value\":5.477225575051661},\"x\":{\"field\":\"TotalCoinsMined\"},\"y\":{\"field\":\"TotalCoinSupply\"}},\"id\":\"1715\",\"type\":\"Scatter\"},{\"attributes\":{\"source\":{\"id\":\"1710\"}},\"id\":\"1717\",\"type\":\"CDSView\"}],\"root_ids\":[\"1645\"]},\"title\":\"Bokeh Application\",\"version\":\"2.4.2\"}};\n",
       "    var render_items = [{\"docid\":\"0939133a-ee74-4f22-a5fa-5196dedc1558\",\"root_ids\":[\"1645\"],\"roots\":{\"1645\":\"be22e8e1-954c-45e8-8b1d-350dd25289cb\"}}];\n",
       "    root.Bokeh.embed.embed_items_notebook(docs_json, render_items);\n",
       "  }\n",
       "  if (root.Bokeh !== undefined && root.Bokeh.Panel !== undefined) {\n",
       "    embed_document(root);\n",
       "  } else {\n",
       "    var attempts = 0;\n",
       "    var timer = setInterval(function(root) {\n",
       "      if (root.Bokeh !== undefined && root.Bokeh.Panel !== undefined) {\n",
       "        clearInterval(timer);\n",
       "        embed_document(root);\n",
       "      } else if (document.readyState == \"complete\") {\n",
       "        attempts++;\n",
       "        if (attempts > 200) {\n",
       "          clearInterval(timer);\n",
       "          console.log(\"Bokeh: ERROR: Unable to run BokehJS code because BokehJS library is missing\");\n",
       "        }\n",
       "      }\n",
       "    }, 25, root)\n",
       "  }\n",
       "})(window);</script>"
      ],
      "text/plain": [
       ":NdOverlay   [class]\n",
       "   :Scatter   [TotalCoinsMined]   (TotalCoinSupply,CoinName)"
      ]
     },
     "execution_count": 191,
     "metadata": {
      "application/vnd.holoviews_exec.v0+json": {
       "id": "1645"
      }
     },
     "output_type": "execute_result"
    }
   ],
   "source": [
    "# Create a hvplot.scatter plot using x=\"TotalCoinsMined\" and y=\"TotalCoinSupply\".\n",
    "\n",
    "df_tradable.hvplot.scatter(\n",
    "    x='TotalCoinsMined',\n",
    "    y='TotalCoinSupply',\n",
    "    hover_cols=['CoinName'],\n",
    "    by='class'\n",
    ")\n"
   ]
  },
  {
   "cell_type": "code",
   "execution_count": null,
   "metadata": {},
   "outputs": [],
   "source": []
  }
 ],
 "metadata": {
  "file_extension": ".py",
  "kernelspec": {
   "display_name": "mlenv",
   "language": "python",
   "name": "mlenv"
  },
  "language_info": {
   "codemirror_mode": {
    "name": "ipython",
    "version": 3
   },
   "file_extension": ".py",
   "mimetype": "text/x-python",
   "name": "python",
   "nbconvert_exporter": "python",
   "pygments_lexer": "ipython3",
   "version": "3.9.7"
  },
  "latex_envs": {
   "LaTeX_envs_menu_present": true,
   "autoclose": false,
   "autocomplete": true,
   "bibliofile": "biblio.bib",
   "cite_by": "apalike",
   "current_citInitial": 1,
   "eqLabelWithNumbers": true,
   "eqNumInitial": 1,
   "hotkeys": {
    "equation": "Ctrl-E",
    "itemize": "Ctrl-I"
   },
   "labels_anchors": false,
   "latex_user_defs": false,
   "report_style_numbering": false,
   "user_envs_cfg": false
  },
  "mimetype": "text/x-python",
  "name": "python",
  "npconvert_exporter": "python",
  "pygments_lexer": "ipython3",
  "version": 3
 },
 "nbformat": 4,
 "nbformat_minor": 2
}
